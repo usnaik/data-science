{
  "nbformat": 4,
  "nbformat_minor": 5,
  "metadata": {
    "kernelspec": {
      "display_name": "Python 3",
      "language": "python",
      "name": "python3"
    },
    "language_info": {
      "codemirror_mode": {
        "name": "ipython",
        "version": 3
      },
      "file_extension": ".py",
      "mimetype": "text/x-python",
      "name": "python",
      "nbconvert_exporter": "python",
      "pygments_lexer": "ipython3",
      "version": "3.9.2"
    },
    "colab": {
      "provenance": [],
      "include_colab_link": true
    }
  },
  "cells": [
    {
      "cell_type": "markdown",
      "metadata": {
        "id": "view-in-github",
        "colab_type": "text"
      },
      "source": [
        "<a href=\"https://colab.research.google.com/github/usnaik/data-science/blob/main/UN_M7_NB_MiniProject_3_Complex_Analytics_Pyspark.ipynb\" target=\"_parent\"><img src=\"https://colab.research.google.com/assets/colab-badge.svg\" alt=\"Open In Colab\"/></a>"
      ]
    },
    {
      "cell_type": "markdown",
      "metadata": {
        "id": "correct-ecology"
      },
      "source": [
        "# Advanced Certification Program in Computational Data Science\n",
        "## A program by IISc and TalentSprint\n",
        "### Mini-Project: Complex Analytics using Pyspark"
      ],
      "id": "correct-ecology"
    },
    {
      "cell_type": "markdown",
      "metadata": {
        "id": "terminal-strip"
      },
      "source": [
        "## Problem Statement"
      ],
      "id": "terminal-strip"
    },
    {
      "cell_type": "markdown",
      "metadata": {
        "id": "supported-supplement"
      },
      "source": [
        "Perform complex analytics on a network intrusion dataset using Pyspark"
      ],
      "id": "supported-supplement"
    },
    {
      "cell_type": "markdown",
      "metadata": {
        "id": "decimal-replication"
      },
      "source": [
        "## Learning Objectives"
      ],
      "id": "decimal-replication"
    },
    {
      "cell_type": "markdown",
      "metadata": {
        "id": "informational-yacht"
      },
      "source": [
        "At the end of the mini-project, you will be able to :\n",
        "\n",
        "* analyze the data using Pyspark\n",
        "* implement RDD based operations on the data\n",
        "* derive insights from the complex data"
      ],
      "id": "informational-yacht"
    },
    {
      "cell_type": "markdown",
      "metadata": {
        "id": "quality-approval"
      },
      "source": [
        "### Dataset"
      ],
      "id": "quality-approval"
    },
    {
      "cell_type": "markdown",
      "metadata": {
        "id": "biblical-syracuse"
      },
      "source": [
        "The dataset chosen for this mini-project is a [10% subset](https://www.kdd.org/kdd-cup/view/kdd-cup-1999/Data) of the **[KDD Cup 1999 dataset](http://kdd.ics.uci.edu/databases/kddcup99/task.html)** (Computer network intrusion detection). This is the dataset used for the Third International Knowledge Discovery and Data Mining Tools Competition. The competition task was to build a network intrusion detector, a predictive model capable of distinguishing between ``bad`` connections, called intrusions or attacks, and ``good`` normal connections. This database contains a standard set of data to be audited, which includes a wide variety of intrusions simulated in a military network environment."
      ],
      "id": "biblical-syracuse"
    },
    {
      "cell_type": "markdown",
      "metadata": {
        "id": "listed-numbers"
      },
      "source": [
        "## Information"
      ],
      "id": "listed-numbers"
    },
    {
      "cell_type": "markdown",
      "metadata": {
        "id": "skilled-concern"
      },
      "source": [
        "Since 1999, KDD’99 has been the most widely used data set for the evaluation of anomaly detection methods. This data set is prepared by S. J. Stolfo and is built based on the data captured in DARPA’98 IDS evaluation program. DARPA’98 is about 4 gigabytes of compressed raw (binary) tcpdump data of 7 weeks of network traffic, which can be processed into about 5 million connection\n",
        "records, each with about 100 bytes. KDD dataset consists of approximately 4,900,000 single connection vectors each of which contains 41 features and is labeled as either normal or an attack, with exactly one specific attack type. The simulated attacks fall into one of the following four categories:\n",
        "\n",
        "* Denial of Service Attack (DoS): making some computing or memory resources too busy so that they deny legitimate users access to these resources.\n",
        "* User to Root Attack (U2R): unauthorized access from a remote machine according to exploit machine's vulnerabilities.\n",
        "* Remote to Local Attack (R2L): unauthorized access to local super user (root) privileges using system's susceptibility.\n",
        "* Probing Attack: host and port scans as precursors to other attacks. An attacker scans a network to gather information or find known vulnerabilities.\n",
        "\n",
        "KDD’99 features can be classified into three groups:\n",
        "\n",
        "1) Basic features: this category encapsulates all the attributes that can be extracted from a TCP/IP connection. Most of these features leading to an implicit delay in detection.\n",
        "\n",
        "2) Traffic features: this category includes features that are computed with respect to a window interval and is divided into two groups:\n",
        "\n",
        "  * \"same host\" features\n",
        "\n",
        "  * \"same service\" features\n",
        "\n",
        "3) Content features: unlike most of the DoS and Probing attacks, the R2L and U2R attacks don’t have any intrusion frequent sequential patterns. This is because the DoS and Probing attacks involve many connections to some host(s) in a very short period of time, however the R2L and U2R attacks are embedded in the data portions of the packets, and normally involve only a single connection. To detect these kinds of attacks, we need some features to be able to look for suspicious behavior in the data portion, e.g., the number of failed login attempts. These features are called content features."
      ],
      "id": "skilled-concern"
    },
    {
      "cell_type": "markdown",
      "metadata": {
        "id": "BewwTjZaJojg"
      },
      "source": [
        "## Grading = 10 Points"
      ],
      "id": "BewwTjZaJojg"
    },
    {
      "cell_type": "code",
      "metadata": {
        "id": "extreme-working",
        "colab": {
          "base_uri": "https://localhost:8080/"
        },
        "outputId": "85a7ac65-8c38-4199-d620-1c87f92dd8a5"
      },
      "source": [
        "#@title Install packages and Download Dataset\n",
        "!pip -qq install pyspark\n",
        "# Download the data\n",
        "!wget -qq https://cdn.iisc.talentsprint.com/CDS/Datasets/kddcup.data_10_percent.gz\n",
        "# Download feature names\n",
        "!wget -qq https://cdn.iisc.talentsprint.com/CDS/Datasets/kddcup.names\n",
        "print(\"Successfully Installed packages and downloaded datasets!\")"
      ],
      "id": "extreme-working",
      "execution_count": null,
      "outputs": [
        {
          "output_type": "stream",
          "name": "stdout",
          "text": [
            "Successfully Installed packages and downloaded datasets!\n"
          ]
        }
      ]
    },
    {
      "cell_type": "markdown",
      "metadata": {
        "id": "6VwMxTT0KObc"
      },
      "source": [
        "### Create Spark Session and load the data (1 point)"
      ],
      "id": "6VwMxTT0KObc"
    },
    {
      "cell_type": "markdown",
      "metadata": {
        "id": "italic-gross"
      },
      "source": [
        "#### Import required packages"
      ],
      "id": "italic-gross"
    },
    {
      "cell_type": "code",
      "metadata": {
        "id": "published-remove"
      },
      "source": [
        "from pyspark.sql import SparkSession\n",
        "from pyspark.sql import SQLContext\n",
        "from pyspark.sql.functions import *\n",
        "from pyspark.mllib.stat import Statistics\n",
        "import seaborn as sns\n",
        "from matplotlib import pyplot as plt\n",
        "import numpy as np\n",
        "import pandas as pd\n",
        "from operator import add"
      ],
      "id": "published-remove",
      "execution_count": null,
      "outputs": []
    },
    {
      "cell_type": "markdown",
      "metadata": {
        "id": "proved-pressure"
      },
      "source": [
        "#### Create a Spark session\n",
        "\n",
        "A Spark session is a combined entry point of a Spark application, which came into implementation from Spark 2.0 (Instead of having various contexts, everything is encapsulated in a Spark session)"
      ],
      "id": "proved-pressure"
    },
    {
      "cell_type": "code",
      "source": [
        "# Start spark session\n",
        "spark = SparkSession.builder.appName('KDD99').getOrCreate()"
      ],
      "metadata": {
        "id": "VVMCnZjTnA0I"
      },
      "id": "VVMCnZjTnA0I",
      "execution_count": null,
      "outputs": []
    },
    {
      "cell_type": "markdown",
      "metadata": {
        "id": "coastal-communications"
      },
      "source": [
        "#### Creating an RDD from a File\n",
        "\n",
        "The most common way of creating an RDD is to load it from a file. Notice that Spark's textFile can handle compressed files directly."
      ],
      "id": "coastal-communications"
    },
    {
      "cell_type": "code",
      "metadata": {
        "id": "accredited-venture"
      },
      "source": [
        "# YOUR CODE HERE to access sparkContext from sparkSession instance.\n",
        "sc = spark.sparkContext"
      ],
      "id": "accredited-venture",
      "execution_count": null,
      "outputs": []
    },
    {
      "cell_type": "markdown",
      "metadata": {
        "id": "pY0QylZEYTvg"
      },
      "source": [
        "Load the dataset and show the top 10 records\n",
        "\n",
        "Hint: sparkContext.textFile()"
      ],
      "id": "pY0QylZEYTvg"
    },
    {
      "cell_type": "code",
      "metadata": {
        "id": "wound-repository",
        "colab": {
          "base_uri": "https://localhost:8080/"
        },
        "outputId": "0a96e3ba-3213-46b7-892c-c130e2ab1f10"
      },
      "source": [
        "filePath = \"/content/kddcup.data_10_percent.gz\"\n",
        "data = sc.textFile(filePath)\n",
        "for line in data.take(10):\n",
        "  print(line)"
      ],
      "id": "wound-repository",
      "execution_count": null,
      "outputs": [
        {
          "output_type": "stream",
          "name": "stdout",
          "text": [
            "0,tcp,http,SF,181,5450,0,0,0,0,0,1,0,0,0,0,0,0,0,0,0,0,8,8,0.00,0.00,0.00,0.00,1.00,0.00,0.00,9,9,1.00,0.00,0.11,0.00,0.00,0.00,0.00,0.00,normal.\n",
            "0,tcp,http,SF,239,486,0,0,0,0,0,1,0,0,0,0,0,0,0,0,0,0,8,8,0.00,0.00,0.00,0.00,1.00,0.00,0.00,19,19,1.00,0.00,0.05,0.00,0.00,0.00,0.00,0.00,normal.\n",
            "0,tcp,http,SF,235,1337,0,0,0,0,0,1,0,0,0,0,0,0,0,0,0,0,8,8,0.00,0.00,0.00,0.00,1.00,0.00,0.00,29,29,1.00,0.00,0.03,0.00,0.00,0.00,0.00,0.00,normal.\n",
            "0,tcp,http,SF,219,1337,0,0,0,0,0,1,0,0,0,0,0,0,0,0,0,0,6,6,0.00,0.00,0.00,0.00,1.00,0.00,0.00,39,39,1.00,0.00,0.03,0.00,0.00,0.00,0.00,0.00,normal.\n",
            "0,tcp,http,SF,217,2032,0,0,0,0,0,1,0,0,0,0,0,0,0,0,0,0,6,6,0.00,0.00,0.00,0.00,1.00,0.00,0.00,49,49,1.00,0.00,0.02,0.00,0.00,0.00,0.00,0.00,normal.\n",
            "0,tcp,http,SF,217,2032,0,0,0,0,0,1,0,0,0,0,0,0,0,0,0,0,6,6,0.00,0.00,0.00,0.00,1.00,0.00,0.00,59,59,1.00,0.00,0.02,0.00,0.00,0.00,0.00,0.00,normal.\n",
            "0,tcp,http,SF,212,1940,0,0,0,0,0,1,0,0,0,0,0,0,0,0,0,0,1,2,0.00,0.00,0.00,0.00,1.00,0.00,1.00,1,69,1.00,0.00,1.00,0.04,0.00,0.00,0.00,0.00,normal.\n",
            "0,tcp,http,SF,159,4087,0,0,0,0,0,1,0,0,0,0,0,0,0,0,0,0,5,5,0.00,0.00,0.00,0.00,1.00,0.00,0.00,11,79,1.00,0.00,0.09,0.04,0.00,0.00,0.00,0.00,normal.\n",
            "0,tcp,http,SF,210,151,0,0,0,0,0,1,0,0,0,0,0,0,0,0,0,0,8,8,0.00,0.00,0.00,0.00,1.00,0.00,0.00,8,89,1.00,0.00,0.12,0.04,0.00,0.00,0.00,0.00,normal.\n",
            "0,tcp,http,SF,212,786,0,0,0,1,0,1,0,0,0,0,0,0,0,0,0,0,8,8,0.00,0.00,0.00,0.00,1.00,0.00,0.00,8,99,1.00,0.00,0.12,0.05,0.00,0.00,0.00,0.00,normal.\n"
          ]
        }
      ]
    },
    {
      "cell_type": "markdown",
      "metadata": {
        "id": "hollow-offense"
      },
      "source": [
        "### RDD Basic Operations (4 points)"
      ],
      "id": "hollow-offense"
    },
    {
      "cell_type": "markdown",
      "metadata": {
        "id": "varying-amateur"
      },
      "source": [
        "#### Convert the data to CSV format (list of elements).\n",
        "\n",
        "To create a Dataframe using the RDD file, convert each row into a list by splitting with a comma (,)\n",
        "\n",
        "Hint: `map()` and `split()`"
      ],
      "id": "varying-amateur"
    },
    {
      "cell_type": "code",
      "source": [
        "csv_data = data.map(lambda line: line.split(','))\n",
        "print(\"First 10 rows in CSV format:\")\n",
        "for row in csv_data.take(10):\n",
        "  print(row)"
      ],
      "metadata": {
        "colab": {
          "base_uri": "https://localhost:8080/"
        },
        "id": "8MlYIogH217u",
        "outputId": "2fcdd3da-c858-411f-9c8d-784111aed1d9"
      },
      "id": "8MlYIogH217u",
      "execution_count": null,
      "outputs": [
        {
          "output_type": "stream",
          "name": "stdout",
          "text": [
            "First 10 rows in CSV format:\n",
            "['0', 'tcp', 'http', 'SF', '181', '5450', '0', '0', '0', '0', '0', '1', '0', '0', '0', '0', '0', '0', '0', '0', '0', '0', '8', '8', '0.00', '0.00', '0.00', '0.00', '1.00', '0.00', '0.00', '9', '9', '1.00', '0.00', '0.11', '0.00', '0.00', '0.00', '0.00', '0.00', 'normal.']\n",
            "['0', 'tcp', 'http', 'SF', '239', '486', '0', '0', '0', '0', '0', '1', '0', '0', '0', '0', '0', '0', '0', '0', '0', '0', '8', '8', '0.00', '0.00', '0.00', '0.00', '1.00', '0.00', '0.00', '19', '19', '1.00', '0.00', '0.05', '0.00', '0.00', '0.00', '0.00', '0.00', 'normal.']\n",
            "['0', 'tcp', 'http', 'SF', '235', '1337', '0', '0', '0', '0', '0', '1', '0', '0', '0', '0', '0', '0', '0', '0', '0', '0', '8', '8', '0.00', '0.00', '0.00', '0.00', '1.00', '0.00', '0.00', '29', '29', '1.00', '0.00', '0.03', '0.00', '0.00', '0.00', '0.00', '0.00', 'normal.']\n",
            "['0', 'tcp', 'http', 'SF', '219', '1337', '0', '0', '0', '0', '0', '1', '0', '0', '0', '0', '0', '0', '0', '0', '0', '0', '6', '6', '0.00', '0.00', '0.00', '0.00', '1.00', '0.00', '0.00', '39', '39', '1.00', '0.00', '0.03', '0.00', '0.00', '0.00', '0.00', '0.00', 'normal.']\n",
            "['0', 'tcp', 'http', 'SF', '217', '2032', '0', '0', '0', '0', '0', '1', '0', '0', '0', '0', '0', '0', '0', '0', '0', '0', '6', '6', '0.00', '0.00', '0.00', '0.00', '1.00', '0.00', '0.00', '49', '49', '1.00', '0.00', '0.02', '0.00', '0.00', '0.00', '0.00', '0.00', 'normal.']\n",
            "['0', 'tcp', 'http', 'SF', '217', '2032', '0', '0', '0', '0', '0', '1', '0', '0', '0', '0', '0', '0', '0', '0', '0', '0', '6', '6', '0.00', '0.00', '0.00', '0.00', '1.00', '0.00', '0.00', '59', '59', '1.00', '0.00', '0.02', '0.00', '0.00', '0.00', '0.00', '0.00', 'normal.']\n",
            "['0', 'tcp', 'http', 'SF', '212', '1940', '0', '0', '0', '0', '0', '1', '0', '0', '0', '0', '0', '0', '0', '0', '0', '0', '1', '2', '0.00', '0.00', '0.00', '0.00', '1.00', '0.00', '1.00', '1', '69', '1.00', '0.00', '1.00', '0.04', '0.00', '0.00', '0.00', '0.00', 'normal.']\n",
            "['0', 'tcp', 'http', 'SF', '159', '4087', '0', '0', '0', '0', '0', '1', '0', '0', '0', '0', '0', '0', '0', '0', '0', '0', '5', '5', '0.00', '0.00', '0.00', '0.00', '1.00', '0.00', '0.00', '11', '79', '1.00', '0.00', '0.09', '0.04', '0.00', '0.00', '0.00', '0.00', 'normal.']\n",
            "['0', 'tcp', 'http', 'SF', '210', '151', '0', '0', '0', '0', '0', '1', '0', '0', '0', '0', '0', '0', '0', '0', '0', '0', '8', '8', '0.00', '0.00', '0.00', '0.00', '1.00', '0.00', '0.00', '8', '89', '1.00', '0.00', '0.12', '0.04', '0.00', '0.00', '0.00', '0.00', 'normal.']\n",
            "['0', 'tcp', 'http', 'SF', '212', '786', '0', '0', '0', '1', '0', '1', '0', '0', '0', '0', '0', '0', '0', '0', '0', '0', '8', '8', '0.00', '0.00', '0.00', '0.00', '1.00', '0.00', '0.00', '8', '99', '1.00', '0.00', '0.12', '0.05', '0.00', '0.00', '0.00', '0.00', 'normal.']\n"
          ]
        }
      ]
    },
    {
      "cell_type": "markdown",
      "metadata": {
        "id": "restricted-bonus"
      },
      "source": [
        "Count how many interactions are normal and attacked in the dataset.\n",
        "\n",
        "Hint: apply `filter` on each row, except the rows with 'normal.', all the remaining values are attacked."
      ],
      "id": "restricted-bonus"
    },
    {
      "cell_type": "code",
      "metadata": {
        "id": "architectural-appraisal",
        "colab": {
          "base_uri": "https://localhost:8080/"
        },
        "outputId": "c71f7633-4de2-4846-e70b-8e3810f5438c"
      },
      "source": [
        "normal_count = csv_data.filter(lambda row: row[-1] == 'normal.').count()\n",
        "total_count = csv_data.count()\n",
        "attack_count = total_count - normal_count\n",
        "\n",
        "print(f\"Total interactions: {total_count}\")\n",
        "print(f\"Normal interactions: {normal_count}\")\n",
        "print(f\"Attacked interactions: {attack_count}\")"
      ],
      "id": "architectural-appraisal",
      "execution_count": null,
      "outputs": [
        {
          "output_type": "stream",
          "name": "stdout",
          "text": [
            "Total interactions: 494021\n",
            "Normal interactions: 97278\n",
            "Attacked interactions: 396743\n"
          ]
        }
      ]
    },
    {
      "cell_type": "markdown",
      "metadata": {
        "id": "flying-apartment"
      },
      "source": [
        "#### Protocol and Service combinations using Cartesian product\n",
        "\n",
        "We can compute the Cartesian product between two RDDs by using the Cartesian transformation. It returns all possible pairs of elements between two RDDs. In our case, we will use it to generate all the possible combinations between Service and Protocol in our network interactions.\n",
        "\n",
        "First of all, isolate each collection of values in two separate RDDs. For that use `distinct` on the CSV-parsed dataset. From the dataset description, we know that protocol is the second column and service is the third."
      ],
      "id": "flying-apartment"
    },
    {
      "cell_type": "code",
      "metadata": {
        "id": "automatic-turning",
        "colab": {
          "base_uri": "https://localhost:8080/"
        },
        "outputId": "fec30b15-4b02-45ba-a358-eea75ddea762"
      },
      "source": [
        "protocol_types = csv_data.map(lambda row: row[1]).distinct()\n",
        "service_types = csv_data.map(lambda row: row[2]).distinct()\n",
        "\n",
        "print(\"Distinct Protocol Types:\")\n",
        "for protocol in protocol_types.collect():\n",
        "  print(protocol)\n",
        "\n",
        "print(\"\\nDistinct Service Types:\")\n",
        "for service in service_types.collect():\n",
        "  print(service)"
      ],
      "id": "automatic-turning",
      "execution_count": null,
      "outputs": [
        {
          "output_type": "stream",
          "name": "stdout",
          "text": [
            "Distinct Protocol Types:\n",
            "tcp\n",
            "udp\n",
            "icmp\n",
            "\n",
            "Distinct Service Types:\n",
            "http\n",
            "smtp\n",
            "finger\n",
            "domain_u\n",
            "auth\n",
            "telnet\n",
            "ftp\n",
            "eco_i\n",
            "ntp_u\n",
            "ecr_i\n",
            "other\n",
            "private\n",
            "pop_3\n",
            "ftp_data\n",
            "rje\n",
            "time\n",
            "mtp\n",
            "link\n",
            "remote_job\n",
            "gopher\n",
            "ssh\n",
            "name\n",
            "whois\n",
            "domain\n",
            "login\n",
            "imap4\n",
            "daytime\n",
            "ctf\n",
            "nntp\n",
            "shell\n",
            "IRC\n",
            "nnsp\n",
            "http_443\n",
            "exec\n",
            "printer\n",
            "efs\n",
            "courier\n",
            "uucp\n",
            "klogin\n",
            "kshell\n",
            "echo\n",
            "discard\n",
            "systat\n",
            "supdup\n",
            "iso_tsap\n",
            "hostnames\n",
            "csnet_ns\n",
            "pop_2\n",
            "sunrpc\n",
            "uucp_path\n",
            "netbios_ns\n",
            "netbios_ssn\n",
            "netbios_dgm\n",
            "sql_net\n",
            "vmnet\n",
            "bgp\n",
            "Z39_50\n",
            "ldap\n",
            "netstat\n",
            "urh_i\n",
            "X11\n",
            "urp_i\n",
            "pm_dump\n",
            "tftp_u\n",
            "tim_i\n",
            "red_i\n"
          ]
        }
      ]
    },
    {
      "cell_type": "markdown",
      "metadata": {
        "id": "alleged-ranking"
      },
      "source": [
        "Now let's do the Cartesian product\n",
        "\n",
        "Hint: [Cartesian](https://spark.apache.org/docs/latest/api/python/reference/api/pyspark.RDD.cartesian.html#:~:text=Return%20the%20Cartesian%20product%20of,and%20b%20is%20in%20other%20.)"
      ],
      "id": "alleged-ranking"
    },
    {
      "cell_type": "code",
      "metadata": {
        "id": "focused-circulation",
        "colab": {
          "base_uri": "https://localhost:8080/"
        },
        "outputId": "4896b9dc-b8ef-4abd-bb47-aa2ddb482fe9"
      },
      "source": [
        "cartesian_product = protocol_types.cartesian(service_types)\n",
        "print(\"Cartesian Product of Protocol and Service Types (first 10):\")\n",
        "for item in cartesian_product.take(10):\n",
        "  print(item)"
      ],
      "id": "focused-circulation",
      "execution_count": null,
      "outputs": [
        {
          "output_type": "stream",
          "name": "stdout",
          "text": [
            "Cartesian Product of Protocol and Service Types (first 10):\n",
            "('tcp', 'http')\n",
            "('tcp', 'smtp')\n",
            "('tcp', 'finger')\n",
            "('tcp', 'domain_u')\n",
            "('tcp', 'auth')\n",
            "('tcp', 'telnet')\n",
            "('tcp', 'ftp')\n",
            "('tcp', 'eco_i')\n",
            "('tcp', 'ntp_u')\n",
            "('tcp', 'ecr_i')\n"
          ]
        }
      ]
    },
    {
      "cell_type": "code",
      "source": [
        "print(\n",
        "    \"protocol_types: \" + str(protocol_types.count()) + \"\\n\" +\n",
        "    \"service_types: \" + str(service_types.count()) + \"\\n\" +\n",
        "    \"cartesian_product: \" + str(cartesian_product.count()))"
      ],
      "metadata": {
        "colab": {
          "base_uri": "https://localhost:8080/"
        },
        "id": "lThCzShpsdon",
        "outputId": "4b50c72d-c94b-4c49-a02c-ce17796df89a"
      },
      "id": "lThCzShpsdon",
      "execution_count": null,
      "outputs": [
        {
          "output_type": "stream",
          "name": "stdout",
          "text": [
            "protocol_types: 3\n",
            "service_types: 66\n",
            "cartesian_product: 198\n"
          ]
        }
      ]
    },
    {
      "cell_type": "markdown",
      "metadata": {
        "id": "boolean-representation"
      },
      "source": [
        "#### Inspecting interaction duration\n",
        "\n",
        "select the total duration of interactions for normal and attack intrusion types.\n",
        "* Use the above filtered normal and attacked data and convert the duration column to integer type using `map()`\n",
        "* get the sum of duration by applying `reduce` on both the data using add operator\n",
        "* find the mean of duration by dividing the sum with count\n",
        "\n",
        "Hint: [reduce()](https://spark.apache.org/docs/latest/api/python/reference/api/pyspark.RDD.reduce.html)"
      ],
      "id": "boolean-representation"
    },
    {
      "cell_type": "code",
      "metadata": {
        "id": "requested-amateur"
      },
      "source": [
        "# Sum of duration by applying reduce on both the data using add operator\n",
        "normal_durations = csv_data.filter(lambda row: row[-1] == 'normal.').map(lambda row: int(row[0]))\n",
        "attack_durations = csv_data.filter(lambda row: row[-1] != 'normal.').map(lambda row: int(row[0]))"
      ],
      "id": "requested-amateur",
      "execution_count": null,
      "outputs": []
    },
    {
      "cell_type": "code",
      "metadata": {
        "id": "bulgarian-confidentiality",
        "colab": {
          "base_uri": "https://localhost:8080/"
        },
        "outputId": "a4b93df0-ad76-4274-e723-6ee8df5a298c"
      },
      "source": [
        "total_normal_duration = normal_durations.reduce(add)\n",
        "total_attack_duration = attack_durations.reduce(add)\n",
        "\n",
        "print(f\"Total duration for normal interactions: {total_normal_duration}\")\n",
        "print(f\"Total duration for attacked interactions: {total_attack_duration}\")"
      ],
      "id": "bulgarian-confidentiality",
      "execution_count": null,
      "outputs": [
        {
          "output_type": "stream",
          "name": "stdout",
          "text": [
            "Total duration for normal interactions: 21075991\n",
            "Total duration for attacked interactions: 2626792\n"
          ]
        }
      ]
    },
    {
      "cell_type": "code",
      "source": [
        "mean_normal_duration = total_normal_duration / normal_durations.count()\n",
        "mean_attack_duration = total_attack_duration / attack_durations.count()\n",
        "\n",
        "print(f\"Mean duration for normal interactions  : {mean_normal_duration}\")\n",
        "print(f\"Mean duration for attacked interactions: {mean_attack_duration}\")"
      ],
      "metadata": {
        "colab": {
          "base_uri": "https://localhost:8080/"
        },
        "id": "GxYkCTUeCAtl",
        "outputId": "812f89d7-4171-4285-9096-ab72285a3e7a"
      },
      "id": "GxYkCTUeCAtl",
      "execution_count": null,
      "outputs": [
        {
          "output_type": "stream",
          "name": "stdout",
          "text": [
            "Mean duration for normal interactions  : 216.65732231336992\n",
            "Mean duration for attacked interactions: 6.620890601724542\n"
          ]
        }
      ]
    },
    {
      "cell_type": "code",
      "source": [
        "# Exclude data points with duration=0.\n",
        "normal_durations = normal_durations.filter(lambda duration: duration > 0)\n",
        "attack_durations = attack_durations.filter(lambda duration: duration > 0)"
      ],
      "metadata": {
        "id": "uz1yglhO4I6B"
      },
      "id": "uz1yglhO4I6B",
      "execution_count": null,
      "outputs": []
    },
    {
      "cell_type": "code",
      "metadata": {
        "id": "directed-officer",
        "colab": {
          "base_uri": "https://localhost:8080/"
        },
        "outputId": "165ec1a1-c7c2-4c17-97db-f8c202fd6884"
      },
      "source": [
        "mean_normal_duration = total_normal_duration / normal_durations.count()\n",
        "mean_attack_duration = total_attack_duration / attack_durations.count()\n",
        "\n",
        "print(f\"Mean duration for normal interactions, excluding Nil duration  : {mean_normal_duration}\")\n",
        "print(f\"Mean duration for attacked interactions, excluding Nil duration: {mean_attack_duration}\")"
      ],
      "id": "directed-officer",
      "execution_count": null,
      "outputs": [
        {
          "output_type": "stream",
          "name": "stdout",
          "text": [
            "Mean duration for normal interactions, excluding Nil duration  : 1802.9076988879383\n",
            "Mean duration for attacked interactions, excluding Nil duration: 3979.987878787879\n"
          ]
        }
      ]
    },
    {
      "cell_type": "markdown",
      "metadata": {
        "id": "tested-auction"
      },
      "source": [
        "#### Data aggregation with key/value pair RDDs\n",
        "\n",
        "We can use all the transformations and actions available for normal RDDs with key/value pair RDDs. We just need to make the functions work with pair elements.\n",
        "\n",
        "* create a key/value pair of intrusion type and duration\n",
        "* calculate the total duration of each intrusion type using `reduceByKey()`"
      ],
      "id": "tested-auction"
    },
    {
      "cell_type": "code",
      "metadata": {
        "id": "chicken-logging",
        "colab": {
          "base_uri": "https://localhost:8080/"
        },
        "outputId": "293ccae3-cb6b-4746-971a-b71c7e3f8d59"
      },
      "source": [
        "intrusion_duration_pairs = csv_data.map(lambda row: (row[-1], int(row[0])))\n",
        "intrusion_duration_pairs_filtered = intrusion_duration_pairs.filter(lambda pair: pair[1] > 0)\n",
        "\n",
        "print(\"First 10 filtered intrusion type and duration pairs:\")\n",
        "for pair in intrusion_duration_pairs_filtered.take(10):\n",
        "  print(pair)"
      ],
      "id": "chicken-logging",
      "execution_count": null,
      "outputs": [
        {
          "output_type": "stream",
          "name": "stdout",
          "text": [
            "First 10 filtered intrusion type and duration pairs:\n",
            "('normal.', 1)\n",
            "('normal.', 79)\n",
            "('normal.', 102)\n",
            "('normal.', 1)\n",
            "('normal.', 1)\n",
            "('normal.', 1)\n",
            "('normal.', 1)\n",
            "('normal.', 8)\n",
            "('normal.', 7)\n",
            "('normal.', 4)\n"
          ]
        }
      ]
    },
    {
      "cell_type": "code",
      "source": [
        "total_duration_by_intrusion = intrusion_duration_pairs_filtered.reduceByKey(add)\n",
        "\n",
        "print(\"Total duration by intrusion type:\")\n",
        "for intrusion_type, total_duration in total_duration_by_intrusion.collect():\n",
        "  print(f\"{intrusion_type}: {total_duration}\")"
      ],
      "metadata": {
        "colab": {
          "base_uri": "https://localhost:8080/"
        },
        "id": "Bq9BHvBt6bun",
        "outputId": "6f42d255-831e-4768-9465-52ea1e9b4891"
      },
      "id": "Bq9BHvBt6bun",
      "execution_count": null,
      "outputs": [
        {
          "output_type": "stream",
          "name": "stdout",
          "text": [
            "Total duration by intrusion type:\n",
            "normal.: 21075991\n",
            "buffer_overflow.: 2751\n",
            "loadmodule.: 326\n",
            "perl.: 124\n",
            "guess_passwd.: 144\n",
            "portsweep.: 1991911\n",
            "ipsweep.: 43\n",
            "ftp_write.: 259\n",
            "back.: 284\n",
            "imap.: 72\n",
            "satan.: 64\n",
            "multihop.: 1288\n",
            "warezmaster.: 301\n",
            "phf.: 18\n",
            "warezclient.: 627563\n",
            "spy.: 636\n",
            "rootkit.: 1008\n"
          ]
        }
      ]
    },
    {
      "cell_type": "markdown",
      "metadata": {
        "id": "balanced-table"
      },
      "source": [
        "### Create a DataFrame with the header as features (2 points)"
      ],
      "id": "balanced-table"
    },
    {
      "cell_type": "markdown",
      "metadata": {
        "id": "Y-S3RgOYdghm"
      },
      "source": [
        "* Read the features (*kddcup.names*) and preprocess.\n",
        "\n",
        "    Hints:\n",
        "    - Each feature description appears row-wise in *kddcup.names*\n",
        "    - The first row consists of distinct values of intrusion_types\n",
        "    - Add or move the *intrusion_types* column name to the last, to align with the data.\n",
        "    - Each feature is represented as *feature_name*: *type*, remove *type* after colon (:)"
      ],
      "id": "Y-S3RgOYdghm"
    },
    {
      "cell_type": "code",
      "metadata": {
        "id": "stylish-chance",
        "colab": {
          "base_uri": "https://localhost:8080/"
        },
        "outputId": "4a2e5156-634a-4590-d863-c5fce989ff8d"
      },
      "source": [
        "with open(\"/content/kddcup.names\", 'r') as f:\n",
        "    feature_names = [line.strip() for line in f.readlines()]\n",
        "\n",
        "# The first line contains intrusion types, which is not a feature name\n",
        "intrusion_types_line = feature_names.pop(0)\n",
        "\n",
        "# Extract feature names by removing the data type after the colon\n",
        "feature_names = [name.split(':')[0] for name in feature_names]\n",
        "\n",
        "# Add 'intrusion_type' as the last column name to match the data\n",
        "feature_names.append('intrusion_type')\n",
        "\n",
        "print(\"Processed Feature Names:\")\n",
        "print(feature_names)"
      ],
      "id": "stylish-chance",
      "execution_count": null,
      "outputs": [
        {
          "output_type": "stream",
          "name": "stdout",
          "text": [
            "Processed Feature Names:\n",
            "['duration', 'protocol_type', 'service', 'flag', 'src_bytes', 'dst_bytes', 'land', 'wrong_fragment', 'urgent', 'hot', 'num_failed_logins', 'logged_in', 'num_compromised', 'root_shell', 'su_attempted', 'num_root', 'num_file_creations', 'num_shells', 'num_access_files', 'num_outbound_cmds', 'is_host_login', 'is_guest_login', 'count', 'srv_count', 'serror_rate', 'srv_serror_rate', 'rerror_rate', 'srv_rerror_rate', 'same_srv_rate', 'diff_srv_rate', 'srv_diff_host_rate', 'dst_host_count', 'dst_host_srv_count', 'dst_host_same_srv_rate', 'dst_host_diff_srv_rate', 'dst_host_same_src_port_rate', 'dst_host_srv_diff_host_rate', 'dst_host_serror_rate', 'dst_host_srv_serror_rate', 'dst_host_rerror_rate', 'dst_host_srv_rerror_rate', 'intrusion_type']\n"
          ]
        }
      ]
    },
    {
      "cell_type": "markdown",
      "metadata": {
        "id": "XA-HDFEIdlwd"
      },
      "source": [
        "* Create a dataframe with the data and headers as preprocessed feature names"
      ],
      "id": "XA-HDFEIdlwd"
    },
    {
      "cell_type": "code",
      "metadata": {
        "id": "MJh_-plCdlZ1",
        "colab": {
          "base_uri": "https://localhost:8080/"
        },
        "outputId": "0df7ee13-d983-4570-a281-a2704bfd32ca"
      },
      "source": [
        "from pyspark.sql.types import StructType, StructField, StringType, IntegerType, FloatType\n",
        "from pyspark.sql.functions import col\n",
        "\n",
        "# Create a schema with all StringType to avoid initial type errors\n",
        "string_schema = StructType([StructField(col_name, StringType(), True) for col_name in feature_names])\n",
        "\n",
        "# Create DataFrame with string schema\n",
        "df = spark.createDataFrame(csv_data, string_schema)\n",
        "\n",
        "# Define the correct schema with appropriate types\n",
        "correct_schema_fields = []\n",
        "for i in range(len(feature_names)):\n",
        "    col_name = feature_names[i]\n",
        "    # Manually define types for known numeric columns\n",
        "    if col_name in ['duration', 'src_bytes', 'dst_bytes', 'land', 'wrong_fragment', 'urgent', 'hot', 'num_failed_logins', 'logged_in', 'num_compromised', 'root_shell', 'su_attempted', 'num_root', 'num_file_creations', 'num_shells', 'num_access_files', 'num_outbound_cmds', 'is_host_login', 'is_guest_login', 'count', 'srv_count', 'dst_host_count', 'dst_host_srv_count']:\n",
        "        correct_schema_fields.append(StructField(col_name, IntegerType(), True))\n",
        "    elif col_name in ['serror_rate', 'srv_serror_rate', 'rerror_rate', 'srv_rerror_rate', 'same_srv_rate', 'diff_srv_rate', 'srv_diff_host_rate', 'dst_host_same_srv_rate', 'dst_host_diff_srv_rate', 'dst_host_same_src_port_rate', 'dst_host_srv_diff_host_rate', 'dst_host_serror_rate', 'dst_host_srv_serror_rate', 'dst_host_rerror_rate', 'dst_host_srv_rerror_rate']:\n",
        "        correct_schema_fields.append(StructField(col_name, FloatType(), True))\n",
        "    else:\n",
        "        correct_schema_fields.append(StructField(col_name, StringType(), True))\n",
        "\n",
        "correct_schema = StructType(correct_schema_fields)\n",
        "\n",
        "# Cast columns to the correct types\n",
        "for field in correct_schema.fields:\n",
        "    df = df.withColumn(field.name, col(field.name).cast(field.dataType))\n",
        "\n",
        "print(\"DataFrame Schema:\")\n",
        "df.printSchema()\n",
        "\n",
        "print(\"\\nFirst 5 rows of the DataFrame:\")\n",
        "df.show(5)"
      ],
      "id": "MJh_-plCdlZ1",
      "execution_count": null,
      "outputs": [
        {
          "output_type": "stream",
          "name": "stdout",
          "text": [
            "DataFrame Schema:\n",
            "root\n",
            " |-- duration: integer (nullable = true)\n",
            " |-- protocol_type: string (nullable = true)\n",
            " |-- service: string (nullable = true)\n",
            " |-- flag: string (nullable = true)\n",
            " |-- src_bytes: integer (nullable = true)\n",
            " |-- dst_bytes: integer (nullable = true)\n",
            " |-- land: integer (nullable = true)\n",
            " |-- wrong_fragment: integer (nullable = true)\n",
            " |-- urgent: integer (nullable = true)\n",
            " |-- hot: integer (nullable = true)\n",
            " |-- num_failed_logins: integer (nullable = true)\n",
            " |-- logged_in: integer (nullable = true)\n",
            " |-- num_compromised: integer (nullable = true)\n",
            " |-- root_shell: integer (nullable = true)\n",
            " |-- su_attempted: integer (nullable = true)\n",
            " |-- num_root: integer (nullable = true)\n",
            " |-- num_file_creations: integer (nullable = true)\n",
            " |-- num_shells: integer (nullable = true)\n",
            " |-- num_access_files: integer (nullable = true)\n",
            " |-- num_outbound_cmds: integer (nullable = true)\n",
            " |-- is_host_login: integer (nullable = true)\n",
            " |-- is_guest_login: integer (nullable = true)\n",
            " |-- count: integer (nullable = true)\n",
            " |-- srv_count: integer (nullable = true)\n",
            " |-- serror_rate: float (nullable = true)\n",
            " |-- srv_serror_rate: float (nullable = true)\n",
            " |-- rerror_rate: float (nullable = true)\n",
            " |-- srv_rerror_rate: float (nullable = true)\n",
            " |-- same_srv_rate: float (nullable = true)\n",
            " |-- diff_srv_rate: float (nullable = true)\n",
            " |-- srv_diff_host_rate: float (nullable = true)\n",
            " |-- dst_host_count: integer (nullable = true)\n",
            " |-- dst_host_srv_count: integer (nullable = true)\n",
            " |-- dst_host_same_srv_rate: float (nullable = true)\n",
            " |-- dst_host_diff_srv_rate: float (nullable = true)\n",
            " |-- dst_host_same_src_port_rate: float (nullable = true)\n",
            " |-- dst_host_srv_diff_host_rate: float (nullable = true)\n",
            " |-- dst_host_serror_rate: float (nullable = true)\n",
            " |-- dst_host_srv_serror_rate: float (nullable = true)\n",
            " |-- dst_host_rerror_rate: float (nullable = true)\n",
            " |-- dst_host_srv_rerror_rate: float (nullable = true)\n",
            " |-- intrusion_type: string (nullable = true)\n",
            "\n",
            "\n",
            "First 5 rows of the DataFrame:\n",
            "+--------+-------------+-------+----+---------+---------+----+--------------+------+---+-----------------+---------+---------------+----------+------------+--------+------------------+----------+----------------+-----------------+-------------+--------------+-----+---------+-----------+---------------+-----------+---------------+-------------+-------------+------------------+--------------+------------------+----------------------+----------------------+---------------------------+---------------------------+--------------------+------------------------+--------------------+------------------------+--------------+\n",
            "|duration|protocol_type|service|flag|src_bytes|dst_bytes|land|wrong_fragment|urgent|hot|num_failed_logins|logged_in|num_compromised|root_shell|su_attempted|num_root|num_file_creations|num_shells|num_access_files|num_outbound_cmds|is_host_login|is_guest_login|count|srv_count|serror_rate|srv_serror_rate|rerror_rate|srv_rerror_rate|same_srv_rate|diff_srv_rate|srv_diff_host_rate|dst_host_count|dst_host_srv_count|dst_host_same_srv_rate|dst_host_diff_srv_rate|dst_host_same_src_port_rate|dst_host_srv_diff_host_rate|dst_host_serror_rate|dst_host_srv_serror_rate|dst_host_rerror_rate|dst_host_srv_rerror_rate|intrusion_type|\n",
            "+--------+-------------+-------+----+---------+---------+----+--------------+------+---+-----------------+---------+---------------+----------+------------+--------+------------------+----------+----------------+-----------------+-------------+--------------+-----+---------+-----------+---------------+-----------+---------------+-------------+-------------+------------------+--------------+------------------+----------------------+----------------------+---------------------------+---------------------------+--------------------+------------------------+--------------------+------------------------+--------------+\n",
            "|       0|          tcp|   http|  SF|      181|     5450|   0|             0|     0|  0|                0|        1|              0|         0|           0|       0|                 0|         0|               0|                0|            0|             0|    8|        8|        0.0|            0.0|        0.0|            0.0|          1.0|          0.0|               0.0|             9|                 9|                   1.0|                   0.0|                       0.11|                        0.0|                 0.0|                     0.0|                 0.0|                     0.0|       normal.|\n",
            "|       0|          tcp|   http|  SF|      239|      486|   0|             0|     0|  0|                0|        1|              0|         0|           0|       0|                 0|         0|               0|                0|            0|             0|    8|        8|        0.0|            0.0|        0.0|            0.0|          1.0|          0.0|               0.0|            19|                19|                   1.0|                   0.0|                       0.05|                        0.0|                 0.0|                     0.0|                 0.0|                     0.0|       normal.|\n",
            "|       0|          tcp|   http|  SF|      235|     1337|   0|             0|     0|  0|                0|        1|              0|         0|           0|       0|                 0|         0|               0|                0|            0|             0|    8|        8|        0.0|            0.0|        0.0|            0.0|          1.0|          0.0|               0.0|            29|                29|                   1.0|                   0.0|                       0.03|                        0.0|                 0.0|                     0.0|                 0.0|                     0.0|       normal.|\n",
            "|       0|          tcp|   http|  SF|      219|     1337|   0|             0|     0|  0|                0|        1|              0|         0|           0|       0|                 0|         0|               0|                0|            0|             0|    6|        6|        0.0|            0.0|        0.0|            0.0|          1.0|          0.0|               0.0|            39|                39|                   1.0|                   0.0|                       0.03|                        0.0|                 0.0|                     0.0|                 0.0|                     0.0|       normal.|\n",
            "|       0|          tcp|   http|  SF|      217|     2032|   0|             0|     0|  0|                0|        1|              0|         0|           0|       0|                 0|         0|               0|                0|            0|             0|    6|        6|        0.0|            0.0|        0.0|            0.0|          1.0|          0.0|               0.0|            49|                49|                   1.0|                   0.0|                       0.02|                        0.0|                 0.0|                     0.0|                 0.0|                     0.0|       normal.|\n",
            "+--------+-------------+-------+----+---------+---------+----+--------------+------+---+-----------------+---------+---------------+----------+------------+--------+------------------+----------+----------------+-----------------+-------------+--------------+-----+---------+-----------+---------------+-----------+---------------+-------------+-------------+------------------+--------------+------------------+----------------------+----------------------+---------------------------+---------------------------+--------------------+------------------------+--------------------+------------------------+--------------+\n",
            "only showing top 5 rows\n",
            "\n"
          ]
        }
      ]
    },
    {
      "cell_type": "markdown",
      "metadata": {
        "id": "numerous-montreal"
      },
      "source": [
        "#### What is the count of each protocol type?\n",
        "\n",
        "Hint: apply `groupby` on protocol_type and count the records"
      ],
      "id": "numerous-montreal"
    },
    {
      "cell_type": "code",
      "metadata": {
        "id": "unusual-arizona",
        "colab": {
          "base_uri": "https://localhost:8080/"
        },
        "outputId": "29694ddd-c5d5-42a6-d75a-ad2c44a8b8af"
      },
      "source": [
        "protocol_counts = df.groupBy(\"protocol_type\").count()\n",
        "print(\"Count of each protocol type:\")\n",
        "protocol_counts.show()"
      ],
      "id": "unusual-arizona",
      "execution_count": null,
      "outputs": [
        {
          "output_type": "stream",
          "name": "stdout",
          "text": [
            "Count of each protocol type:\n",
            "+-------------+------+\n",
            "|protocol_type| count|\n",
            "+-------------+------+\n",
            "|          tcp|190065|\n",
            "|          udp| 20354|\n",
            "|         icmp|283602|\n",
            "+-------------+------+\n",
            "\n"
          ]
        }
      ]
    },
    {
      "cell_type": "markdown",
      "metadata": {
        "id": "liable-edgar"
      },
      "source": [
        "#### Register the DataFrame as a temporary table and extract the data using queries\n",
        "\n",
        "Hint: [registerTempTable](https://spark.apache.org/docs/latest/api/python/reference/pyspark.sql/api/pyspark.sql.DataFrame.registerTempTable.html)"
      ],
      "id": "liable-edgar"
    },
    {
      "cell_type": "code",
      "metadata": {
        "id": "_NA8e0kTefVr",
        "colab": {
          "base_uri": "https://localhost:8080/"
        },
        "outputId": "3e0bfcb7-611b-4391-f4c3-ba556916adea"
      },
      "source": [
        "df.createOrReplaceTempView(\"kddcup_data\")\n",
        "print(\"DataFrame registered as temporary table 'kddcup_data'\")"
      ],
      "id": "_NA8e0kTefVr",
      "execution_count": null,
      "outputs": [
        {
          "output_type": "stream",
          "name": "stdout",
          "text": [
            "DataFrame registered as temporary table 'kddcup_data'\n"
          ]
        }
      ]
    },
    {
      "cell_type": "markdown",
      "metadata": {
        "id": "PWOzPDAveLmd"
      },
      "source": [
        "* query to extract the label and their frequencies\n",
        "\n",
        " Hint: `SQLContext.sql(query)`"
      ],
      "id": "PWOzPDAveLmd"
    },
    {
      "cell_type": "code",
      "metadata": {
        "id": "thirty-automation",
        "colab": {
          "base_uri": "https://localhost:8080/"
        },
        "outputId": "c17fbcaf-f2ac-4416-c24f-1ea59b0ec96f"
      },
      "source": [
        "label_frequencies = spark.sql(\"SELECT intrusion_type, COUNT(*) as frequency FROM kddcup_data GROUP BY intrusion_type\")\n",
        "print(\"Label and their frequencies:\")\n",
        "label_frequencies.show()"
      ],
      "id": "thirty-automation",
      "execution_count": null,
      "outputs": [
        {
          "output_type": "stream",
          "name": "stdout",
          "text": [
            "Label and their frequencies:\n",
            "+----------------+---------+\n",
            "|  intrusion_type|frequency|\n",
            "+----------------+---------+\n",
            "|    warezmaster.|       20|\n",
            "|          smurf.|   280790|\n",
            "|            pod.|      264|\n",
            "|           imap.|       12|\n",
            "|           nmap.|      231|\n",
            "|   guess_passwd.|       53|\n",
            "|        ipsweep.|     1247|\n",
            "|      portsweep.|     1040|\n",
            "|          satan.|     1589|\n",
            "|           land.|       21|\n",
            "|     loadmodule.|        9|\n",
            "|      ftp_write.|        8|\n",
            "|buffer_overflow.|       30|\n",
            "|        rootkit.|       10|\n",
            "|    warezclient.|     1020|\n",
            "|       teardrop.|      979|\n",
            "|           perl.|        3|\n",
            "|            phf.|        4|\n",
            "|       multihop.|        7|\n",
            "|        neptune.|   107201|\n",
            "+----------------+---------+\n",
            "only showing top 20 rows\n",
            "\n"
          ]
        }
      ]
    },
    {
      "cell_type": "markdown",
      "metadata": {
        "id": "dQ4d2Y8SeP48"
      },
      "source": [
        "* select the distinct protocol types with their count of transactions which are not normal"
      ],
      "id": "dQ4d2Y8SeP48"
    },
    {
      "cell_type": "code",
      "metadata": {
        "id": "respiratory-parking",
        "colab": {
          "base_uri": "https://localhost:8080/"
        },
        "outputId": "d6f92118-5d19-4444-b323-cf373a1ecc39"
      },
      "source": [
        "non_normal_protocol_counts = spark.sql(\"SELECT protocol_type, COUNT(*) as count FROM kddcup_data WHERE intrusion_type != 'normal.' GROUP BY protocol_type\")\n",
        "print(\"Distinct protocol types and count of non-normal transactions:\")\n",
        "non_normal_protocol_counts.show()"
      ],
      "id": "respiratory-parking",
      "execution_count": null,
      "outputs": [
        {
          "output_type": "stream",
          "name": "stdout",
          "text": [
            "Distinct protocol types and count of non-normal transactions:\n",
            "+-------------+------+\n",
            "|protocol_type| count|\n",
            "+-------------+------+\n",
            "|          tcp|113252|\n",
            "|          udp|  1177|\n",
            "|         icmp|282314|\n",
            "+-------------+------+\n",
            "\n"
          ]
        }
      ]
    },
    {
      "cell_type": "markdown",
      "metadata": {
        "id": "AGUDJ92yeSBa"
      },
      "source": [
        "* select count of transactions in each protocol type that lasts more than 1 second (duration > 1000), with no data transfer from destination (dst_bytes == 0)"
      ],
      "id": "AGUDJ92yeSBa"
    },
    {
      "cell_type": "code",
      "metadata": {
        "id": "conventional-driving",
        "colab": {
          "base_uri": "https://localhost:8080/"
        },
        "outputId": "1e565395-c01d-44da-d027-9b16781b8077"
      },
      "source": [
        "query = \"\"\"\n",
        "SELECT protocol_type, COUNT(*) as count\n",
        "FROM kddcup_data\n",
        "WHERE duration > 1000 AND dst_bytes == 0\n",
        "GROUP BY protocol_type\n",
        "\"\"\"\n",
        "transaction_counts = spark.sql(query)\n",
        "print(\"Count of transactions by protocol type with duration > 1000 and dst_bytes == 0:\")\n",
        "transaction_counts.show()"
      ],
      "id": "conventional-driving",
      "execution_count": null,
      "outputs": [
        {
          "output_type": "stream",
          "name": "stdout",
          "text": [
            "Count of transactions by protocol type with duration > 1000 and dst_bytes == 0:\n",
            "+-------------+-----+\n",
            "|protocol_type|count|\n",
            "+-------------+-----+\n",
            "|          tcp|  139|\n",
            "+-------------+-----+\n",
            "\n"
          ]
        }
      ]
    },
    {
      "cell_type": "markdown",
      "metadata": {
        "id": "likely-gambling"
      },
      "source": [
        "### Find the highly correlated columns (2 points)\n",
        "\n",
        "* identify the columns which are not integer type and remove those columns\n",
        "* apply correlation function on the data (Hint: `Statistics.corr()`)\n",
        "* collect the names of the columns on which correlation is applied\n",
        "* create a dataframe with correlation matrix with index and columns as names\n",
        "* get the highly correlated features by considering a correlation value greater than 0.8\n",
        "\n",
        "    Hint: `np.triu()` , `pd.mask()`"
      ],
      "id": "likely-gambling"
    },
    {
      "cell_type": "code",
      "metadata": {
        "id": "cooked-promise",
        "colab": {
          "base_uri": "https://localhost:8080/"
        },
        "outputId": "ce081ca4-c76c-4185-e762-83343f4939be"
      },
      "source": [
        "from pyspark.ml.feature import VectorAssembler\n",
        "from pyspark.mllib.stat import Statistics\n",
        "import pandas as pd\n",
        "import numpy as np\n",
        "\n",
        "# Identify numeric columns (excluding the label column)\n",
        "numeric_cols = [field.name for field in df.schema.fields if isinstance(field.dataType, (IntegerType, FloatType)) and field.name != 'intrusion_type']\n",
        "\n",
        "print(\"Numeric columns for correlation analysis:\")\n",
        "print(numeric_cols)"
      ],
      "id": "cooked-promise",
      "execution_count": null,
      "outputs": [
        {
          "output_type": "stream",
          "name": "stdout",
          "text": [
            "Numeric columns for correlation analysis:\n",
            "['duration', 'src_bytes', 'dst_bytes', 'land', 'wrong_fragment', 'urgent', 'hot', 'num_failed_logins', 'logged_in', 'num_compromised', 'root_shell', 'su_attempted', 'num_root', 'num_file_creations', 'num_shells', 'num_access_files', 'num_outbound_cmds', 'is_host_login', 'is_guest_login', 'count', 'srv_count', 'serror_rate', 'srv_serror_rate', 'rerror_rate', 'srv_rerror_rate', 'same_srv_rate', 'diff_srv_rate', 'srv_diff_host_rate', 'dst_host_count', 'dst_host_srv_count', 'dst_host_same_srv_rate', 'dst_host_diff_srv_rate', 'dst_host_same_src_port_rate', 'dst_host_srv_diff_host_rate', 'dst_host_serror_rate', 'dst_host_srv_serror_rate', 'dst_host_rerror_rate', 'dst_host_srv_rerror_rate']\n"
          ]
        }
      ]
    },
    {
      "cell_type": "code",
      "metadata": {
        "id": "polish-claim",
        "colab": {
          "base_uri": "https://localhost:8080/"
        },
        "outputId": "9bd51638-09c9-43dd-8abc-ee19ee59448f"
      },
      "source": [
        "from pyspark.ml.feature import VectorAssembler\n",
        "from pyspark.ml.stat import Correlation\n",
        "import pandas as pd\n",
        "import numpy as np\n",
        "\n",
        "# Assemble numeric columns into a vector column\n",
        "assembler = VectorAssembler(inputCols=numeric_cols, outputCol=\"features\")\n",
        "assembled_df = assembler.transform(df)\n",
        "\n",
        "# Calculate the correlation matrix using Spark ML\n",
        "correlation_matrix_sparkml = Correlation.corr(assembled_df, \"features\", method=\"pearson\").head()[0]\n",
        "\n",
        "# Convert to numpy array for easier manipulation\n",
        "correlation_matrix = correlation_matrix_sparkml.toArray()\n",
        "\n",
        "print(\"Correlation Matrix (first 5x5):\")\n",
        "print(correlation_matrix[:5, :5])"
      ],
      "id": "polish-claim",
      "execution_count": null,
      "outputs": [
        {
          "output_type": "stream",
          "name": "stdout",
          "text": [
            "Correlation Matrix (first 5x5):\n",
            "[[ 1.00000000e+00  4.25823027e-03  5.43953448e-03 -4.52402464e-04\n",
            "  -3.23503347e-03]\n",
            " [ 4.25823027e-03  1.00000000e+00 -1.59677215e-06 -2.04319083e-05\n",
            "  -1.39037829e-04]\n",
            " [ 5.43953448e-03 -1.59677215e-06  1.00000000e+00 -1.75426309e-04\n",
            "  -1.25435975e-03]\n",
            " [-4.52402464e-04 -2.04319083e-05 -1.75426309e-04  1.00000000e+00\n",
            "  -3.18456727e-04]\n",
            " [-3.23503347e-03 -1.39037829e-04 -1.25435975e-03 -3.18456727e-04\n",
            "   1.00000000e+00]]\n"
          ]
        }
      ]
    },
    {
      "cell_type": "code",
      "metadata": {
        "id": "european-aaron",
        "colab": {
          "base_uri": "https://localhost:8080/",
          "height": 274
        },
        "outputId": "df969602-e42b-42dc-aade-bf5800f9f423"
      },
      "source": [
        "# creating a dataframe with correlation matrix\n",
        "correlation_df = pd.DataFrame(correlation_matrix, index=numeric_cols, columns=numeric_cols)\n",
        "\n",
        "print(\"Correlation Matrix DataFrame (first 5x5):\")\n",
        "display(correlation_df.head())"
      ],
      "id": "european-aaron",
      "execution_count": null,
      "outputs": [
        {
          "output_type": "stream",
          "name": "stdout",
          "text": [
            "Correlation Matrix DataFrame (first 5x5):\n"
          ]
        },
        {
          "output_type": "display_data",
          "data": {
            "text/plain": [
              "                duration  src_bytes  dst_bytes      land  wrong_fragment  \\\n",
              "duration        1.000000   0.004258   0.005440 -0.000452       -0.003235   \n",
              "src_bytes       0.004258   1.000000  -0.000002 -0.000020       -0.000139   \n",
              "dst_bytes       0.005440  -0.000002   1.000000 -0.000175       -0.001254   \n",
              "land           -0.000452  -0.000020  -0.000175  1.000000       -0.000318   \n",
              "wrong_fragment -0.003235  -0.000139  -0.001254 -0.000318        1.000000   \n",
              "\n",
              "                  urgent       hot  num_failed_logins  logged_in  \\\n",
              "duration        0.003786  0.013213           0.005239  -0.017265   \n",
              "src_bytes      -0.000005  0.004483          -0.000027   0.001701   \n",
              "dst_bytes       0.016288  0.004365           0.049330   0.047814   \n",
              "land           -0.000017 -0.000295          -0.000065  -0.002784   \n",
              "wrong_fragment -0.000123 -0.002106          -0.000467  -0.019908   \n",
              "\n",
              "                num_compromised  ...  dst_host_count  dst_host_srv_count  \\\n",
              "duration               0.058095  ...        0.010074           -0.117515   \n",
              "src_bytes              0.000119  ...       -0.001743           -0.003212   \n",
              "dst_bytes              0.023298  ...       -0.048869           -0.005850   \n",
              "land                  -0.000038  ...       -0.023671           -0.011587   \n",
              "wrong_fragment        -0.000271  ...       -0.005191           -0.058624   \n",
              "\n",
              "                dst_host_same_srv_rate  dst_host_diff_srv_rate  \\\n",
              "duration                     -0.118458                0.406233   \n",
              "src_bytes                    -0.002052                0.000578   \n",
              "dst_bytes                     0.007058               -0.005314   \n",
              "land                          0.001984               -0.000333   \n",
              "wrong_fragment               -0.054903                0.071857   \n",
              "\n",
              "                dst_host_same_src_port_rate  dst_host_srv_diff_host_rate  \\\n",
              "duration                           0.042642                    -0.006983   \n",
              "src_bytes                         -0.000724                     0.001186   \n",
              "dst_bytes                         -0.020143                     0.008707   \n",
              "land                               0.003799                     0.083320   \n",
              "wrong_fragment                    -0.031803                     0.012092   \n",
              "\n",
              "                dst_host_serror_rate  dst_host_srv_serror_rate  \\\n",
              "duration                   -0.030400                 -0.030612   \n",
              "src_bytes                  -0.000718                  0.001122   \n",
              "dst_bytes                  -0.011334                 -0.011235   \n",
              "land                        0.012658                  0.007795   \n",
              "wrong_fragment             -0.019091                 -0.022104   \n",
              "\n",
              "                dst_host_rerror_rate  dst_host_srv_rerror_rate  \n",
              "duration                    0.006739                  0.010465  \n",
              "src_bytes                  -0.000393                  0.001328  \n",
              "dst_bytes                  -0.005000                 -0.005471  \n",
              "land                       -0.001511                 -0.001665  \n",
              "wrong_fragment              0.029774                 -0.011904  \n",
              "\n",
              "[5 rows x 38 columns]"
            ],
            "text/html": [
              "\n",
              "  <div id=\"df-6b0bf47a-e305-4343-b13c-e71fb6ea7dad\" class=\"colab-df-container\">\n",
              "    <div>\n",
              "<style scoped>\n",
              "    .dataframe tbody tr th:only-of-type {\n",
              "        vertical-align: middle;\n",
              "    }\n",
              "\n",
              "    .dataframe tbody tr th {\n",
              "        vertical-align: top;\n",
              "    }\n",
              "\n",
              "    .dataframe thead th {\n",
              "        text-align: right;\n",
              "    }\n",
              "</style>\n",
              "<table border=\"1\" class=\"dataframe\">\n",
              "  <thead>\n",
              "    <tr style=\"text-align: right;\">\n",
              "      <th></th>\n",
              "      <th>duration</th>\n",
              "      <th>src_bytes</th>\n",
              "      <th>dst_bytes</th>\n",
              "      <th>land</th>\n",
              "      <th>wrong_fragment</th>\n",
              "      <th>urgent</th>\n",
              "      <th>hot</th>\n",
              "      <th>num_failed_logins</th>\n",
              "      <th>logged_in</th>\n",
              "      <th>num_compromised</th>\n",
              "      <th>...</th>\n",
              "      <th>dst_host_count</th>\n",
              "      <th>dst_host_srv_count</th>\n",
              "      <th>dst_host_same_srv_rate</th>\n",
              "      <th>dst_host_diff_srv_rate</th>\n",
              "      <th>dst_host_same_src_port_rate</th>\n",
              "      <th>dst_host_srv_diff_host_rate</th>\n",
              "      <th>dst_host_serror_rate</th>\n",
              "      <th>dst_host_srv_serror_rate</th>\n",
              "      <th>dst_host_rerror_rate</th>\n",
              "      <th>dst_host_srv_rerror_rate</th>\n",
              "    </tr>\n",
              "  </thead>\n",
              "  <tbody>\n",
              "    <tr>\n",
              "      <th>duration</th>\n",
              "      <td>1.000000</td>\n",
              "      <td>0.004258</td>\n",
              "      <td>0.005440</td>\n",
              "      <td>-0.000452</td>\n",
              "      <td>-0.003235</td>\n",
              "      <td>0.003786</td>\n",
              "      <td>0.013213</td>\n",
              "      <td>0.005239</td>\n",
              "      <td>-0.017265</td>\n",
              "      <td>0.058095</td>\n",
              "      <td>...</td>\n",
              "      <td>0.010074</td>\n",
              "      <td>-0.117515</td>\n",
              "      <td>-0.118458</td>\n",
              "      <td>0.406233</td>\n",
              "      <td>0.042642</td>\n",
              "      <td>-0.006983</td>\n",
              "      <td>-0.030400</td>\n",
              "      <td>-0.030612</td>\n",
              "      <td>0.006739</td>\n",
              "      <td>0.010465</td>\n",
              "    </tr>\n",
              "    <tr>\n",
              "      <th>src_bytes</th>\n",
              "      <td>0.004258</td>\n",
              "      <td>1.000000</td>\n",
              "      <td>-0.000002</td>\n",
              "      <td>-0.000020</td>\n",
              "      <td>-0.000139</td>\n",
              "      <td>-0.000005</td>\n",
              "      <td>0.004483</td>\n",
              "      <td>-0.000027</td>\n",
              "      <td>0.001701</td>\n",
              "      <td>0.000119</td>\n",
              "      <td>...</td>\n",
              "      <td>-0.001743</td>\n",
              "      <td>-0.003212</td>\n",
              "      <td>-0.002052</td>\n",
              "      <td>0.000578</td>\n",
              "      <td>-0.000724</td>\n",
              "      <td>0.001186</td>\n",
              "      <td>-0.000718</td>\n",
              "      <td>0.001122</td>\n",
              "      <td>-0.000393</td>\n",
              "      <td>0.001328</td>\n",
              "    </tr>\n",
              "    <tr>\n",
              "      <th>dst_bytes</th>\n",
              "      <td>0.005440</td>\n",
              "      <td>-0.000002</td>\n",
              "      <td>1.000000</td>\n",
              "      <td>-0.000175</td>\n",
              "      <td>-0.001254</td>\n",
              "      <td>0.016288</td>\n",
              "      <td>0.004365</td>\n",
              "      <td>0.049330</td>\n",
              "      <td>0.047814</td>\n",
              "      <td>0.023298</td>\n",
              "      <td>...</td>\n",
              "      <td>-0.048869</td>\n",
              "      <td>-0.005850</td>\n",
              "      <td>0.007058</td>\n",
              "      <td>-0.005314</td>\n",
              "      <td>-0.020143</td>\n",
              "      <td>0.008707</td>\n",
              "      <td>-0.011334</td>\n",
              "      <td>-0.011235</td>\n",
              "      <td>-0.005000</td>\n",
              "      <td>-0.005471</td>\n",
              "    </tr>\n",
              "    <tr>\n",
              "      <th>land</th>\n",
              "      <td>-0.000452</td>\n",
              "      <td>-0.000020</td>\n",
              "      <td>-0.000175</td>\n",
              "      <td>1.000000</td>\n",
              "      <td>-0.000318</td>\n",
              "      <td>-0.000017</td>\n",
              "      <td>-0.000295</td>\n",
              "      <td>-0.000065</td>\n",
              "      <td>-0.002784</td>\n",
              "      <td>-0.000038</td>\n",
              "      <td>...</td>\n",
              "      <td>-0.023671</td>\n",
              "      <td>-0.011587</td>\n",
              "      <td>0.001984</td>\n",
              "      <td>-0.000333</td>\n",
              "      <td>0.003799</td>\n",
              "      <td>0.083320</td>\n",
              "      <td>0.012658</td>\n",
              "      <td>0.007795</td>\n",
              "      <td>-0.001511</td>\n",
              "      <td>-0.001665</td>\n",
              "    </tr>\n",
              "    <tr>\n",
              "      <th>wrong_fragment</th>\n",
              "      <td>-0.003235</td>\n",
              "      <td>-0.000139</td>\n",
              "      <td>-0.001254</td>\n",
              "      <td>-0.000318</td>\n",
              "      <td>1.000000</td>\n",
              "      <td>-0.000123</td>\n",
              "      <td>-0.002106</td>\n",
              "      <td>-0.000467</td>\n",
              "      <td>-0.019908</td>\n",
              "      <td>-0.000271</td>\n",
              "      <td>...</td>\n",
              "      <td>-0.005191</td>\n",
              "      <td>-0.058624</td>\n",
              "      <td>-0.054903</td>\n",
              "      <td>0.071857</td>\n",
              "      <td>-0.031803</td>\n",
              "      <td>0.012092</td>\n",
              "      <td>-0.019091</td>\n",
              "      <td>-0.022104</td>\n",
              "      <td>0.029774</td>\n",
              "      <td>-0.011904</td>\n",
              "    </tr>\n",
              "  </tbody>\n",
              "</table>\n",
              "<p>5 rows × 38 columns</p>\n",
              "</div>\n",
              "    <div class=\"colab-df-buttons\">\n",
              "\n",
              "  <div class=\"colab-df-container\">\n",
              "    <button class=\"colab-df-convert\" onclick=\"convertToInteractive('df-6b0bf47a-e305-4343-b13c-e71fb6ea7dad')\"\n",
              "            title=\"Convert this dataframe to an interactive table.\"\n",
              "            style=\"display:none;\">\n",
              "\n",
              "  <svg xmlns=\"http://www.w3.org/2000/svg\" height=\"24px\" viewBox=\"0 -960 960 960\">\n",
              "    <path d=\"M120-120v-720h720v720H120Zm60-500h600v-160H180v160Zm220 220h160v-160H400v160Zm0 220h160v-160H400v160ZM180-400h160v-160H180v160Zm440 0h160v-160H620v160ZM180-180h160v-160H180v160Zm440 0h160v-160H620v160Z\"/>\n",
              "  </svg>\n",
              "    </button>\n",
              "\n",
              "  <style>\n",
              "    .colab-df-container {\n",
              "      display:flex;\n",
              "      gap: 12px;\n",
              "    }\n",
              "\n",
              "    .colab-df-convert {\n",
              "      background-color: #E8F0FE;\n",
              "      border: none;\n",
              "      border-radius: 50%;\n",
              "      cursor: pointer;\n",
              "      display: none;\n",
              "      fill: #1967D2;\n",
              "      height: 32px;\n",
              "      padding: 0 0 0 0;\n",
              "      width: 32px;\n",
              "    }\n",
              "\n",
              "    .colab-df-convert:hover {\n",
              "      background-color: #E2EBFA;\n",
              "      box-shadow: 0px 1px 2px rgba(60, 64, 67, 0.3), 0px 1px 3px 1px rgba(60, 64, 67, 0.15);\n",
              "      fill: #174EA6;\n",
              "    }\n",
              "\n",
              "    .colab-df-buttons div {\n",
              "      margin-bottom: 4px;\n",
              "    }\n",
              "\n",
              "    [theme=dark] .colab-df-convert {\n",
              "      background-color: #3B4455;\n",
              "      fill: #D2E3FC;\n",
              "    }\n",
              "\n",
              "    [theme=dark] .colab-df-convert:hover {\n",
              "      background-color: #434B5C;\n",
              "      box-shadow: 0px 1px 3px 1px rgba(0, 0, 0, 0.15);\n",
              "      filter: drop-shadow(0px 1px 2px rgba(0, 0, 0, 0.3));\n",
              "      fill: #FFFFFF;\n",
              "    }\n",
              "  </style>\n",
              "\n",
              "    <script>\n",
              "      const buttonEl =\n",
              "        document.querySelector('#df-6b0bf47a-e305-4343-b13c-e71fb6ea7dad button.colab-df-convert');\n",
              "      buttonEl.style.display =\n",
              "        google.colab.kernel.accessAllowed ? 'block' : 'none';\n",
              "\n",
              "      async function convertToInteractive(key) {\n",
              "        const element = document.querySelector('#df-6b0bf47a-e305-4343-b13c-e71fb6ea7dad');\n",
              "        const dataTable =\n",
              "          await google.colab.kernel.invokeFunction('convertToInteractive',\n",
              "                                                    [key], {});\n",
              "        if (!dataTable) return;\n",
              "\n",
              "        const docLinkHtml = 'Like what you see? Visit the ' +\n",
              "          '<a target=\"_blank\" href=https://colab.research.google.com/notebooks/data_table.ipynb>data table notebook</a>'\n",
              "          + ' to learn more about interactive tables.';\n",
              "        element.innerHTML = '';\n",
              "        dataTable['output_type'] = 'display_data';\n",
              "        await google.colab.output.renderOutput(dataTable, element);\n",
              "        const docLink = document.createElement('div');\n",
              "        docLink.innerHTML = docLinkHtml;\n",
              "        element.appendChild(docLink);\n",
              "      }\n",
              "    </script>\n",
              "  </div>\n",
              "\n",
              "\n",
              "    <div id=\"df-c1a5a9eb-7326-49f0-8d32-4bce2f6994f8\">\n",
              "      <button class=\"colab-df-quickchart\" onclick=\"quickchart('df-c1a5a9eb-7326-49f0-8d32-4bce2f6994f8')\"\n",
              "                title=\"Suggest charts\"\n",
              "                style=\"display:none;\">\n",
              "\n",
              "<svg xmlns=\"http://www.w3.org/2000/svg\" height=\"24px\"viewBox=\"0 0 24 24\"\n",
              "     width=\"24px\">\n",
              "    <g>\n",
              "        <path d=\"M19 3H5c-1.1 0-2 .9-2 2v14c0 1.1.9 2 2 2h14c1.1 0 2-.9 2-2V5c0-1.1-.9-2-2-2zM9 17H7v-7h2v7zm4 0h-2V7h2v10zm4 0h-2v-4h2v4z\"/>\n",
              "    </g>\n",
              "</svg>\n",
              "      </button>\n",
              "\n",
              "<style>\n",
              "  .colab-df-quickchart {\n",
              "      --bg-color: #E8F0FE;\n",
              "      --fill-color: #1967D2;\n",
              "      --hover-bg-color: #E2EBFA;\n",
              "      --hover-fill-color: #174EA6;\n",
              "      --disabled-fill-color: #AAA;\n",
              "      --disabled-bg-color: #DDD;\n",
              "  }\n",
              "\n",
              "  [theme=dark] .colab-df-quickchart {\n",
              "      --bg-color: #3B4455;\n",
              "      --fill-color: #D2E3FC;\n",
              "      --hover-bg-color: #434B5C;\n",
              "      --hover-fill-color: #FFFFFF;\n",
              "      --disabled-bg-color: #3B4455;\n",
              "      --disabled-fill-color: #666;\n",
              "  }\n",
              "\n",
              "  .colab-df-quickchart {\n",
              "    background-color: var(--bg-color);\n",
              "    border: none;\n",
              "    border-radius: 50%;\n",
              "    cursor: pointer;\n",
              "    display: none;\n",
              "    fill: var(--fill-color);\n",
              "    height: 32px;\n",
              "    padding: 0;\n",
              "    width: 32px;\n",
              "  }\n",
              "\n",
              "  .colab-df-quickchart:hover {\n",
              "    background-color: var(--hover-bg-color);\n",
              "    box-shadow: 0 1px 2px rgba(60, 64, 67, 0.3), 0 1px 3px 1px rgba(60, 64, 67, 0.15);\n",
              "    fill: var(--button-hover-fill-color);\n",
              "  }\n",
              "\n",
              "  .colab-df-quickchart-complete:disabled,\n",
              "  .colab-df-quickchart-complete:disabled:hover {\n",
              "    background-color: var(--disabled-bg-color);\n",
              "    fill: var(--disabled-fill-color);\n",
              "    box-shadow: none;\n",
              "  }\n",
              "\n",
              "  .colab-df-spinner {\n",
              "    border: 2px solid var(--fill-color);\n",
              "    border-color: transparent;\n",
              "    border-bottom-color: var(--fill-color);\n",
              "    animation:\n",
              "      spin 1s steps(1) infinite;\n",
              "  }\n",
              "\n",
              "  @keyframes spin {\n",
              "    0% {\n",
              "      border-color: transparent;\n",
              "      border-bottom-color: var(--fill-color);\n",
              "      border-left-color: var(--fill-color);\n",
              "    }\n",
              "    20% {\n",
              "      border-color: transparent;\n",
              "      border-left-color: var(--fill-color);\n",
              "      border-top-color: var(--fill-color);\n",
              "    }\n",
              "    30% {\n",
              "      border-color: transparent;\n",
              "      border-left-color: var(--fill-color);\n",
              "      border-top-color: var(--fill-color);\n",
              "      border-right-color: var(--fill-color);\n",
              "    }\n",
              "    40% {\n",
              "      border-color: transparent;\n",
              "      border-right-color: var(--fill-color);\n",
              "      border-top-color: var(--fill-color);\n",
              "    }\n",
              "    60% {\n",
              "      border-color: transparent;\n",
              "      border-right-color: var(--fill-color);\n",
              "    }\n",
              "    80% {\n",
              "      border-color: transparent;\n",
              "      border-right-color: var(--fill-color);\n",
              "      border-bottom-color: var(--fill-color);\n",
              "    }\n",
              "    90% {\n",
              "      border-color: transparent;\n",
              "      border-bottom-color: var(--fill-color);\n",
              "    }\n",
              "  }\n",
              "</style>\n",
              "\n",
              "      <script>\n",
              "        async function quickchart(key) {\n",
              "          const quickchartButtonEl =\n",
              "            document.querySelector('#' + key + ' button');\n",
              "          quickchartButtonEl.disabled = true;  // To prevent multiple clicks.\n",
              "          quickchartButtonEl.classList.add('colab-df-spinner');\n",
              "          try {\n",
              "            const charts = await google.colab.kernel.invokeFunction(\n",
              "                'suggestCharts', [key], {});\n",
              "          } catch (error) {\n",
              "            console.error('Error during call to suggestCharts:', error);\n",
              "          }\n",
              "          quickchartButtonEl.classList.remove('colab-df-spinner');\n",
              "          quickchartButtonEl.classList.add('colab-df-quickchart-complete');\n",
              "        }\n",
              "        (() => {\n",
              "          let quickchartButtonEl =\n",
              "            document.querySelector('#df-c1a5a9eb-7326-49f0-8d32-4bce2f6994f8 button');\n",
              "          quickchartButtonEl.style.display =\n",
              "            google.colab.kernel.accessAllowed ? 'block' : 'none';\n",
              "        })();\n",
              "      </script>\n",
              "    </div>\n",
              "\n",
              "    </div>\n",
              "  </div>\n"
            ],
            "application/vnd.google.colaboratory.intrinsic+json": {
              "type": "dataframe"
            }
          },
          "metadata": {}
        }
      ]
    },
    {
      "cell_type": "code",
      "metadata": {
        "id": "skilled-domestic",
        "colab": {
          "base_uri": "https://localhost:8080/",
          "height": 274
        },
        "outputId": "cd411c2d-45e7-4dda-f053-3d359ca421ad"
      },
      "source": [
        "correlation_df = correlation_df.fillna(0)\n",
        "print(\"Correlation Matrix DataFrame after filling nulls with 0 (first 5x5):\")\n",
        "display(correlation_df.head())"
      ],
      "id": "skilled-domestic",
      "execution_count": null,
      "outputs": [
        {
          "output_type": "stream",
          "name": "stdout",
          "text": [
            "Correlation Matrix DataFrame after filling nulls with 0 (first 5x5):\n"
          ]
        },
        {
          "output_type": "display_data",
          "data": {
            "text/plain": [
              "                duration  src_bytes  dst_bytes      land  wrong_fragment  \\\n",
              "duration        1.000000   0.004258   0.005440 -0.000452       -0.003235   \n",
              "src_bytes       0.004258   1.000000  -0.000002 -0.000020       -0.000139   \n",
              "dst_bytes       0.005440  -0.000002   1.000000 -0.000175       -0.001254   \n",
              "land           -0.000452  -0.000020  -0.000175  1.000000       -0.000318   \n",
              "wrong_fragment -0.003235  -0.000139  -0.001254 -0.000318        1.000000   \n",
              "\n",
              "                  urgent       hot  num_failed_logins  logged_in  \\\n",
              "duration        0.003786  0.013213           0.005239  -0.017265   \n",
              "src_bytes      -0.000005  0.004483          -0.000027   0.001701   \n",
              "dst_bytes       0.016288  0.004365           0.049330   0.047814   \n",
              "land           -0.000017 -0.000295          -0.000065  -0.002784   \n",
              "wrong_fragment -0.000123 -0.002106          -0.000467  -0.019908   \n",
              "\n",
              "                num_compromised  ...  dst_host_count  dst_host_srv_count  \\\n",
              "duration               0.058095  ...        0.010074           -0.117515   \n",
              "src_bytes              0.000119  ...       -0.001743           -0.003212   \n",
              "dst_bytes              0.023298  ...       -0.048869           -0.005850   \n",
              "land                  -0.000038  ...       -0.023671           -0.011587   \n",
              "wrong_fragment        -0.000271  ...       -0.005191           -0.058624   \n",
              "\n",
              "                dst_host_same_srv_rate  dst_host_diff_srv_rate  \\\n",
              "duration                     -0.118458                0.406233   \n",
              "src_bytes                    -0.002052                0.000578   \n",
              "dst_bytes                     0.007058               -0.005314   \n",
              "land                          0.001984               -0.000333   \n",
              "wrong_fragment               -0.054903                0.071857   \n",
              "\n",
              "                dst_host_same_src_port_rate  dst_host_srv_diff_host_rate  \\\n",
              "duration                           0.042642                    -0.006983   \n",
              "src_bytes                         -0.000724                     0.001186   \n",
              "dst_bytes                         -0.020143                     0.008707   \n",
              "land                               0.003799                     0.083320   \n",
              "wrong_fragment                    -0.031803                     0.012092   \n",
              "\n",
              "                dst_host_serror_rate  dst_host_srv_serror_rate  \\\n",
              "duration                   -0.030400                 -0.030612   \n",
              "src_bytes                  -0.000718                  0.001122   \n",
              "dst_bytes                  -0.011334                 -0.011235   \n",
              "land                        0.012658                  0.007795   \n",
              "wrong_fragment             -0.019091                 -0.022104   \n",
              "\n",
              "                dst_host_rerror_rate  dst_host_srv_rerror_rate  \n",
              "duration                    0.006739                  0.010465  \n",
              "src_bytes                  -0.000393                  0.001328  \n",
              "dst_bytes                  -0.005000                 -0.005471  \n",
              "land                       -0.001511                 -0.001665  \n",
              "wrong_fragment              0.029774                 -0.011904  \n",
              "\n",
              "[5 rows x 38 columns]"
            ],
            "text/html": [
              "\n",
              "  <div id=\"df-529029de-1644-4aa9-b5a3-fa6a2372e422\" class=\"colab-df-container\">\n",
              "    <div>\n",
              "<style scoped>\n",
              "    .dataframe tbody tr th:only-of-type {\n",
              "        vertical-align: middle;\n",
              "    }\n",
              "\n",
              "    .dataframe tbody tr th {\n",
              "        vertical-align: top;\n",
              "    }\n",
              "\n",
              "    .dataframe thead th {\n",
              "        text-align: right;\n",
              "    }\n",
              "</style>\n",
              "<table border=\"1\" class=\"dataframe\">\n",
              "  <thead>\n",
              "    <tr style=\"text-align: right;\">\n",
              "      <th></th>\n",
              "      <th>duration</th>\n",
              "      <th>src_bytes</th>\n",
              "      <th>dst_bytes</th>\n",
              "      <th>land</th>\n",
              "      <th>wrong_fragment</th>\n",
              "      <th>urgent</th>\n",
              "      <th>hot</th>\n",
              "      <th>num_failed_logins</th>\n",
              "      <th>logged_in</th>\n",
              "      <th>num_compromised</th>\n",
              "      <th>...</th>\n",
              "      <th>dst_host_count</th>\n",
              "      <th>dst_host_srv_count</th>\n",
              "      <th>dst_host_same_srv_rate</th>\n",
              "      <th>dst_host_diff_srv_rate</th>\n",
              "      <th>dst_host_same_src_port_rate</th>\n",
              "      <th>dst_host_srv_diff_host_rate</th>\n",
              "      <th>dst_host_serror_rate</th>\n",
              "      <th>dst_host_srv_serror_rate</th>\n",
              "      <th>dst_host_rerror_rate</th>\n",
              "      <th>dst_host_srv_rerror_rate</th>\n",
              "    </tr>\n",
              "  </thead>\n",
              "  <tbody>\n",
              "    <tr>\n",
              "      <th>duration</th>\n",
              "      <td>1.000000</td>\n",
              "      <td>0.004258</td>\n",
              "      <td>0.005440</td>\n",
              "      <td>-0.000452</td>\n",
              "      <td>-0.003235</td>\n",
              "      <td>0.003786</td>\n",
              "      <td>0.013213</td>\n",
              "      <td>0.005239</td>\n",
              "      <td>-0.017265</td>\n",
              "      <td>0.058095</td>\n",
              "      <td>...</td>\n",
              "      <td>0.010074</td>\n",
              "      <td>-0.117515</td>\n",
              "      <td>-0.118458</td>\n",
              "      <td>0.406233</td>\n",
              "      <td>0.042642</td>\n",
              "      <td>-0.006983</td>\n",
              "      <td>-0.030400</td>\n",
              "      <td>-0.030612</td>\n",
              "      <td>0.006739</td>\n",
              "      <td>0.010465</td>\n",
              "    </tr>\n",
              "    <tr>\n",
              "      <th>src_bytes</th>\n",
              "      <td>0.004258</td>\n",
              "      <td>1.000000</td>\n",
              "      <td>-0.000002</td>\n",
              "      <td>-0.000020</td>\n",
              "      <td>-0.000139</td>\n",
              "      <td>-0.000005</td>\n",
              "      <td>0.004483</td>\n",
              "      <td>-0.000027</td>\n",
              "      <td>0.001701</td>\n",
              "      <td>0.000119</td>\n",
              "      <td>...</td>\n",
              "      <td>-0.001743</td>\n",
              "      <td>-0.003212</td>\n",
              "      <td>-0.002052</td>\n",
              "      <td>0.000578</td>\n",
              "      <td>-0.000724</td>\n",
              "      <td>0.001186</td>\n",
              "      <td>-0.000718</td>\n",
              "      <td>0.001122</td>\n",
              "      <td>-0.000393</td>\n",
              "      <td>0.001328</td>\n",
              "    </tr>\n",
              "    <tr>\n",
              "      <th>dst_bytes</th>\n",
              "      <td>0.005440</td>\n",
              "      <td>-0.000002</td>\n",
              "      <td>1.000000</td>\n",
              "      <td>-0.000175</td>\n",
              "      <td>-0.001254</td>\n",
              "      <td>0.016288</td>\n",
              "      <td>0.004365</td>\n",
              "      <td>0.049330</td>\n",
              "      <td>0.047814</td>\n",
              "      <td>0.023298</td>\n",
              "      <td>...</td>\n",
              "      <td>-0.048869</td>\n",
              "      <td>-0.005850</td>\n",
              "      <td>0.007058</td>\n",
              "      <td>-0.005314</td>\n",
              "      <td>-0.020143</td>\n",
              "      <td>0.008707</td>\n",
              "      <td>-0.011334</td>\n",
              "      <td>-0.011235</td>\n",
              "      <td>-0.005000</td>\n",
              "      <td>-0.005471</td>\n",
              "    </tr>\n",
              "    <tr>\n",
              "      <th>land</th>\n",
              "      <td>-0.000452</td>\n",
              "      <td>-0.000020</td>\n",
              "      <td>-0.000175</td>\n",
              "      <td>1.000000</td>\n",
              "      <td>-0.000318</td>\n",
              "      <td>-0.000017</td>\n",
              "      <td>-0.000295</td>\n",
              "      <td>-0.000065</td>\n",
              "      <td>-0.002784</td>\n",
              "      <td>-0.000038</td>\n",
              "      <td>...</td>\n",
              "      <td>-0.023671</td>\n",
              "      <td>-0.011587</td>\n",
              "      <td>0.001984</td>\n",
              "      <td>-0.000333</td>\n",
              "      <td>0.003799</td>\n",
              "      <td>0.083320</td>\n",
              "      <td>0.012658</td>\n",
              "      <td>0.007795</td>\n",
              "      <td>-0.001511</td>\n",
              "      <td>-0.001665</td>\n",
              "    </tr>\n",
              "    <tr>\n",
              "      <th>wrong_fragment</th>\n",
              "      <td>-0.003235</td>\n",
              "      <td>-0.000139</td>\n",
              "      <td>-0.001254</td>\n",
              "      <td>-0.000318</td>\n",
              "      <td>1.000000</td>\n",
              "      <td>-0.000123</td>\n",
              "      <td>-0.002106</td>\n",
              "      <td>-0.000467</td>\n",
              "      <td>-0.019908</td>\n",
              "      <td>-0.000271</td>\n",
              "      <td>...</td>\n",
              "      <td>-0.005191</td>\n",
              "      <td>-0.058624</td>\n",
              "      <td>-0.054903</td>\n",
              "      <td>0.071857</td>\n",
              "      <td>-0.031803</td>\n",
              "      <td>0.012092</td>\n",
              "      <td>-0.019091</td>\n",
              "      <td>-0.022104</td>\n",
              "      <td>0.029774</td>\n",
              "      <td>-0.011904</td>\n",
              "    </tr>\n",
              "  </tbody>\n",
              "</table>\n",
              "<p>5 rows × 38 columns</p>\n",
              "</div>\n",
              "    <div class=\"colab-df-buttons\">\n",
              "\n",
              "  <div class=\"colab-df-container\">\n",
              "    <button class=\"colab-df-convert\" onclick=\"convertToInteractive('df-529029de-1644-4aa9-b5a3-fa6a2372e422')\"\n",
              "            title=\"Convert this dataframe to an interactive table.\"\n",
              "            style=\"display:none;\">\n",
              "\n",
              "  <svg xmlns=\"http://www.w3.org/2000/svg\" height=\"24px\" viewBox=\"0 -960 960 960\">\n",
              "    <path d=\"M120-120v-720h720v720H120Zm60-500h600v-160H180v160Zm220 220h160v-160H400v160Zm0 220h160v-160H400v160ZM180-400h160v-160H180v160Zm440 0h160v-160H620v160ZM180-180h160v-160H180v160Zm440 0h160v-160H620v160Z\"/>\n",
              "  </svg>\n",
              "    </button>\n",
              "\n",
              "  <style>\n",
              "    .colab-df-container {\n",
              "      display:flex;\n",
              "      gap: 12px;\n",
              "    }\n",
              "\n",
              "    .colab-df-convert {\n",
              "      background-color: #E8F0FE;\n",
              "      border: none;\n",
              "      border-radius: 50%;\n",
              "      cursor: pointer;\n",
              "      display: none;\n",
              "      fill: #1967D2;\n",
              "      height: 32px;\n",
              "      padding: 0 0 0 0;\n",
              "      width: 32px;\n",
              "    }\n",
              "\n",
              "    .colab-df-convert:hover {\n",
              "      background-color: #E2EBFA;\n",
              "      box-shadow: 0px 1px 2px rgba(60, 64, 67, 0.3), 0px 1px 3px 1px rgba(60, 64, 67, 0.15);\n",
              "      fill: #174EA6;\n",
              "    }\n",
              "\n",
              "    .colab-df-buttons div {\n",
              "      margin-bottom: 4px;\n",
              "    }\n",
              "\n",
              "    [theme=dark] .colab-df-convert {\n",
              "      background-color: #3B4455;\n",
              "      fill: #D2E3FC;\n",
              "    }\n",
              "\n",
              "    [theme=dark] .colab-df-convert:hover {\n",
              "      background-color: #434B5C;\n",
              "      box-shadow: 0px 1px 3px 1px rgba(0, 0, 0, 0.15);\n",
              "      filter: drop-shadow(0px 1px 2px rgba(0, 0, 0, 0.3));\n",
              "      fill: #FFFFFF;\n",
              "    }\n",
              "  </style>\n",
              "\n",
              "    <script>\n",
              "      const buttonEl =\n",
              "        document.querySelector('#df-529029de-1644-4aa9-b5a3-fa6a2372e422 button.colab-df-convert');\n",
              "      buttonEl.style.display =\n",
              "        google.colab.kernel.accessAllowed ? 'block' : 'none';\n",
              "\n",
              "      async function convertToInteractive(key) {\n",
              "        const element = document.querySelector('#df-529029de-1644-4aa9-b5a3-fa6a2372e422');\n",
              "        const dataTable =\n",
              "          await google.colab.kernel.invokeFunction('convertToInteractive',\n",
              "                                                    [key], {});\n",
              "        if (!dataTable) return;\n",
              "\n",
              "        const docLinkHtml = 'Like what you see? Visit the ' +\n",
              "          '<a target=\"_blank\" href=https://colab.research.google.com/notebooks/data_table.ipynb>data table notebook</a>'\n",
              "          + ' to learn more about interactive tables.';\n",
              "        element.innerHTML = '';\n",
              "        dataTable['output_type'] = 'display_data';\n",
              "        await google.colab.output.renderOutput(dataTable, element);\n",
              "        const docLink = document.createElement('div');\n",
              "        docLink.innerHTML = docLinkHtml;\n",
              "        element.appendChild(docLink);\n",
              "      }\n",
              "    </script>\n",
              "  </div>\n",
              "\n",
              "\n",
              "    <div id=\"df-d0915e1c-790b-436b-b72c-4aa3fe95cd69\">\n",
              "      <button class=\"colab-df-quickchart\" onclick=\"quickchart('df-d0915e1c-790b-436b-b72c-4aa3fe95cd69')\"\n",
              "                title=\"Suggest charts\"\n",
              "                style=\"display:none;\">\n",
              "\n",
              "<svg xmlns=\"http://www.w3.org/2000/svg\" height=\"24px\"viewBox=\"0 0 24 24\"\n",
              "     width=\"24px\">\n",
              "    <g>\n",
              "        <path d=\"M19 3H5c-1.1 0-2 .9-2 2v14c0 1.1.9 2 2 2h14c1.1 0 2-.9 2-2V5c0-1.1-.9-2-2-2zM9 17H7v-7h2v7zm4 0h-2V7h2v10zm4 0h-2v-4h2v4z\"/>\n",
              "    </g>\n",
              "</svg>\n",
              "      </button>\n",
              "\n",
              "<style>\n",
              "  .colab-df-quickchart {\n",
              "      --bg-color: #E8F0FE;\n",
              "      --fill-color: #1967D2;\n",
              "      --hover-bg-color: #E2EBFA;\n",
              "      --hover-fill-color: #174EA6;\n",
              "      --disabled-fill-color: #AAA;\n",
              "      --disabled-bg-color: #DDD;\n",
              "  }\n",
              "\n",
              "  [theme=dark] .colab-df-quickchart {\n",
              "      --bg-color: #3B4455;\n",
              "      --fill-color: #D2E3FC;\n",
              "      --hover-bg-color: #434B5C;\n",
              "      --hover-fill-color: #FFFFFF;\n",
              "      --disabled-bg-color: #3B4455;\n",
              "      --disabled-fill-color: #666;\n",
              "  }\n",
              "\n",
              "  .colab-df-quickchart {\n",
              "    background-color: var(--bg-color);\n",
              "    border: none;\n",
              "    border-radius: 50%;\n",
              "    cursor: pointer;\n",
              "    display: none;\n",
              "    fill: var(--fill-color);\n",
              "    height: 32px;\n",
              "    padding: 0;\n",
              "    width: 32px;\n",
              "  }\n",
              "\n",
              "  .colab-df-quickchart:hover {\n",
              "    background-color: var(--hover-bg-color);\n",
              "    box-shadow: 0 1px 2px rgba(60, 64, 67, 0.3), 0 1px 3px 1px rgba(60, 64, 67, 0.15);\n",
              "    fill: var(--button-hover-fill-color);\n",
              "  }\n",
              "\n",
              "  .colab-df-quickchart-complete:disabled,\n",
              "  .colab-df-quickchart-complete:disabled:hover {\n",
              "    background-color: var(--disabled-bg-color);\n",
              "    fill: var(--disabled-fill-color);\n",
              "    box-shadow: none;\n",
              "  }\n",
              "\n",
              "  .colab-df-spinner {\n",
              "    border: 2px solid var(--fill-color);\n",
              "    border-color: transparent;\n",
              "    border-bottom-color: var(--fill-color);\n",
              "    animation:\n",
              "      spin 1s steps(1) infinite;\n",
              "  }\n",
              "\n",
              "  @keyframes spin {\n",
              "    0% {\n",
              "      border-color: transparent;\n",
              "      border-bottom-color: var(--fill-color);\n",
              "      border-left-color: var(--fill-color);\n",
              "    }\n",
              "    20% {\n",
              "      border-color: transparent;\n",
              "      border-left-color: var(--fill-color);\n",
              "      border-top-color: var(--fill-color);\n",
              "    }\n",
              "    30% {\n",
              "      border-color: transparent;\n",
              "      border-left-color: var(--fill-color);\n",
              "      border-top-color: var(--fill-color);\n",
              "      border-right-color: var(--fill-color);\n",
              "    }\n",
              "    40% {\n",
              "      border-color: transparent;\n",
              "      border-right-color: var(--fill-color);\n",
              "      border-top-color: var(--fill-color);\n",
              "    }\n",
              "    60% {\n",
              "      border-color: transparent;\n",
              "      border-right-color: var(--fill-color);\n",
              "    }\n",
              "    80% {\n",
              "      border-color: transparent;\n",
              "      border-right-color: var(--fill-color);\n",
              "      border-bottom-color: var(--fill-color);\n",
              "    }\n",
              "    90% {\n",
              "      border-color: transparent;\n",
              "      border-bottom-color: var(--fill-color);\n",
              "    }\n",
              "  }\n",
              "</style>\n",
              "\n",
              "      <script>\n",
              "        async function quickchart(key) {\n",
              "          const quickchartButtonEl =\n",
              "            document.querySelector('#' + key + ' button');\n",
              "          quickchartButtonEl.disabled = true;  // To prevent multiple clicks.\n",
              "          quickchartButtonEl.classList.add('colab-df-spinner');\n",
              "          try {\n",
              "            const charts = await google.colab.kernel.invokeFunction(\n",
              "                'suggestCharts', [key], {});\n",
              "          } catch (error) {\n",
              "            console.error('Error during call to suggestCharts:', error);\n",
              "          }\n",
              "          quickchartButtonEl.classList.remove('colab-df-spinner');\n",
              "          quickchartButtonEl.classList.add('colab-df-quickchart-complete');\n",
              "        }\n",
              "        (() => {\n",
              "          let quickchartButtonEl =\n",
              "            document.querySelector('#df-d0915e1c-790b-436b-b72c-4aa3fe95cd69 button');\n",
              "          quickchartButtonEl.style.display =\n",
              "            google.colab.kernel.accessAllowed ? 'block' : 'none';\n",
              "        })();\n",
              "      </script>\n",
              "    </div>\n",
              "\n",
              "    </div>\n",
              "  </div>\n"
            ],
            "application/vnd.google.colaboratory.intrinsic+json": {
              "type": "dataframe"
            }
          },
          "metadata": {}
        }
      ]
    },
    {
      "cell_type": "code",
      "metadata": {
        "id": "approved-dublin",
        "colab": {
          "base_uri": "https://localhost:8080/"
        },
        "outputId": "c561d16b-92dc-4c63-e3af-c966921e0a6d"
      },
      "source": [
        "# Finding features with correlation value more than specified threshold value (bar=0.9)\n",
        "bar = 0.9\n",
        "highly_correlated_features = set()\n",
        "for i in range(len(numeric_cols)):\n",
        "    for j in range(i):\n",
        "        if np.abs(correlation_df.iloc[i, j]) > bar:\n",
        "            colname_i = numeric_cols[i]\n",
        "            colname_j = numeric_cols[j]\n",
        "            highly_correlated_features.add((colname_i, colname_j))\n",
        "\n",
        "print(f\"Highly correlated features (correlation > {bar}):\")\n",
        "for pair in highly_correlated_features:\n",
        "    print(pair)"
      ],
      "id": "approved-dublin",
      "execution_count": null,
      "outputs": [
        {
          "output_type": "stream",
          "name": "stdout",
          "text": [
            "Highly correlated features (correlation > 0.9):\n",
            "('dst_host_srv_rerror_rate', 'srv_rerror_rate')\n",
            "('num_root', 'num_compromised')\n",
            "('dst_host_srv_serror_rate', 'serror_rate')\n",
            "('dst_host_srv_serror_rate', 'srv_serror_rate')\n",
            "('srv_serror_rate', 'serror_rate')\n",
            "('dst_host_srv_rerror_rate', 'rerror_rate')\n",
            "('dst_host_srv_rerror_rate', 'dst_host_rerror_rate')\n",
            "('dst_host_same_srv_rate', 'same_srv_rate')\n",
            "('srv_count', 'count')\n",
            "('dst_host_serror_rate', 'srv_serror_rate')\n",
            "('dst_host_rerror_rate', 'rerror_rate')\n",
            "('dst_host_serror_rate', 'serror_rate')\n",
            "('dst_host_srv_serror_rate', 'dst_host_serror_rate')\n",
            "('dst_host_rerror_rate', 'srv_rerror_rate')\n",
            "('dst_host_same_srv_rate', 'dst_host_srv_count')\n",
            "('srv_rerror_rate', 'rerror_rate')\n",
            "('dst_host_same_src_port_rate', 'srv_count')\n"
          ]
        }
      ]
    },
    {
      "cell_type": "code",
      "source": [
        "plt.figure(figsize=(12, 10))\n",
        "sns.heatmap(correlation_df, annot=False, cmap='coolwarm', fmt=\".2f\")\n",
        "plt.title('Correlation Matrix of Numeric Features')\n",
        "plt.show()"
      ],
      "metadata": {
        "id": "O2jMF_9k-oFb"
      },
      "id": "O2jMF_9k-oFb",
      "execution_count": null,
      "outputs": []
    },
    {
      "cell_type": "markdown",
      "metadata": {
        "id": "working-accident"
      },
      "source": [
        "### Analysis report (1 points)\n",
        "\n",
        "* Find the ratio of attacked transactions vs normal transactions\n",
        "\n",
        "    Hint: encode instrusion_type column by replacing normal with 1 and all other with 0\n",
        "\n",
        "* Describe the statistics of attacked and normal transactions\n",
        "    \n",
        "    Hint: Min, Max, Mean\n",
        "    \n",
        "* Select any two features that influence the intrusion_type and visualize the scatter plot to see the separation of normal and attacked"
      ],
      "id": "working-accident"
    },
    {
      "cell_type": "code",
      "metadata": {
        "id": "greatest-pressing",
        "colab": {
          "base_uri": "https://localhost:8080/"
        },
        "outputId": "c690abec-9512-40c7-cda5-ce9638da1f09"
      },
      "source": [
        "# Find the ratio of attacked transactions vs normal transactions\n",
        "# Hint: encode instrusion_type column by replacing normal with 1 and all other with 0\n",
        "\n",
        "from pyspark.sql.functions import when\n",
        "\n",
        "# Encode 'intrusion_type' column: 1 for 'normal.', 0 for others\n",
        "df_encoded = df.withColumn(\"is_normal\", when(df[\"intrusion_type\"] == \"normal.\", 1).otherwise(0))\n",
        "\n",
        "# Count normal and attacked transactions using the encoded column\n",
        "normal_count_encoded = df_encoded.filter(df_encoded[\"is_normal\"] == 1).count()\n",
        "attacked_count_encoded = df_encoded.filter(df_encoded[\"is_normal\"] == 0).count()\n",
        "\n",
        "# Calculate the ratio\n",
        "if normal_count_encoded > 0:\n",
        "    attacked_to_normal_ratio = attacked_count_encoded / normal_count_encoded\n",
        "    print(f\"Ratio of Attacked Transactions to Normal Transactions: {attacked_to_normal_ratio:.2f}\")\n",
        "else:\n",
        "    print(\"No normal transactions found in the dataset.\")\n",
        "\n",
        "print(f\"Normal transactions count: {normal_count_encoded}\")\n",
        "print(f\"Attacked transactions count: {attacked_count_encoded}\")"
      ],
      "id": "greatest-pressing",
      "execution_count": null,
      "outputs": [
        {
          "output_type": "stream",
          "name": "stdout",
          "text": [
            "Ratio of Attacked Transactions to Normal Transactions: 4.08\n",
            "Normal transactions count: 97278\n",
            "Attacked transactions count: 396743\n"
          ]
        }
      ]
    },
    {
      "cell_type": "code",
      "metadata": {
        "id": "dimensional-inspiration",
        "colab": {
          "base_uri": "https://localhost:8080/"
        },
        "outputId": "89b9f410-784c-4563-9e66-f33e479caa7b"
      },
      "source": [
        "# Describe the statistics of attacked and normal transactions\n",
        "# Hint: Min, Max, Mean\n",
        "\n",
        "# Separate normal and attacked transactions\n",
        "normal_df = df_encoded.filter(df_encoded[\"is_normal\"] == 1)\n",
        "attacked_df = df_encoded.filter(df_encoded[\"is_normal\"] == 0)\n",
        "\n",
        "print(\"Statistics for Normal Transactions:\")\n",
        "normal_df.select(numeric_cols).summary(\"min\", \"max\", \"mean\").show()\n",
        "\n",
        "print(\"Statistics for Attacked Transactions:\")\n",
        "attacked_df.select(numeric_cols).summary(\"min\", \"max\", \"mean\").show()"
      ],
      "id": "dimensional-inspiration",
      "execution_count": null,
      "outputs": [
        {
          "output_type": "stream",
          "name": "stdout",
          "text": [
            "Statistics for Normal Transactions:\n",
            "+-------+------------------+-----------------+-----------------+--------------------+--------------+--------------------+-------------------+--------------------+------------------+--------------------+--------------------+--------------------+-------------------+--------------------+--------------------+--------------------+-----------------+-------------+--------------------+-----------------+------------------+--------------------+--------------------+--------------------+--------------------+------------------+--------------------+-------------------+------------------+------------------+----------------------+----------------------+---------------------------+---------------------------+--------------------+------------------------+--------------------+------------------------+\n",
            "|summary|          duration|        src_bytes|        dst_bytes|                land|wrong_fragment|              urgent|                hot|   num_failed_logins|         logged_in|     num_compromised|          root_shell|        su_attempted|           num_root|  num_file_creations|          num_shells|    num_access_files|num_outbound_cmds|is_host_login|      is_guest_login|            count|         srv_count|         serror_rate|     srv_serror_rate|         rerror_rate|     srv_rerror_rate|     same_srv_rate|       diff_srv_rate| srv_diff_host_rate|    dst_host_count|dst_host_srv_count|dst_host_same_srv_rate|dst_host_diff_srv_rate|dst_host_same_src_port_rate|dst_host_srv_diff_host_rate|dst_host_serror_rate|dst_host_srv_serror_rate|dst_host_rerror_rate|dst_host_srv_rerror_rate|\n",
            "+-------+------------------+-----------------+-----------------+--------------------+--------------+--------------------+-------------------+--------------------+------------------+--------------------+--------------------+--------------------+-------------------+--------------------+--------------------+--------------------+-----------------+-------------+--------------------+-----------------+------------------+--------------------+--------------------+--------------------+--------------------+------------------+--------------------+-------------------+------------------+------------------+----------------------+----------------------+---------------------------+---------------------------+--------------------+------------------------+--------------------+------------------------+\n",
            "|    min|                 0|                0|                0|                   0|             0|                   0|                  0|                   0|                 0|                   0|                   0|                   0|                  0|                   0|                   0|                   0|                0|            0|                   0|                0|                 0|                 0.0|                 0.0|                 0.0|                 0.0|               0.0|                 0.0|                0.0|                 0|                 0|                   0.0|                   0.0|                        0.0|                        0.0|                 0.0|                     0.0|                 0.0|                     0.0|\n",
            "|    max|             58329|          2194619|          5134218|                   1|             0|                   3|                 30|                   4|                 1|                 884|                   1|                   2|                993|                  28|                   1|                   8|                0|            0|                   1|              511|               510|                 1.0|                 1.0|                 1.0|                 1.0|               1.0|                 1.0|                1.0|               255|               255|                   1.0|                   1.0|                        1.0|                        1.0|                 1.0|                     1.0|                 1.0|                     1.0|\n",
            "|   mean|216.65732231336992|1157.047523592179|3384.651000226156|1.027981660807171...|           0.0|3.083944982421513...|0.04451160591295051|1.850366989452908...|0.7189600937519275|0.028536770904007074|2.364357819856493...|1.747568823372191E-4|0.05608667941363926|0.004718435823104916|4.420321141470836...|0.005006270688130924|              0.0|          0.0|0.003813811961594605|8.163140689570097|10.936008141614753|0.001586175709832...|0.001793828004867...|0.055941014415118354|0.056236661952023016|0.9855016551878284|0.018239478780650877|0.13387117389501163|148.51213018359752|202.06409465655133|    0.8449914681776386|   0.05647926557747918|        0.13395197292809233|        0.02412292590703842|0.002121445742657...|    0.001068175729347...| 0.05771695551693182|     0.05582968410374955|\n",
            "+-------+------------------+-----------------+-----------------+--------------------+--------------+--------------------+-------------------+--------------------+------------------+--------------------+--------------------+--------------------+-------------------+--------------------+--------------------+--------------------+-----------------+-------------+--------------------+-----------------+------------------+--------------------+--------------------+--------------------+--------------------+------------------+--------------------+-------------------+------------------+------------------+----------------------+----------------------+---------------------------+---------------------------+--------------------+------------------------+--------------------+------------------------+\n",
            "\n",
            "Statistics for Attacked Transactions:\n",
            "+-------+-----------------+------------------+------------------+--------------------+--------------------+--------------------+-------------------+--------------------+--------------------+-------------------+--------------------+--------------------+--------------------+--------------------+--------------------+--------------------+-----------------+-------------+--------------------+-----------------+------------------+-------------------+-------------------+-------------------+-------------------+------------------+-------------------+--------------------+------------------+------------------+----------------------+----------------------+---------------------------+---------------------------+--------------------+------------------------+--------------------+------------------------+\n",
            "|summary|         duration|         src_bytes|         dst_bytes|                land|      wrong_fragment|              urgent|                hot|   num_failed_logins|           logged_in|    num_compromised|          root_shell|        su_attempted|            num_root|  num_file_creations|          num_shells|    num_access_files|num_outbound_cmds|is_host_login|      is_guest_login|            count|         srv_count|        serror_rate|    srv_serror_rate|        rerror_rate|    srv_rerror_rate|     same_srv_rate|      diff_srv_rate|  srv_diff_host_rate|    dst_host_count|dst_host_srv_count|dst_host_same_srv_rate|dst_host_diff_srv_rate|dst_host_same_src_port_rate|dst_host_srv_diff_host_rate|dst_host_serror_rate|dst_host_srv_serror_rate|dst_host_rerror_rate|dst_host_srv_rerror_rate|\n",
            "+-------+-----------------+------------------+------------------+--------------------+--------------------+--------------------+-------------------+--------------------+--------------------+-------------------+--------------------+--------------------+--------------------+--------------------+--------------------+--------------------+-----------------+-------------+--------------------+-----------------+------------------+-------------------+-------------------+-------------------+-------------------+------------------+-------------------+--------------------+------------------+------------------+----------------------+----------------------+---------------------------+---------------------------+--------------------+------------------------+--------------------+------------------------+\n",
            "|    min|                0|                 0|                 0|                   0|                   0|                   0|                  0|                   0|                   0|                  0|                   0|                   0|                   0|                   0|                   0|                   0|                0|            0|                   0|                0|                 0|                0.0|                0.0|                0.0|                0.0|               0.0|                0.0|                 0.0|                 1|                 1|                   0.0|                   0.0|                        0.0|                        0.0|                 0.0|                     0.0|                 0.0|                     0.0|\n",
            "|    max|            42448|         693375640|           5155468|                   1|                   3|                   2|                 28|                   5|                   1|                 38|                   1|                   1|                  54|                  21|                   2|                   2|                0|            0|                   1|              511|               511|                1.0|                1.0|                1.0|                1.0|               1.0|                1.0|                 1.0|               255|               255|                   1.0|                   1.0|                        1.0|                        1.0|                 1.0|                     1.0|                 1.0|                     1.0|\n",
            "|   mean|6.620890601724542|3483.7659517622237|251.60160859800928|5.293099059088629E-5|0.008010223242754126|1.008209344588310...|0.03206861872799268|1.436698316038342E-4|0.008312686046130618|0.00571906750717719|8.065674756706482E-5|2.520523361470775...|3.831195509435579...|1.915597754717789...|2.772575697617853...|2.772575697617853...|              0.0|          0.0|7.914443355018236E-4|411.7577751844393|362.04333031710706|0.21961980426430391|0.21947195035635628|0.05779933106011508|0.05808238583439886|0.7439913999023255|0.02165492509580918|0.003282502791681151|253.05672185772653|185.38049064507754|    0.7314153494140819|  0.024635318020263943|             0.716680143065|       0.002407503089816037| 0.21957236801016142|      0.2194429391321377| 0.05821584753813333|      0.0577995578984332|\n",
            "+-------+-----------------+------------------+------------------+--------------------+--------------------+--------------------+-------------------+--------------------+--------------------+-------------------+--------------------+--------------------+--------------------+--------------------+--------------------+--------------------+-----------------+-------------+--------------------+-----------------+------------------+-------------------+-------------------+-------------------+-------------------+------------------+-------------------+--------------------+------------------+------------------+----------------------+----------------------+---------------------------+---------------------------+--------------------+------------------------+--------------------+------------------------+\n",
            "\n"
          ]
        }
      ]
    },
    {
      "cell_type": "code",
      "metadata": {
        "id": "csNSaN2oaNYS",
        "colab": {
          "base_uri": "https://localhost:8080/",
          "height": 754
        },
        "outputId": "4d002274-41a0-412f-bae7-294b1c0f9451"
      },
      "source": [
        "# Select any two features that influence the intrusion_type and visualize the scatter plot to see the separation of normal and attacked\n",
        "\n",
        "import matplotlib.pyplot as plt\n",
        "import seaborn as sns\n",
        "import pandas as pd\n",
        "\n",
        "# Select two features and the encoded label\n",
        "features_to_plot = ['serror_rate', 'srv_serror_rate', 'is_normal']\n",
        "plot_df = df_encoded.select(features_to_plot).toPandas()\n",
        "\n",
        "# Create scatter plot\n",
        "plt.figure(figsize=(10, 8))\n",
        "sns.scatterplot(data=plot_df, x='serror_rate', y='srv_serror_rate', hue='is_normal', alpha=0.5)\n",
        "plt.title('Scatter Plot of serror_rate vs srv_serror_rate (Normal vs Attacked)')\n",
        "plt.xlabel('serror_rate')\n",
        "plt.ylabel('srv_serror_rate')\n",
        "plt.legend(title='Intrusion Type', labels=['Attacked', 'Normal'])\n",
        "plt.grid(True)\n",
        "plt.show()"
      ],
      "id": "csNSaN2oaNYS",
      "execution_count": null,
      "outputs": [
        {
          "output_type": "stream",
          "name": "stderr",
          "text": [
            "/usr/local/lib/python3.12/dist-packages/IPython/core/pylabtools.py:151: UserWarning: Creating legend with loc=\"best\" can be slow with large amounts of data.\n",
            "  fig.canvas.print_figure(bytes_io, **kw)\n"
          ]
        },
        {
          "output_type": "display_data",
          "data": {
            "text/plain": [
              "<Figure size 1000x800 with 1 Axes>"
            ],
            "image/png": "[encoded data removed]"
          },
          "metadata": {}
        }
      ]
    }
  ]
}