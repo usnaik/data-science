{
  "nbformat": 4,
  "nbformat_minor": 5,
  "metadata": {
    "kernelspec": {
      "display_name": "Python 3",
      "language": "python",
      "name": "python3"
    },
    "language_info": {
      "codemirror_mode": {
        "name": "ipython",
        "version": 3
      },
      "file_extension": ".py",
      "mimetype": "text/x-python",
      "name": "python",
      "nbconvert_exporter": "python",
      "pygments_lexer": "ipython3",
      "version": "3.9.2"
    },
    "colab": {
      "provenance": [],
      "include_colab_link": true
    }
  },
  "cells": [
    {
      "cell_type": "markdown",
      "metadata": {
        "id": "view-in-github",
        "colab_type": "text"
      },
      "source": [
        "<a href=\"https://colab.research.google.com/github/usnaik/data-science/blob/main/M7_NB_MiniProject_1_Movielens_Cassandra.ipynb\" target=\"_parent\"><img src=\"https://colab.research.google.com/assets/colab-badge.svg\" alt=\"Open In Colab\"/></a>"
      ]
    },
    {
      "cell_type": "markdown",
      "metadata": {
        "id": "UGX-JCC0Kfj_"
      },
      "source": [
        "# Advanced Certification Program in Computational Data Science\n",
        "## A program by IISc and TalentSprint\n",
        "### Mini-Project: Movielens data querying and analysis using NoSQL Database"
      ],
      "id": "UGX-JCC0Kfj_"
    },
    {
      "cell_type": "markdown",
      "metadata": {
        "id": "nKwRLuRawuMm"
      },
      "source": [
        "## Problem Statement"
      ],
      "id": "nKwRLuRawuMm"
    },
    {
      "cell_type": "markdown",
      "metadata": {
        "id": "GcfsHAkQKicm"
      },
      "source": [
        "Using the Cassandra NoSQL database, explore the **Movielens** dataset and build a movie recommendation engine"
      ],
      "id": "GcfsHAkQKicm"
    },
    {
      "cell_type": "markdown",
      "metadata": {
        "id": "solid-northeast"
      },
      "source": [
        "## Learning Objectives"
      ],
      "id": "solid-northeast"
    },
    {
      "cell_type": "markdown",
      "metadata": {
        "id": "automated-grass"
      },
      "source": [
        "At the end of the mini-project, you will be able to :\n",
        "\n",
        "* understand the concepts of NoSQL platforms\n",
        "* implement the database connectivity using Cassandra\n",
        "* create and insert data to the database\n",
        "* perform querying, retrieving and analyzing the data from database"
      ],
      "id": "automated-grass"
    },
    {
      "cell_type": "markdown",
      "metadata": {
        "id": "danish-guard"
      },
      "source": [
        "### Dataset"
      ],
      "id": "danish-guard"
    },
    {
      "cell_type": "markdown",
      "metadata": {
        "id": "ei4RdaJXKrsQ"
      },
      "source": [
        "The dataset chosen for this mini-project is [Movielens Dataset](https://movielens.org/). The dataset describes movies and ratings from Movielens. It contains movies from year 1919 to 2000 of total 3883 movies. There are 6040 users who have rated one or more than one movie of total 1000209 ratings collected. Movielens is maintained by members of GroupLens Research at the University of Minnesota. There are 3 datasets given, and they are:\n",
        "\n",
        "1. `data_movie.csv` that contains movies information:\n",
        "\n",
        "* MovieId\n",
        "* Title\n",
        "* Genres\n",
        "\n",
        "2. `data_rating.csv` that contains ratings of movies by users:\n",
        "\n",
        "* UserId\n",
        "* MovieId\n",
        "* Rating\n",
        "\n",
        "3. `data_users.csv` that contains users information:\n",
        "\n",
        "* UserId\n",
        "* Age\n",
        "* Gender"
      ],
      "id": "ei4RdaJXKrsQ"
    },
    {
      "cell_type": "markdown",
      "metadata": {
        "id": "color-conference"
      },
      "source": [
        "## Information"
      ],
      "id": "color-conference"
    },
    {
      "cell_type": "markdown",
      "metadata": {
        "id": "included-advocate"
      },
      "source": [
        "#### NoSQL platforms\n",
        "\n",
        "A NoSQL database provides a mechanism for storage and retrieval of data that is modeled in a form other than the tabular relations used in relational databases.\n",
        "\n",
        "**Cassandra**\n",
        "\n",
        "**Apache Cassandra** is a free and open-source, distributed, wide-column store, NoSQL database management system designed to handle large amounts of data across many commodity servers, **providing high availability** with no single point of failure. It is a NOSQL database developed by Facebook. It is a great database that allows you to effectively run queries on large amount of structured and semi structured data.\n",
        "\n",
        "To know when you have to choose Cassandra as your database of choice, you need to have an u**nderstanding of CAP Theorem**.\n",
        "\n",
        "**CAP theorem states** that it is impossible for a distributed system to satisfy all three of these guarantees together, you need to leave one out.\n",
        "\n",
        "- C is Consistency, means all nodes have the same data at the same time\n",
        "- **P is partition tolerance**, means that in case of failure the system continues to operate\n",
        "- **A is availability** , make sure every request receives a response\n",
        "\n",
        "![img](https://developer.ibm.com/developer/default/tutorials/ba-set-up-apache-cassandra-architecture/images/figure1.png)"
      ],
      "id": "included-advocate"
    },
    {
      "cell_type": "markdown",
      "metadata": {
        "id": "circular-ireland"
      },
      "source": [
        "### Components of Cassandra\n",
        "\n",
        "There are following components in the Cassandra\n",
        "\n",
        "![img](https://www.guru99.com/images/cassandra/021116_0524_CassandraAr1.png)\n",
        "\n",
        "**Node**\n",
        "Node is the place where data is stored. It is the basic component of Cassandra.\n",
        "\n",
        "**Data Center**\n",
        "A collection of nodes are called data center. Many nodes are categorized as a data center.\n",
        "\n",
        "**Cluster**\n",
        "The cluster is the collection of many data centers.\n",
        "\n",
        "**Commit Log**\n",
        "Every write operation is written to Commit Log. Commit log is used for crash recovery.\n",
        "\n",
        "**Mem-table**\n",
        "After data written in Commit log, data is written in Mem-table. Data is written in Mem-table temporarily.\n",
        "\n",
        "**SSTable**\n",
        "When Mem-table reaches a certain threshold, data is flushed to an SSTable disk file."
      ],
      "id": "circular-ireland"
    },
    {
      "cell_type": "markdown",
      "metadata": {
        "id": "emotional-michael"
      },
      "source": [
        "### Data Replication\n",
        "\n",
        "As hardware problem can occur or link can be down at any time during data process, a solution is required to provide a backup when the problem has occurred. So data is replicated for assuring no single point of failure.\n",
        "\n",
        "Cassandra places replicas of data on different nodes based on these two factors.\n",
        "- Where to place next replica is determined by the Replication Strategy.\n",
        "- While the total number of replicas placed on different nodes is determined by the Replication Factor.\n",
        "\n",
        "One Replication factor means that there is only a single copy of data while three replication factor means that there are three copies of the data on three different nodes."
      ],
      "id": "emotional-michael"
    },
    {
      "cell_type": "markdown",
      "metadata": {
        "id": "ndQNKsjS7c04"
      },
      "source": [
        "## Grading = 10 Points"
      ],
      "id": "ndQNKsjS7c04"
    },
    {
      "cell_type": "markdown",
      "metadata": {
        "id": "developed-value"
      },
      "source": [
        "**Install the cassandra-driver**"
      ],
      "id": "developed-value"
    },
    {
      "cell_type": "code",
      "metadata": {
        "id": "contrary-saturday",
        "colab": {
          "base_uri": "https://localhost:8080/"
        },
        "outputId": "37cf287a-1408-4c87-9d1c-262af341508e"
      },
      "source": [
        "!pip install cassandra-driver"
      ],
      "id": "contrary-saturday",
      "execution_count": null,
      "outputs": [
        {
          "output_type": "stream",
          "name": "stdout",
          "text": [
            "Collecting cassandra-driver\n",
            "  Downloading cassandra_driver-3.29.2-cp311-cp311-manylinux_2_17_x86_64.manylinux2014_x86_64.whl.metadata (6.2 kB)\n",
            "Collecting geomet<0.3,>=0.1 (from cassandra-driver)\n",
            "  Downloading geomet-0.2.1.post1-py3-none-any.whl.metadata (1.0 kB)\n",
            "Requirement already satisfied: click in /usr/local/lib/python3.11/dist-packages (from geomet<0.3,>=0.1->cassandra-driver) (8.2.1)\n",
            "Requirement already satisfied: six in /usr/local/lib/python3.11/dist-packages (from geomet<0.3,>=0.1->cassandra-driver) (1.17.0)\n",
            "Downloading cassandra_driver-3.29.2-cp311-cp311-manylinux_2_17_x86_64.manylinux2014_x86_64.whl (3.9 MB)\n",
            "\u001b[2K   \u001b[90m━━━━━━━━━━━━━━━━━━━━━━━━━━━━━━━━━━━━━━━━\u001b[0m \u001b[32m3.9/3.9 MB\u001b[0m \u001b[31m6.4 MB/s\u001b[0m eta \u001b[36m0:00:00\u001b[0m\n",
            "\u001b[?25hDownloading geomet-0.2.1.post1-py3-none-any.whl (18 kB)\n",
            "Installing collected packages: geomet, cassandra-driver\n",
            "Successfully installed cassandra-driver-3.29.2 geomet-0.2.1.post1\n"
          ]
        }
      ]
    },
    {
      "cell_type": "markdown",
      "metadata": {
        "id": "recorded-feelings"
      },
      "source": [
        "#### Importing Necessary Packages"
      ],
      "id": "recorded-feelings"
    },
    {
      "cell_type": "code",
      "metadata": {
        "id": "million-maintenance"
      },
      "source": [
        "import pandas as pd\n",
        "import cassandra\n",
        "from cassandra.cluster import Cluster\n",
        "from cassandra.auth import PlainTextAuthProvider\n",
        "from matplotlib import pyplot as plt\n",
        "\n",
        "from google.colab import userdata\n",
        "import warnings\n",
        "warnings.filterwarnings('ignore')"
      ],
      "id": "million-maintenance",
      "execution_count": null,
      "outputs": []
    },
    {
      "cell_type": "code",
      "metadata": {
        "id": "further-cowboy",
        "colab": {
          "base_uri": "https://localhost:8080/"
        },
        "outputId": "924c95b4-1935-44dd-c335-6e0a456aa009"
      },
      "source": [
        "print(cassandra.__version__)"
      ],
      "id": "further-cowboy",
      "execution_count": null,
      "outputs": [
        {
          "output_type": "stream",
          "name": "stdout",
          "text": [
            "3.29.2\n"
          ]
        }
      ]
    },
    {
      "cell_type": "markdown",
      "metadata": {
        "id": "governmental-front"
      },
      "source": [
        "### Database connection (2 points)\n",
        "\n",
        "**Astra Datastax login:** Please refer to this [document](https://cdn.iisc.talentsprint.com/CDS/DB_Connect_Docs/Datastax_Connect.pdf) for account creation on DataStax\n",
        "\n",
        "**Connect the database and create keyspace:**\n",
        "\n",
        "* Download Secure Connect Bundle zip file from Datastax [connect](https://docs.datastax.com/en/astra/docs/obtaining-database-credentials.html) section. Follow the instructions on the page\n",
        "* Upload the `Secure-connect-XXXX.zip` file, which is downloaded from datastax.\n",
        "* Generate the token and save the credentials from settings section.\n",
        "    - Hint: Select role as `admin-user` and generate token\n",
        "* Using the credentials generated in settings, specify the `client Id` and `Client Secret` to the variables below."
      ],
      "id": "governmental-front"
    },
    {
      "cell_type": "code",
      "source": [
        "#@title Download bundle zip\n",
        "!wget -qq https://cdn.exec.talentsprint.com/static/cds/content/secure_connect_cds_mov_database.zip\n",
        "!wget -qq https://cdn.exec.talentsprint.com/static/cds/content/data_movies.csv\n",
        "!wget -qq https://cdn.exec.talentsprint.com/static/cds/content/data_ratings.csv\n",
        "!wget -qq https://cdn.exec.talentsprint.com/static/cds/content/data_users.csv"
      ],
      "metadata": {
        "id": "Lx4EW5Azklp8"
      },
      "id": "Lx4EW5Azklp8",
      "execution_count": null,
      "outputs": []
    },
    {
      "cell_type": "code",
      "metadata": {
        "id": "accompanied-husband",
        "collapsed": true
      },
      "source": [
        "from google.colab import files\n",
        "# files.upload()"
      ],
      "id": "accompanied-husband",
      "execution_count": null,
      "outputs": []
    },
    {
      "cell_type": "markdown",
      "metadata": {
        "id": "bulgarian-michael"
      },
      "source": [
        "set the `Secure connect bundle zip file` path and specify the `clientID` and `Client_Secret`\n",
        "\n",
        "Note: Credentials used are from CDS account on Datastax\n",
        "\n",
        "**Database details:**\n",
        "\n",
        "Database name: cds_mov_database\n",
        "\n",
        "Namespace name: cds_mov\n",
        "\n",
        "Collection name: cds_mov_collection\n",
        "\n",
        "Collection name: cds_rating_collection\n",
        "\n",
        "Collection name: cds_user_collection\n",
        "\n",
        "zip_path = '/content/secure-connect-cds-mov-database.zip'\n",
        "\n",
        "Client_ID = 'Your_Client_ID'\n",
        "\n",
        "Client_Secret = 'Your_Client_Secret'"
      ],
      "id": "bulgarian-michael"
    },
    {
      "cell_type": "code",
      "metadata": {
        "id": "bearing-roads"
      },
      "source": [
        "# Enter the credentials below\n",
        "# zip_path = ''\n",
        "# Client_ID = ''\n",
        "# Client_Secret = ''\n",
        "\n",
        "zip_path = '/content/secure-connect-cds.zip'\n",
        "Client_ID = userdata.get('Client_ID')\n",
        "Client_Secret = userdata.get('Client_Secret')"
      ],
      "id": "bearing-roads",
      "execution_count": null,
      "outputs": []
    },
    {
      "cell_type": "markdown",
      "metadata": {
        "id": "u0GXrsCHK0H6"
      },
      "source": [
        "#### Create a Cluster instance to connect to your Astra database.\n",
        "\n",
        "You will typically have one instance of Cluster for each Cassandra cluster you want to interact with. Create a session object using the cluster.\n",
        "\n",
        "**Hint:** Refer Python documentation under Connect."
      ],
      "id": "u0GXrsCHK0H6"
    },
    {
      "cell_type": "code",
      "metadata": {
        "id": "personal-string"
      },
      "source": [
        "cloud_config= {\n",
        "        'secure_connect_bundle': zip_path\n",
        "}\n",
        "auth_provider = PlainTextAuthProvider(Client_ID,\n",
        "                                      Client_Secret)\n",
        "cluster = Cluster(cloud=cloud_config, auth_provider=auth_provider, protocol_version=4)\n",
        "session = cluster.connect()"
      ],
      "id": "personal-string",
      "execution_count": null,
      "outputs": []
    },
    {
      "cell_type": "markdown",
      "metadata": {
        "id": "sorted-modern"
      },
      "source": [
        "#### Verifying the database connection\n",
        "\n",
        "execute a simple query and verify the database connection"
      ],
      "id": "sorted-modern"
    },
    {
      "cell_type": "code",
      "metadata": {
        "id": "alike-alcohol",
        "colab": {
          "base_uri": "https://localhost:8080/"
        },
        "outputId": "a51f1292-2c96-41a9-e9bc-93aad23c39b8"
      },
      "source": [
        "row = session.execute(\"select release_version from system.local\").one()\n",
        "if row:\n",
        "    print(row[0])\n",
        "else:\n",
        "    print(\"An error occurred.\")"
      ],
      "id": "alike-alcohol",
      "execution_count": null,
      "outputs": [
        {
          "output_type": "stream",
          "name": "stdout",
          "text": [
            "4.0.11.0-cea3b83ec125\n"
          ]
        }
      ]
    },
    {
      "cell_type": "markdown",
      "metadata": {
        "id": "earlier-cedar"
      },
      "source": [
        "#### Setting the Key Space\n",
        "\n",
        "A keyspace is the top-level database object that controls the replication for the object it contains at each datacenter in the cluster. Keyspaces contain tables, materialized views and user-defined types, functions and aggregates. Typically, a cluster has one keyspace per application. Since replication is controlled on a per-keyspace basis, store data with different replication requirements (at the same datacenter) in different keyspaces.\n",
        "\n",
        "Before creating tables and inserting data let's create and set the keyspace\n",
        "\n",
        "* we can create keyspace manually on Datastax dashboard or also using the CQL command. (use lowercase to avoid errors)\n",
        "\n",
        "    * [Hint](https://docs.datastax.com/en/cql-oss/3.x/cql/cql_reference/cqlCreateKeyspace.html)\n",
        "\n",
        "* once the keyspace is created successfully, set the keyspace using the command `set_keyspace()`"
      ],
      "id": "earlier-cedar"
    },
    {
      "cell_type": "code",
      "metadata": {
        "id": "complicated-decision"
      },
      "source": [
        "try:\n",
        "    session.set_keyspace('movielens')\n",
        "except Exception as e:\n",
        "    print(e)"
      ],
      "id": "complicated-decision",
      "execution_count": null,
      "outputs": []
    },
    {
      "cell_type": "markdown",
      "metadata": {
        "id": "MwAu-oEU3KWP"
      },
      "source": [
        "### Insert the data into Database (1 point)\n",
        "\n",
        "To insert the data into database, we can create a table in keyspace and insert the data by using CQL command or we can directly upload the data on the datstax dashboard using [Astra Dataloader](https://docs.datastax.com/en/astra/docs/develop/dev-upload-data.html)\n",
        "\n",
        "As there is huge amount of data, insertion of data using CQL commands may take time, preferable method is Astra Dataloader.\n",
        "\n",
        "* Download the below mentioned 3 datasets and upload to Datastax Astra dashboard using Astra Dataloader\n",
        "    * [data_movies](https://cdn.iisc.talentsprint.com/CDS/MiniProjects/data_movies.csv)\n",
        "    * [data_ratings](https://cdn.iisc.talentsprint.com/CDS/MiniProjects/data_ratings.csv)\n",
        "    * [data_users](https://cdn.iisc.talentsprint.com/CDS/MiniProjects/data_users.csv)\n",
        "    \n",
        "while uploading data using Datastax Astra dataloader you may encounter the below error message due to formatting issues or bulk data. In that case, click on upload button for second time for data upload.\n",
        "![img](https://cdn.iisc.talentsprint.com/CDS/MiniProjects/data_upload_error.JPG)\n",
        "\n",
        "Note: Cassandra also handles non-SQL data formats such as JSON (see [insert JSON data](https://docs.datastax.com/en/cql-oss/3.3/cql/cql_using/useInsertJSON.html)). However for the purpose of this Mini-project, we are using a tabular data format (.csv)."
      ],
      "id": "MwAu-oEU3KWP"
    },
    {
      "cell_type": "markdown",
      "source": [
        "### Loading the data\n"
      ],
      "metadata": {
        "id": "1AIb5tS84Im3"
      },
      "id": "1AIb5tS84Im3"
    },
    {
      "cell_type": "code",
      "source": [
        "# Use pd.read_csv('data_movies.csv')\n",
        "data_movies = pd.read_csv('data_movies.csv')\n",
        "print(data_movies.shape)\n",
        "print(data_movies.head())"
      ],
      "metadata": {
        "id": "XbeyGSxl4Oie",
        "colab": {
          "base_uri": "https://localhost:8080/"
        },
        "outputId": "57e65aae-4614-4b0a-f6ed-20b733bcaa0a"
      },
      "id": "XbeyGSxl4Oie",
      "execution_count": null,
      "outputs": [
        {
          "output_type": "stream",
          "name": "stdout",
          "text": [
            "(3883, 3)\n",
            "   movieid                                           title           genres\n",
            "0     3372                   Bridge at Remagen, The (1969)       Action|War\n",
            "1     1584                                  Contact (1997)     Drama|Sci-Fi\n",
            "2     2731  400 Blows, The (Les Quatre cents coups) (1959)            Drama\n",
            "3     2713                              Lake Placid (1999)  Horror|Thriller\n",
            "4      769       Marlene Dietrich: Shadow and Light (1996)      Documentary\n"
          ]
        }
      ]
    },
    {
      "cell_type": "code",
      "source": [
        "# Use pd.read_csv('data_ratings.csv')\n",
        "data_ratings = pd.read_csv('data_ratings.csv')\n",
        "print(data_ratings.shape)\n",
        "print(data_ratings.head())"
      ],
      "metadata": {
        "id": "qVd2Q2aE4PUq",
        "colab": {
          "base_uri": "https://localhost:8080/"
        },
        "outputId": "45b0cc0c-0fe9-4e26-e843-4e141ce5fb73"
      },
      "id": "qVd2Q2aE4PUq",
      "execution_count": null,
      "outputs": [
        {
          "output_type": "stream",
          "name": "stdout",
          "text": [
            "(1000209, 3)\n",
            "   movieid  rating  userid\n",
            "0     2929       4    1119\n",
            "1      480       3    2918\n",
            "2     3536       5    5589\n",
            "3     3181       3    4277\n",
            "4     2916       3    4708\n"
          ]
        }
      ]
    },
    {
      "cell_type": "code",
      "source": [
        "# Use pd.read_csv('data_users.csv')\n",
        "data_users = pd.read_csv('data_users.csv')\n",
        "print(data_users.shape)\n",
        "print(data_users.head())"
      ],
      "metadata": {
        "id": "70cwiy3Z4WH7",
        "colab": {
          "base_uri": "https://localhost:8080/"
        },
        "outputId": "94c7319d-cb04-405e-bc10-a9f40a1f2633"
      },
      "id": "70cwiy3Z4WH7",
      "execution_count": null,
      "outputs": [
        {
          "output_type": "stream",
          "name": "stdout",
          "text": [
            "(6040, 3)\n",
            "   userid gender  age\n",
            "0       1      F    1\n",
            "1       2      M   56\n",
            "2       3      M   25\n",
            "3       4      M   45\n",
            "4       5      M   25\n"
          ]
        }
      ]
    },
    {
      "cell_type": "code",
      "source": [
        "# query = \"SELECT * FROM system_schema.tables;\"\n",
        "query = \"SELECT * FROM system_schema.tables WHERE keyspace_name = 'movielens';\"\n",
        "rows = session.execute(query)\n",
        "for row in rows:\n",
        "    print(row[0] +\" : \" + row[1] )"
      ],
      "metadata": {
        "colab": {
          "base_uri": "https://localhost:8080/"
        },
        "id": "du7dM8R-bXfK",
        "outputId": "0df306a6-d580-43d7-b921-a95222f886eb"
      },
      "id": "du7dM8R-bXfK",
      "execution_count": null,
      "outputs": [
        {
          "output_type": "stream",
          "name": "stdout",
          "text": [
            "movielens : data_movies\n",
            "movielens : data_ratings\n",
            "movielens : data_users\n"
          ]
        }
      ]
    },
    {
      "cell_type": "markdown",
      "metadata": {
        "id": "relevant-vacuum"
      },
      "source": [
        "### Querying the database (2 points)"
      ],
      "id": "relevant-vacuum"
    },
    {
      "cell_type": "markdown",
      "metadata": {
        "id": "OHtkA5P8gHku"
      },
      "source": [
        "* Select First 10 rows of the data_movies table\n",
        "* How many Users have watched the movie  `'Contact (1997)'` with MovieId = 1584\n",
        "* Select the count of teenage male users\n",
        "\n",
        "**Note:** For syntax related issues, try the **CQLConsole** on Datastax dashboard\n",
        "\n",
        "**Hint:** [CQL command for select](https://docs.datastax.com/en/cql-oss/3.3/cql/cql_using/useQueryColumnsSort.html)"
      ],
      "id": "OHtkA5P8gHku"
    },
    {
      "cell_type": "markdown",
      "source": [
        "#### Creating the data_movies table"
      ],
      "metadata": {
        "id": "FiCYYrTr5HPY"
      },
      "id": "FiCYYrTr5HPY"
    },
    {
      "cell_type": "code",
      "metadata": {
        "id": "familiar-architecture"
      },
      "source": [
        "# Use the following SQL query:\n",
        "# Creating the data_movies table\n",
        "query = \"\"\"CREATE TABLE  IF NOT EXISTS data_movies (movieid INT,\n",
        "                                                title TEXT,\n",
        "                                                genres TEXT,\n",
        "                                                PRIMARY KEY (movieid)); \"\"\"\n",
        "\n",
        "try:\n",
        "   session.execute(query)\n",
        "except Exception as e:\n",
        "    print(e)"
      ],
      "id": "familiar-architecture",
      "execution_count": null,
      "outputs": []
    },
    {
      "cell_type": "code",
      "source": [
        "import cassandra.query\n",
        "from cassandra.query import SimpleStatement, BatchStatement, BatchType"
      ],
      "metadata": {
        "id": "UYI49Pfz8rJv"
      },
      "id": "UYI49Pfz8rJv",
      "execution_count": null,
      "outputs": []
    },
    {
      "cell_type": "code",
      "source": [
        "# OPTION 1: FAST (BATCHED)\n",
        "data_movies_cols = ','.join(data_movies.columns.values)\n",
        "query = f'INSERT INTO movielens.data_movies ({data_movies_cols}) VALUES (?, ?, ?);'\n",
        "# query = 'INSERT INTO movielens.data_movies ({}) VALUES (?, ?, ?)'.format(data_movies_cols)\n",
        "prepared_query = session.prepare(query)\n",
        "\n",
        "BATCH_SIZE = 700\n",
        "batch = BatchStatement(batch_type=BatchType.LOGGED)\n",
        "# batch = BatchStatement()\n",
        "\n",
        "for i, row in data_movies.iterrows():\n",
        "    # Add the prepared statement and values to the batch\n",
        "    batch.add(prepared_query, tuple(row))\n",
        "\n",
        "    if (i+1) % BATCH_SIZE == 0:\n",
        "        session.execute(batch)\n",
        "        # Create a new batch after execution\n",
        "        batch = BatchStatement(batch_type=BatchType.LOGGED)\n",
        "        # batch.clear()\n",
        "\n",
        "# Execute the remaining items in the last batch\n",
        "if len(batch) > 0:\n",
        "    session.execute(batch)\n",
        "\n",
        "print(\"Inserted \", len(data_movies) ,\" rows into data_movies table\")"
      ],
      "metadata": {
        "colab": {
          "base_uri": "https://localhost:8080/"
        },
        "id": "adeCW55l3fnu",
        "outputId": "72a03c64-7d0f-4ede-e535-64575a13cc96",
        "collapsed": true
      },
      "id": "adeCW55l3fnu",
      "execution_count": null,
      "outputs": [
        {
          "output_type": "stream",
          "name": "stdout",
          "text": [
            "Inserted  3883  rows into data_movies table\n"
          ]
        }
      ]
    },
    {
      "cell_type": "code",
      "source": [
        "# OPTION-2 : SLOW\n",
        "# data_movies_cols = ','.join(data_movies.columns.values)\n",
        "# for (i,row) in data_movies.iterrows():\n",
        "#    query = 'INSERT INTO movielens.data_movies ({}) VALUES (%s, %s, %s)'.format(data_movies_cols)\n",
        "#    session.execute(query, tuple(row))"
      ],
      "metadata": {
        "id": "-V5xO3Py5u-T",
        "collapsed": true
      },
      "id": "-V5xO3Py5u-T",
      "execution_count": null,
      "outputs": []
    },
    {
      "cell_type": "code",
      "source": [
        "Query = 'SELECT COUNT(*) FROM movielens.data_movies;'\n",
        "count = session.execute(Query)\n",
        "\n",
        "count.one()"
      ],
      "metadata": {
        "colab": {
          "base_uri": "https://localhost:8080/"
        },
        "id": "sTnE-zsKnIQZ",
        "outputId": "866582c6-0355-406c-a805-2119a05109f1"
      },
      "id": "sTnE-zsKnIQZ",
      "execution_count": null,
      "outputs": [
        {
          "output_type": "stream",
          "name": "stderr",
          "text": [
            "WARNING:cassandra.protocol:Server warning: Aggregation query used without partition key\n"
          ]
        },
        {
          "output_type": "execute_result",
          "data": {
            "text/plain": [
              "Row(count=3883)"
            ]
          },
          "metadata": {},
          "execution_count": 18
        }
      ]
    },
    {
      "cell_type": "code",
      "source": [
        "# query = \"TRUNCATE movielens.data_movies;\"\n",
        "# try:\n",
        "#     session.execute(query)\n",
        "#     print(\"All rows from data_movies table truncated successfully.\")\n",
        "# except Exception as e:\n",
        "#     print(f\"Error truncating table: {e}\")"
      ],
      "metadata": {
        "id": "cfH_TjtMIVIU"
      },
      "id": "cfH_TjtMIVIU",
      "execution_count": null,
      "outputs": []
    },
    {
      "cell_type": "markdown",
      "source": [
        "**Please note that the above code cell will take around 6 mins 30 secs to complete execution on CPU**"
      ],
      "metadata": {
        "id": "_9bChZ8J6BFB"
      },
      "id": "_9bChZ8J6BFB"
    },
    {
      "cell_type": "markdown",
      "source": [
        "#### Creating the data_ratings table"
      ],
      "metadata": {
        "id": "XOxMFF6B51g9"
      },
      "id": "XOxMFF6B51g9"
    },
    {
      "cell_type": "code",
      "source": [
        "# query = \"DROP TABLE movielens.data_ratings;\"\n",
        "# try:\n",
        "#     session.execute(query)\n",
        "#     print(\"Table data_ratings dropped successfully.\")\n",
        "# except Exception as e:\n",
        "#     print(f\"Error dropping table: {e}\")"
      ],
      "metadata": {
        "id": "0ku0rmT8vGDn"
      },
      "id": "0ku0rmT8vGDn",
      "execution_count": null,
      "outputs": []
    },
    {
      "cell_type": "code",
      "metadata": {
        "id": "younger-audit"
      },
      "source": [
        "# Use the following SQL query:\n",
        "query = \"\"\"CREATE TABLE  IF NOT EXISTS data_ratings (movieid INT,\n",
        "                                                rating INT,\n",
        "                                                userid INT,\n",
        "                                                PRIMARY KEY (movieid,userid)); \"\"\"\n",
        "try:\n",
        "   session.execute(query)\n",
        "except Exception as e:\n",
        "    print(e)"
      ],
      "id": "younger-audit",
      "execution_count": null,
      "outputs": []
    },
    {
      "cell_type": "markdown",
      "source": [
        "**Limiting the DataFrame to the first 5000 rows**"
      ],
      "metadata": {
        "id": "hoBtcSaM6HYT"
      },
      "id": "hoBtcSaM6HYT"
    },
    {
      "cell_type": "code",
      "source": [
        "# Limiting the DataFrame to the first 5000 rows\n",
        "# data_ratings = data_ratings.head(5000)  # Replace 'data_ratings' with your actual DataFrame\n",
        "data_ratings.shape"
      ],
      "metadata": {
        "id": "8OyNamr56MAu",
        "colab": {
          "base_uri": "https://localhost:8080/"
        },
        "outputId": "3292a56b-85f5-4bc5-83d0-fecc1202ac67"
      },
      "id": "8OyNamr56MAu",
      "execution_count": null,
      "outputs": [
        {
          "output_type": "execute_result",
          "data": {
            "text/plain": [
              "(1000209, 3)"
            ]
          },
          "metadata": {},
          "execution_count": 22
        }
      ]
    },
    {
      "cell_type": "code",
      "metadata": {
        "id": "charged-demographic"
      },
      "source": [
        "# # Preparing to insert only the first 5000 rows\n",
        "# data_ratings_cols = ','.join(data_ratings.columns.values)\n",
        "\n",
        "# # Insert the 5000 rows into Cassandra table 'data_ratings'\n",
        "# for (i,row) in data_ratings.iterrows():\n",
        "#    insert_query = 'INSERT INTO movielens.data_ratings ({}) VALUES (%s, %s, %s)'.format(data_ratings_cols)\n",
        "#     # Use the following:\n",
        "# #    insert_query = f\"INSERT INTO movielens.data_ratings ({data_ratings_cols}) VALUES (%s, %s, %s)\"\n",
        "#    session.execute(insert_query, tuple(row))"
      ],
      "id": "charged-demographic",
      "execution_count": null,
      "outputs": []
    },
    {
      "cell_type": "code",
      "source": [
        "# OPTION 1: FAST (BATCH INSERT)\n",
        "data_ratings_cols = ','.join(data_ratings.columns.values)\n",
        "query = f'INSERT INTO movielens.data_ratings ({data_ratings_cols}) VALUES (?, ?, ?);'\n",
        "prepared_query = session.prepare(query)\n",
        "\n",
        "BATCH_SIZE = 700\n",
        "# batch = BatchStatement(batch_type=BatchType.LOGGED)\n",
        "batch = BatchStatement()\n",
        "\n",
        "for i, row in data_ratings.iterrows():\n",
        "    # Add the prepared statement and values to the batch\n",
        "    batch.add(prepared_query, tuple(row))\n",
        "\n",
        "    if (i+1) % BATCH_SIZE == 0:\n",
        "        session.execute(batch)\n",
        "        # Remove all statements added to specific batch instance\n",
        "        batch.clear()\n",
        "\n",
        "# Execute the remaining items in the last batch\n",
        "if len(batch) > 0:\n",
        "    session.execute(batch)\n",
        "\n",
        "print(\"Inserted \", len(data_ratings) ,\" rows into data_ratings table\")"
      ],
      "metadata": {
        "colab": {
          "base_uri": "https://localhost:8080/"
        },
        "id": "UFYDoBjsPjaB",
        "outputId": "342b17cd-1218-461a-847a-0c9bbc392601"
      },
      "id": "UFYDoBjsPjaB",
      "execution_count": null,
      "outputs": [
        {
          "output_type": "stream",
          "name": "stdout",
          "text": [
            "Inserted  1000209  rows into data_ratings table\n"
          ]
        }
      ]
    },
    {
      "cell_type": "code",
      "source": [
        "query = 'SELECT COUNT(*) FROM movielens.data_ratings ALLOW FILTERING;'\n",
        "# query = \"SELECT COUNT(*) FROM movielens.data_ratings WHERE partition_key_column = ('movieid','userid');\"\n",
        "# query = \"SELECT COUNT(*) FROM movielens.data_ratings WHERE partition_key_column = 'movieid' AND clustering_column ='userid');\"\n",
        "count = session.execute(query)\n",
        "count.one()"
      ],
      "metadata": {
        "colab": {
          "base_uri": "https://localhost:8080/"
        },
        "id": "uOKDJahyX5_R",
        "outputId": "39c85363-15ae-4333-ac80-49ca815f88a8"
      },
      "id": "uOKDJahyX5_R",
      "execution_count": null,
      "outputs": [
        {
          "output_type": "stream",
          "name": "stderr",
          "text": [
            "WARNING:cassandra.protocol:Server warning: Aggregation query used without partition key\n"
          ]
        },
        {
          "output_type": "execute_result",
          "data": {
            "text/plain": [
              "Row(count=1000209)"
            ]
          },
          "metadata": {},
          "execution_count": 25
        }
      ]
    },
    {
      "cell_type": "code",
      "source": [
        "# query = \"TRUNCATE movielens.data_ratings;\"\n",
        "# try:\n",
        "#     session.execute(query)\n",
        "#     print(\"All rows from data_ratings table truncated successfully.\")\n",
        "# except Exception as e:\n",
        "#     print(f\"Error truncating table: {e}\")"
      ],
      "metadata": {
        "id": "D2ji-IPRQPCm"
      },
      "id": "D2ji-IPRQPCm",
      "execution_count": null,
      "outputs": []
    },
    {
      "cell_type": "markdown",
      "source": [
        "**Please note that the above code cell will take around 8 mins 26 secs to complete execution on CPU**"
      ],
      "metadata": {
        "id": "7VUJHuyQ6PrK"
      },
      "id": "7VUJHuyQ6PrK"
    },
    {
      "cell_type": "markdown",
      "source": [
        "#### Creating the data_users table"
      ],
      "metadata": {
        "id": "V3_99qHE6y6r"
      },
      "id": "V3_99qHE6y6r"
    },
    {
      "cell_type": "code",
      "source": [
        "# Use the following SQL query:\n",
        "query = \"\"\"CREATE TABLE  IF NOT EXISTS data_users (userid INT,\n",
        "                                                gender TEXT,\n",
        "                                                age INT,\n",
        "                                                PRIMARY KEY (userid)); \"\"\"\n",
        "try:\n",
        "   session.execute(query)\n",
        "except Exception as e:\n",
        "    print(e)"
      ],
      "metadata": {
        "id": "AXAjH-Zf67jN"
      },
      "id": "AXAjH-Zf67jN",
      "execution_count": null,
      "outputs": []
    },
    {
      "cell_type": "code",
      "source": [
        "# data_users_cols = ','.join(data_users.columns.values)\n",
        "# for (i,row) in data_users.iterrows():\n",
        "#    query = 'INSERT INTO movielens.data_users ({}) VALUES (%s, %s, %s)'.format(data_users_cols)\n",
        "#    session.execute(query, tuple(row))"
      ],
      "metadata": {
        "id": "lB8RkIML7D_t"
      },
      "id": "lB8RkIML7D_t",
      "execution_count": null,
      "outputs": []
    },
    {
      "cell_type": "code",
      "source": [
        "# OPTION 1: FAST (BATCHED)\n",
        "data_users_cols = ','.join(data_users.columns.values)\n",
        "query = f'INSERT INTO movielens.data_users ({data_users_cols}) VALUES (?, ?, ?);'\n",
        "prepared_query = session.prepare(query)\n",
        "\n",
        "BATCH_SIZE = 700\n",
        "# batch = BatchStatement(batch_type=BatchType.LOGGED)\n",
        "batch = BatchStatement()\n",
        "\n",
        "for i, row in data_users.iterrows():\n",
        "    # Add the prepared statement and values to the batch\n",
        "    batch.add(prepared_query, tuple(row))\n",
        "\n",
        "    if (i+1) % BATCH_SIZE == 0:\n",
        "        session.execute(batch)\n",
        "        batch.clear()\n",
        "\n",
        "# Execute the remaining items in the last batch\n",
        "if len(batch) > 0:\n",
        "    session.execute(batch)\n",
        "\n",
        "print(\"Inserted \", len(data_users) ,\" rows into [data_users] table\")"
      ],
      "metadata": {
        "colab": {
          "base_uri": "https://localhost:8080/"
        },
        "id": "gBydUhXCRmfE",
        "outputId": "d3315bdb-4c96-4df3-a5d3-e6e5581cf7ab"
      },
      "id": "gBydUhXCRmfE",
      "execution_count": null,
      "outputs": [
        {
          "output_type": "stream",
          "name": "stdout",
          "text": [
            "Inserted  6040  rows into [data_users] table\n"
          ]
        }
      ]
    },
    {
      "cell_type": "code",
      "source": [
        "Query = 'SELECT COUNT(*) FROM movielens.data_users;'\n",
        "count = session.execute(Query)\n",
        "count.one()"
      ],
      "metadata": {
        "colab": {
          "base_uri": "https://localhost:8080/"
        },
        "id": "0heMkvavoFN8",
        "outputId": "5598acdc-d573-423c-9d75-dd7b62761351"
      },
      "id": "0heMkvavoFN8",
      "execution_count": null,
      "outputs": [
        {
          "output_type": "stream",
          "name": "stderr",
          "text": [
            "WARNING:cassandra.protocol:Server warning: Aggregation query used without partition key\n"
          ]
        },
        {
          "output_type": "execute_result",
          "data": {
            "text/plain": [
              "Row(count=6040)"
            ]
          },
          "metadata": {},
          "execution_count": 30
        }
      ]
    },
    {
      "cell_type": "code",
      "source": [
        "# query = \"TRUNCATE movielens.data_users;\"\n",
        "# try:\n",
        "#     session.execute(query)\n",
        "#     print(\"All rows from data_users table truncated successfully.\")\n",
        "# except Exception as e:\n",
        "#     print(f\"Error truncating table: {e}\")"
      ],
      "metadata": {
        "id": "bTlEnTB7bhBy"
      },
      "id": "bTlEnTB7bhBy",
      "execution_count": null,
      "outputs": []
    },
    {
      "cell_type": "markdown",
      "source": [
        "**Please note that the above code cell will take around 10 mins 11 secs to complete execution on CPU**"
      ],
      "metadata": {
        "id": "hC09OVjS6WbZ"
      },
      "id": "hC09OVjS6WbZ"
    },
    {
      "cell_type": "markdown",
      "source": [
        "* Select First 10 rows of the data_movies table"
      ],
      "metadata": {
        "id": "hnuEeQ8p7pE-"
      },
      "id": "hnuEeQ8p7pE-"
    },
    {
      "cell_type": "code",
      "source": [
        "query = \"SELECT * FROM movielens.data_movies LIMIT 10;\"\n",
        "rows = session.execute(query)\n",
        "for row in rows:\n",
        "    print(row)"
      ],
      "metadata": {
        "id": "j1UOAD1q7rP7",
        "colab": {
          "base_uri": "https://localhost:8080/"
        },
        "outputId": "7a81681e-1194-4181-abb0-19bd70183b4c"
      },
      "id": "j1UOAD1q7rP7",
      "execution_count": null,
      "outputs": [
        {
          "output_type": "stream",
          "name": "stdout",
          "text": [
            "Row(movieid=3372, genres='Action|War', title='Bridge at Remagen, The (1969)')\n",
            "Row(movieid=1584, genres='Drama|Sci-Fi', title='Contact (1997)')\n",
            "Row(movieid=2731, genres='Drama', title='400 Blows, The (Les Quatre cents coups) (1959)')\n",
            "Row(movieid=2713, genres='Horror|Thriller', title='Lake Placid (1999)')\n",
            "Row(movieid=769, genres='Documentary', title='Marlene Dietrich: Shadow and Light (1996)')\n",
            "Row(movieid=1863, genres='Comedy', title='Major League: Back to the Minors (1998)')\n",
            "Row(movieid=2453, genres='Drama|Fantasy', title='Boy Who Could Fly, The (1986)')\n",
            "Row(movieid=2302, genres='Comedy', title='My Cousin Vinny (1992)')\n",
            "Row(movieid=3733, genres='Drama', title='Paper Chase, The (1973)')\n",
            "Row(movieid=1765, genres='Crime|Drama', title='Letter From Death Row, A (1998)')\n"
          ]
        }
      ]
    },
    {
      "cell_type": "markdown",
      "source": [
        "* How many Users have watched the movie 'Contact (1997)' with MovieId = 1584\n",
        "\n",
        "**Hint:** Use the following query command.\n",
        "\n",
        "\"SELECT count(*) FROM cds_mov.data_ratings WHERE movieid=1584 ALLOW FILTERING;\""
      ],
      "metadata": {
        "id": "2WajQZ5O7yZe"
      },
      "id": "2WajQZ5O7yZe"
    },
    {
      "cell_type": "code",
      "source": [
        "query = \"SELECT count(*) FROM movielens.data_ratings WHERE movieid=1584 ALLOW FILTERING;\"\n",
        "count = session.execute(query)\n",
        "count.one()"
      ],
      "metadata": {
        "id": "yNTVuvk371e0",
        "colab": {
          "base_uri": "https://localhost:8080/"
        },
        "outputId": "886d7523-2c0d-4674-dd43-f39eb30d58a6"
      },
      "id": "yNTVuvk371e0",
      "execution_count": null,
      "outputs": [
        {
          "output_type": "execute_result",
          "data": {
            "text/plain": [
              "Row(count=1382)"
            ]
          },
          "metadata": {},
          "execution_count": 33
        }
      ]
    },
    {
      "cell_type": "markdown",
      "source": [
        "* Select the count of teenage male users\n",
        "\n",
        "**Hint:** Use the following query command.\n",
        "\n",
        "\"\"\"select count(*) from cds_mov.data_users where age<20 and gender='M' allow filtering;\"\"\""
      ],
      "metadata": {
        "id": "FVsyJZSb8STX"
      },
      "id": "FVsyJZSb8STX"
    },
    {
      "cell_type": "code",
      "source": [
        "query = \"select count(*) from movielens.data_users where age<20 and gender='M' allow filtering;\"\n",
        "count = session.execute(query)\n",
        "count.one()"
      ],
      "metadata": {
        "id": "gfQvLg9d8j5X",
        "colab": {
          "base_uri": "https://localhost:8080/"
        },
        "outputId": "a46fcabd-b374-4484-f4f0-6e580bb88b72"
      },
      "id": "gfQvLg9d8j5X",
      "execution_count": null,
      "outputs": [
        {
          "output_type": "stream",
          "name": "stderr",
          "text": [
            "WARNING:cassandra.protocol:Server warning: Aggregation query used without partition key\n"
          ]
        },
        {
          "output_type": "execute_result",
          "data": {
            "text/plain": [
              "Row(count=949)"
            ]
          },
          "metadata": {},
          "execution_count": 34
        }
      ]
    },
    {
      "cell_type": "markdown",
      "metadata": {
        "id": "sustainable-underwear"
      },
      "source": [
        "* Select the count of movies with Top rating from the entire ratings table"
      ],
      "id": "sustainable-underwear"
    },
    {
      "cell_type": "code",
      "metadata": {
        "id": "better-heath",
        "colab": {
          "base_uri": "https://localhost:8080/"
        },
        "outputId": "70b53b23-684e-4b93-dbc5-98259fed67d3"
      },
      "source": [
        "# Find the maximum rating in the data_ratings table\n",
        "query_max_rating = \"SELECT MAX(rating) FROM movielens.data_ratings ALLOW FILTERING;\"\n",
        "max_rating_row = session.execute(query_max_rating).one()\n",
        "max_rating = max_rating_row[0] if max_rating_row else None\n",
        "\n",
        "if max_rating is not None:\n",
        "    print(f\"The maximum rating is: {max_rating}\")\n",
        "    # Count movies with the top rating\n",
        "    query_count_top_rating = f\"SELECT COUNT(*) FROM movielens.data_ratings WHERE rating = {max_rating} ALLOW FILTERING;\"\n",
        "    count_top_rating_row = session.execute(query_count_top_rating).one()\n",
        "    count_top_rating = count_top_rating_row[0] if count_top_rating_row else None\n",
        "\n",
        "    if count_top_rating is not None:\n",
        "        print(f\"The count of movies with the top rating ({max_rating}) is: {count_top_rating}\")\n",
        "    else:\n",
        "        print(\"Could not retrieve the count of movies with the top rating.\")\n",
        "else:\n",
        "    print(\"Could not determine the maximum rating.\")"
      ],
      "id": "better-heath",
      "execution_count": null,
      "outputs": [
        {
          "output_type": "stream",
          "name": "stderr",
          "text": [
            "WARNING:cassandra.protocol:Server warning: Aggregation query used without partition key\n"
          ]
        },
        {
          "output_type": "stream",
          "name": "stdout",
          "text": [
            "The maximum rating is: 5\n"
          ]
        },
        {
          "output_type": "stream",
          "name": "stderr",
          "text": [
            "WARNING:cassandra.protocol:Server warning: Aggregation query used without partition key\n",
            "WARNING:cassandra.protocol:Server warning: Replica filtering protection has cached over 2000 rows during query SELECT rating FROM 34623230313566302d643538622d343462622d396662612d653131623935613466653135_movielens.data_ratings WHERE rating = 5 BYTES LIMIT 2097152. (See 'cached_replica_rows_warn_threshold' in cassandra.yaml.)\n",
            "WARNING:cassandra.protocol:Server warning: Replica filtering protection has cached over 2000 rows during query SELECT rating FROM 34623230313566302d643538622d343462622d396662612d653131623935613466653135_movielens.data_ratings WHERE rating = 5 AND token(movieid) >= token(253) CQLPagingLimits[super=BYTES LIMIT 2097152 ROWS LIMIT 2147437043, lastReturnedKey=000000fd, lastReturnedKeyRemaining=2147483520]. (See 'cached_replica_rows_warn_threshold' in cassandra.yaml.)\n",
            "WARNING:cassandra.protocol:Server warning: Replica filtering protection has cached over 2000 rows during query SELECT rating FROM 34623230313566302d643538622d343462622d396662612d653131623935613466653135_movielens.data_ratings WHERE rating = 5 AND token(movieid) >= token(1968) CQLPagingLimits[super=BYTES LIMIT 2097152 ROWS LIMIT 2147390439, lastReturnedKey=000007b0, lastReturnedKeyRemaining=2147483453]. (See 'cached_replica_rows_warn_threshold' in cassandra.yaml.)\n",
            "WARNING:cassandra.protocol:Server warning: Replica filtering protection has cached over 2000 rows during query SELECT rating FROM 34623230313566302d643538622d343462622d396662612d653131623935613466653135_movielens.data_ratings WHERE rating = 5 AND token(movieid) >= token(3435) CQLPagingLimits[super=BYTES LIMIT 2097152 ROWS LIMIT 2147343835, lastReturnedKey=00000d6b, lastReturnedKeyRemaining=2147483519]. (See 'cached_replica_rows_warn_threshold' in cassandra.yaml.)\n",
            "WARNING:cassandra.protocol:Server warning: Replica filtering protection has cached over 2000 rows during query SELECT rating FROM 34623230313566302d643538622d343462622d396662612d653131623935613466653135_movielens.data_ratings WHERE rating = 5 AND token(movieid) >= token(3062) CQLPagingLimits[super=BYTES LIMIT 2097152 ROWS LIMIT 2147297231, lastReturnedKey=00000bf6, lastReturnedKeyRemaining=2147483584]. (See 'cached_replica_rows_warn_threshold' in cassandra.yaml.)\n"
          ]
        },
        {
          "output_type": "stream",
          "name": "stdout",
          "text": [
            "The count of movies with the top rating (5) is: 226310\n"
          ]
        }
      ]
    },
    {
      "cell_type": "markdown",
      "metadata": {
        "id": "alleged-notebook"
      },
      "source": [
        "* Select the count of movies, ONLY in Comedy genre from the entire data_movies table"
      ],
      "id": "alleged-notebook"
    },
    {
      "cell_type": "code",
      "metadata": {
        "id": "enabling-display"
      },
      "source": [
        "# IMP : Query below will work only if 'geners' column has a seconday index\n",
        "# query = \"SELECT COUNT(*) FROM movielens.data_movies WHERE genres LIKE '%Comedy%' ALLOW FILTERING;\"\n",
        "# count = session.execute(query).one()\n",
        "\n",
        "# if count:\n",
        "#     print(f\"The count of movies only in the Comedy genre is: {count[0]}\")\n",
        "# else:\n",
        "#     print(\"Could not retrieve the count of movies only in the Comedy genre.\")"
      ],
      "id": "enabling-display",
      "execution_count": null,
      "outputs": []
    },
    {
      "cell_type": "code",
      "source": [
        "# COMEDY movies\n",
        "query = \"SELECT genres FROM movielens.data_movies;\"\n",
        "rows = session.execute(query)\n",
        "print(rows.one())\n",
        "\n",
        "comedy_count = sum(1 for row in rows if \"Comedy\" in row.genres)\n",
        "print(f\"Number of Comedy movies: {comedy_count}\")"
      ],
      "metadata": {
        "colab": {
          "base_uri": "https://localhost:8080/"
        },
        "id": "2sACwU_BkUpF",
        "outputId": "29092edd-db96-474d-971e-5c701889ccaa"
      },
      "id": "2sACwU_BkUpF",
      "execution_count": null,
      "outputs": [
        {
          "output_type": "stream",
          "name": "stdout",
          "text": [
            "Row(genres='Action|War')\n",
            "Number of Comedy movies: 1200\n"
          ]
        }
      ]
    },
    {
      "cell_type": "markdown",
      "metadata": {
        "id": "afraid-france"
      },
      "source": [
        "### Visualizing the Data (2 points)\n",
        "\n",
        "Retrieve the data using CQL queries and visualize using matplotlib"
      ],
      "id": "afraid-france"
    },
    {
      "cell_type": "markdown",
      "metadata": {
        "id": "damaged-laugh"
      },
      "source": [
        "* Visualize the frequencies of movie genres from the entire data\n",
        "\n",
        "**Hint:** Use the following query\n",
        "\n",
        "query = 'select genres from cds_mov.data_movies'"
      ],
      "id": "damaged-laugh"
    },
    {
      "cell_type": "code",
      "metadata": {
        "id": "acquired-solid",
        "colab": {
          "base_uri": "https://localhost:8080/",
          "height": 807
        },
        "outputId": "e9059fdf-2255-48a6-d5f6-f2b733ba9f2e"
      },
      "source": [
        "# Retrieve genres from the database\n",
        "query_genres = \"SELECT genres FROM movielens.data_movies;\"\n",
        "rows_genres = session.execute(query_genres)\n",
        "\n",
        "# Process genres to count frequencies\n",
        "genre_counts = {}\n",
        "for row in rows_genres:\n",
        "    genres_list = row.genres.split('|')\n",
        "    for genre in genres_list:\n",
        "        genre = genre.strip()\n",
        "        if genre:\n",
        "            genre_counts[genre] = genre_counts.get(genre, 0) + 1\n",
        "\n",
        "# Convert counts to a pandas Series for easier plotting\n",
        "genre_series = pd.Series(genre_counts).sort_values(ascending=False)\n",
        "\n",
        "# Visualize genre frequencies\n",
        "plt.figure(figsize=(12, 8))\n",
        "genre_series.plot(kind='bar')\n",
        "plt.title('Frequency of Movie Genres')\n",
        "plt.xlabel('Genre')\n",
        "plt.ylabel('Frequency')\n",
        "plt.xticks(rotation=45, ha='right')\n",
        "plt.tight_layout()\n",
        "plt.show()"
      ],
      "id": "acquired-solid",
      "execution_count": null,
      "outputs": [
        {
          "output_type": "display_data",
          "data": {
            "text/plain": [
              "<Figure size 1200x800 with 1 Axes>"
            ],
            "image/png": "[encoded data removed]"
          },
          "metadata": {}
        }
      ]
    },
    {
      "cell_type": "markdown",
      "metadata": {
        "id": "instant-immigration"
      },
      "source": [
        "* Visualize the bar plot showing no.of movies released in a particular year"
      ],
      "id": "instant-immigration"
    },
    {
      "cell_type": "code",
      "metadata": {
        "id": "theoretical-carol",
        "colab": {
          "base_uri": "https://localhost:8080/",
          "height": 707
        },
        "outputId": "20f671e1-9224-4028-8834-d97232cbe745"
      },
      "source": [
        "# Extract year from movie titles\n",
        "data_movies['year'] = data_movies['title'].str.extract(r'\\((\\d{4})\\)')\n",
        "\n",
        "# Count the number of movies per year\n",
        "movies_per_year = data_movies['year'].value_counts().sort_index()\n",
        "\n",
        "# Visualize the number of movies per year\n",
        "plt.figure(figsize=(15, 7))\n",
        "movies_per_year.plot(kind='bar')\n",
        "plt.title('Number of Movies Released Per Year')\n",
        "plt.xlabel('Year')\n",
        "plt.ylabel('Number of Movies')\n",
        "plt.xticks(rotation=90, ha='right')\n",
        "plt.tight_layout()\n",
        "plt.show()"
      ],
      "id": "theoretical-carol",
      "execution_count": null,
      "outputs": [
        {
          "output_type": "display_data",
          "data": {
            "text/plain": [
              "<Figure size 1500x700 with 1 Axes>"
            ],
            "image/png": "[encoded data removed]"
          },
          "metadata": {}
        }
      ]
    },
    {
      "cell_type": "markdown",
      "metadata": {
        "id": "pediatric-clothing"
      },
      "source": [
        "* Depict the plot of Age groups ratio who are active in watching movies\n",
        "\n",
        "**Hint:** Use the following query.\n",
        "\n",
        "query = 'select age from cds_mov.data_users;'"
      ],
      "id": "pediatric-clothing"
    },
    {
      "cell_type": "code",
      "metadata": {
        "id": "desirable-selection",
        "colab": {
          "base_uri": "https://localhost:8080/",
          "height": 625
        },
        "outputId": "b1d5b5a8-a0e5-4877-88e9-f9b5ab494274"
      },
      "source": [
        "# Retrieve age data from the database\n",
        "query_age = \"SELECT age FROM movielens.data_users;\"\n",
        "rows_age = session.execute(query_age)\n",
        "\n",
        "# Process age data to count frequencies\n",
        "age_counts = {}\n",
        "for row in rows_age:\n",
        "    age = row.age\n",
        "    if age in age_counts:\n",
        "        age_counts[age] += 1\n",
        "    else:\n",
        "        age_counts[age] = 1\n",
        "\n",
        "print(age_counts)\n",
        "\n",
        "# Convert counts to a pandas Series for easier plotting\n",
        "age_series = pd.Series(age_counts).sort_index()\n",
        "\n",
        "# Visualize age group distribution\n",
        "plt.figure(figsize=(10, 6))\n",
        "age_series.plot(kind='bar')\n",
        "plt.title('Distribution of User Age Groups')\n",
        "plt.xlabel('Age Group')\n",
        "plt.ylabel('Number of Users')\n",
        "plt.xticks(rotation=0)\n",
        "plt.tight_layout()\n",
        "plt.show()"
      ],
      "id": "desirable-selection",
      "execution_count": null,
      "outputs": [
        {
          "output_type": "stream",
          "name": "stdout",
          "text": [
            "{35: 1193, 56: 380, 25: 2096, 1: 222, 45: 550, 18: 1103, 50: 496}\n"
          ]
        },
        {
          "output_type": "display_data",
          "data": {
            "text/plain": [
              "<Figure size 1000x600 with 1 Axes>"
            ],
            "image/png": "[encoded data removed]"
          },
          "metadata": {}
        }
      ]
    },
    {
      "cell_type": "markdown",
      "metadata": {
        "id": "extensive-billy"
      },
      "source": [
        "### Analyzing the Data (3 points)\n",
        "\n",
        "Analyzing the correlation between the movies records, implement a function to recommend movies based on search term"
      ],
      "id": "extensive-billy"
    },
    {
      "cell_type": "markdown",
      "metadata": {
        "id": "southeast-buffalo"
      },
      "source": [
        "* Retrieve all the data from ratings table\n",
        "\n",
        "**Hint:** Use the following query.\n",
        "\n",
        "query = 'select * from cds_mov.data_ratings;'"
      ],
      "id": "southeast-buffalo"
    },
    {
      "cell_type": "code",
      "metadata": {
        "id": "related-google"
      },
      "source": [
        "query = 'select * from movielens.data_ratings;'\n",
        "rows = session.execute(query)"
      ],
      "id": "related-google",
      "execution_count": null,
      "outputs": []
    },
    {
      "cell_type": "markdown",
      "metadata": {
        "id": "continent-travel"
      },
      "source": [
        "* Create a movie matrix by applying pivot table with the above retrieved ratings data\n",
        "\n",
        "* use `pd.pivot_table` with index = `userid`, columns = `movieid` and Values = `rating`\n",
        "\n",
        " **Hint:** create a dataframe with above retrieved ratings data to apply pivot table"
      ],
      "id": "continent-travel"
    },
    {
      "cell_type": "code",
      "metadata": {
        "id": "prospective-polls",
        "colab": {
          "base_uri": "https://localhost:8080/",
          "height": 206
        },
        "outputId": "5ae01884-50e7-42be-fc51-64f57e71ea34"
      },
      "source": [
        "# Convert the results to a list of dictionaries\n",
        "ratings_list = []\n",
        "for row in rows:\n",
        "    ratings_list.append({'movieid': row.movieid, 'rating': row.rating, 'userid': row.userid})\n",
        "\n",
        "# Create a pandas DataFrame from the list\n",
        "data_ratings_df = pd.DataFrame(ratings_list)\n",
        "\n",
        "display(data_ratings_df.head())"
      ],
      "id": "prospective-polls",
      "execution_count": null,
      "outputs": [
        {
          "output_type": "display_data",
          "data": {
            "text/plain": [
              "   movieid  rating  userid\n",
              "0     3372       4     299\n",
              "1     3372       5     344\n",
              "2     3372       3     348\n",
              "3     3372       4     435\n",
              "4     3372       4     637"
            ],
            "text/html": [
              "\n",
              "  <div id=\"df-92dcd92d-ebd2-4368-96fa-45e83b348fc4\" class=\"colab-df-container\">\n",
              "    <div>\n",
              "<style scoped>\n",
              "    .dataframe tbody tr th:only-of-type {\n",
              "        vertical-align: middle;\n",
              "    }\n",
              "\n",
              "    .dataframe tbody tr th {\n",
              "        vertical-align: top;\n",
              "    }\n",
              "\n",
              "    .dataframe thead th {\n",
              "        text-align: right;\n",
              "    }\n",
              "</style>\n",
              "<table border=\"1\" class=\"dataframe\">\n",
              "  <thead>\n",
              "    <tr style=\"text-align: right;\">\n",
              "      <th></th>\n",
              "      <th>movieid</th>\n",
              "      <th>rating</th>\n",
              "      <th>userid</th>\n",
              "    </tr>\n",
              "  </thead>\n",
              "  <tbody>\n",
              "    <tr>\n",
              "      <th>0</th>\n",
              "      <td>3372</td>\n",
              "      <td>4</td>\n",
              "      <td>299</td>\n",
              "    </tr>\n",
              "    <tr>\n",
              "      <th>1</th>\n",
              "      <td>3372</td>\n",
              "      <td>5</td>\n",
              "      <td>344</td>\n",
              "    </tr>\n",
              "    <tr>\n",
              "      <th>2</th>\n",
              "      <td>3372</td>\n",
              "      <td>3</td>\n",
              "      <td>348</td>\n",
              "    </tr>\n",
              "    <tr>\n",
              "      <th>3</th>\n",
              "      <td>3372</td>\n",
              "      <td>4</td>\n",
              "      <td>435</td>\n",
              "    </tr>\n",
              "    <tr>\n",
              "      <th>4</th>\n",
              "      <td>3372</td>\n",
              "      <td>4</td>\n",
              "      <td>637</td>\n",
              "    </tr>\n",
              "  </tbody>\n",
              "</table>\n",
              "</div>\n",
              "    <div class=\"colab-df-buttons\">\n",
              "\n",
              "  <div class=\"colab-df-container\">\n",
              "    <button class=\"colab-df-convert\" onclick=\"convertToInteractive('df-92dcd92d-ebd2-4368-96fa-45e83b348fc4')\"\n",
              "            title=\"Convert this dataframe to an interactive table.\"\n",
              "            style=\"display:none;\">\n",
              "\n",
              "  <svg xmlns=\"http://www.w3.org/2000/svg\" height=\"24px\" viewBox=\"0 -960 960 960\">\n",
              "    <path d=\"M120-120v-720h720v720H120Zm60-500h600v-160H180v160Zm220 220h160v-160H400v160Zm0 220h160v-160H400v160ZM180-400h160v-160H180v160Zm440 0h160v-160H620v160ZM180-180h160v-160H180v160Zm440 0h160v-160H620v160Z\"/>\n",
              "  </svg>\n",
              "    </button>\n",
              "\n",
              "  <style>\n",
              "    .colab-df-container {\n",
              "      display:flex;\n",
              "      gap: 12px;\n",
              "    }\n",
              "\n",
              "    .colab-df-convert {\n",
              "      background-color: #E8F0FE;\n",
              "      border: none;\n",
              "      border-radius: 50%;\n",
              "      cursor: pointer;\n",
              "      display: none;\n",
              "      fill: #1967D2;\n",
              "      height: 32px;\n",
              "      padding: 0 0 0 0;\n",
              "      width: 32px;\n",
              "    }\n",
              "\n",
              "    .colab-df-convert:hover {\n",
              "      background-color: #E2EBFA;\n",
              "      box-shadow: 0px 1px 2px rgba(60, 64, 67, 0.3), 0px 1px 3px 1px rgba(60, 64, 67, 0.15);\n",
              "      fill: #174EA6;\n",
              "    }\n",
              "\n",
              "    .colab-df-buttons div {\n",
              "      margin-bottom: 4px;\n",
              "    }\n",
              "\n",
              "    [theme=dark] .colab-df-convert {\n",
              "      background-color: #3B4455;\n",
              "      fill: #D2E3FC;\n",
              "    }\n",
              "\n",
              "    [theme=dark] .colab-df-convert:hover {\n",
              "      background-color: #434B5C;\n",
              "      box-shadow: 0px 1px 3px 1px rgba(0, 0, 0, 0.15);\n",
              "      filter: drop-shadow(0px 1px 2px rgba(0, 0, 0, 0.3));\n",
              "      fill: #FFFFFF;\n",
              "    }\n",
              "  </style>\n",
              "\n",
              "    <script>\n",
              "      const buttonEl =\n",
              "        document.querySelector('#df-92dcd92d-ebd2-4368-96fa-45e83b348fc4 button.colab-df-convert');\n",
              "      buttonEl.style.display =\n",
              "        google.colab.kernel.accessAllowed ? 'block' : 'none';\n",
              "\n",
              "      async function convertToInteractive(key) {\n",
              "        const element = document.querySelector('#df-92dcd92d-ebd2-4368-96fa-45e83b348fc4');\n",
              "        const dataTable =\n",
              "          await google.colab.kernel.invokeFunction('convertToInteractive',\n",
              "                                                    [key], {});\n",
              "        if (!dataTable) return;\n",
              "\n",
              "        const docLinkHtml = 'Like what you see? Visit the ' +\n",
              "          '<a target=\"_blank\" href=https://colab.research.google.com/notebooks/data_table.ipynb>data table notebook</a>'\n",
              "          + ' to learn more about interactive tables.';\n",
              "        element.innerHTML = '';\n",
              "        dataTable['output_type'] = 'display_data';\n",
              "        await google.colab.output.renderOutput(dataTable, element);\n",
              "        const docLink = document.createElement('div');\n",
              "        docLink.innerHTML = docLinkHtml;\n",
              "        element.appendChild(docLink);\n",
              "      }\n",
              "    </script>\n",
              "  </div>\n",
              "\n",
              "\n",
              "    <div id=\"df-580f1a37-8535-43ee-8c63-fe66e7b5eaac\">\n",
              "      <button class=\"colab-df-quickchart\" onclick=\"quickchart('df-580f1a37-8535-43ee-8c63-fe66e7b5eaac')\"\n",
              "                title=\"Suggest charts\"\n",
              "                style=\"display:none;\">\n",
              "\n",
              "<svg xmlns=\"http://www.w3.org/2000/svg\" height=\"24px\"viewBox=\"0 0 24 24\"\n",
              "     width=\"24px\">\n",
              "    <g>\n",
              "        <path d=\"M19 3H5c-1.1 0-2 .9-2 2v14c0 1.1.9 2 2 2h14c1.1 0 2-.9 2-2V5c0-1.1-.9-2-2-2zM9 17H7v-7h2v7zm4 0h-2V7h2v10zm4 0h-2v-4h2v4z\"/>\n",
              "    </g>\n",
              "</svg>\n",
              "      </button>\n",
              "\n",
              "<style>\n",
              "  .colab-df-quickchart {\n",
              "      --bg-color: #E8F0FE;\n",
              "      --fill-color: #1967D2;\n",
              "      --hover-bg-color: #E2EBFA;\n",
              "      --hover-fill-color: #174EA6;\n",
              "      --disabled-fill-color: #AAA;\n",
              "      --disabled-bg-color: #DDD;\n",
              "  }\n",
              "\n",
              "  [theme=dark] .colab-df-quickchart {\n",
              "      --bg-color: #3B4455;\n",
              "      --fill-color: #D2E3FC;\n",
              "      --hover-bg-color: #434B5C;\n",
              "      --hover-fill-color: #FFFFFF;\n",
              "      --disabled-bg-color: #3B4455;\n",
              "      --disabled-fill-color: #666;\n",
              "  }\n",
              "\n",
              "  .colab-df-quickchart {\n",
              "    background-color: var(--bg-color);\n",
              "    border: none;\n",
              "    border-radius: 50%;\n",
              "    cursor: pointer;\n",
              "    display: none;\n",
              "    fill: var(--fill-color);\n",
              "    height: 32px;\n",
              "    padding: 0;\n",
              "    width: 32px;\n",
              "  }\n",
              "\n",
              "  .colab-df-quickchart:hover {\n",
              "    background-color: var(--hover-bg-color);\n",
              "    box-shadow: 0 1px 2px rgba(60, 64, 67, 0.3), 0 1px 3px 1px rgba(60, 64, 67, 0.15);\n",
              "    fill: var(--button-hover-fill-color);\n",
              "  }\n",
              "\n",
              "  .colab-df-quickchart-complete:disabled,\n",
              "  .colab-df-quickchart-complete:disabled:hover {\n",
              "    background-color: var(--disabled-bg-color);\n",
              "    fill: var(--disabled-fill-color);\n",
              "    box-shadow: none;\n",
              "  }\n",
              "\n",
              "  .colab-df-spinner {\n",
              "    border: 2px solid var(--fill-color);\n",
              "    border-color: transparent;\n",
              "    border-bottom-color: var(--fill-color);\n",
              "    animation:\n",
              "      spin 1s steps(1) infinite;\n",
              "  }\n",
              "\n",
              "  @keyframes spin {\n",
              "    0% {\n",
              "      border-color: transparent;\n",
              "      border-bottom-color: var(--fill-color);\n",
              "      border-left-color: var(--fill-color);\n",
              "    }\n",
              "    20% {\n",
              "      border-color: transparent;\n",
              "      border-left-color: var(--fill-color);\n",
              "      border-top-color: var(--fill-color);\n",
              "    }\n",
              "    30% {\n",
              "      border-color: transparent;\n",
              "      border-left-color: var(--fill-color);\n",
              "      border-top-color: var(--fill-color);\n",
              "      border-right-color: var(--fill-color);\n",
              "    }\n",
              "    40% {\n",
              "      border-color: transparent;\n",
              "      border-right-color: var(--fill-color);\n",
              "      border-top-color: var(--fill-color);\n",
              "    }\n",
              "    60% {\n",
              "      border-color: transparent;\n",
              "      border-right-color: var(--fill-color);\n",
              "    }\n",
              "    80% {\n",
              "      border-color: transparent;\n",
              "      border-right-color: var(--fill-color);\n",
              "      border-bottom-color: var(--fill-color);\n",
              "    }\n",
              "    90% {\n",
              "      border-color: transparent;\n",
              "      border-bottom-color: var(--fill-color);\n",
              "    }\n",
              "  }\n",
              "</style>\n",
              "\n",
              "      <script>\n",
              "        async function quickchart(key) {\n",
              "          const quickchartButtonEl =\n",
              "            document.querySelector('#' + key + ' button');\n",
              "          quickchartButtonEl.disabled = true;  // To prevent multiple clicks.\n",
              "          quickchartButtonEl.classList.add('colab-df-spinner');\n",
              "          try {\n",
              "            const charts = await google.colab.kernel.invokeFunction(\n",
              "                'suggestCharts', [key], {});\n",
              "          } catch (error) {\n",
              "            console.error('Error during call to suggestCharts:', error);\n",
              "          }\n",
              "          quickchartButtonEl.classList.remove('colab-df-spinner');\n",
              "          quickchartButtonEl.classList.add('colab-df-quickchart-complete');\n",
              "        }\n",
              "        (() => {\n",
              "          let quickchartButtonEl =\n",
              "            document.querySelector('#df-580f1a37-8535-43ee-8c63-fe66e7b5eaac button');\n",
              "          quickchartButtonEl.style.display =\n",
              "            google.colab.kernel.accessAllowed ? 'block' : 'none';\n",
              "        })();\n",
              "      </script>\n",
              "    </div>\n",
              "\n",
              "    </div>\n",
              "  </div>\n"
            ],
            "application/vnd.google.colaboratory.intrinsic+json": {
              "type": "dataframe",
              "summary": "{\n  \"name\": \"display(data_ratings_df\",\n  \"rows\": 5,\n  \"fields\": [\n    {\n      \"column\": \"movieid\",\n      \"properties\": {\n        \"dtype\": \"number\",\n        \"std\": 0,\n        \"min\": 3372,\n        \"max\": 3372,\n        \"num_unique_values\": 1,\n        \"samples\": [\n          3372\n        ],\n        \"semantic_type\": \"\",\n        \"description\": \"\"\n      }\n    },\n    {\n      \"column\": \"rating\",\n      \"properties\": {\n        \"dtype\": \"number\",\n        \"std\": 0,\n        \"min\": 3,\n        \"max\": 5,\n        \"num_unique_values\": 3,\n        \"samples\": [\n          4\n        ],\n        \"semantic_type\": \"\",\n        \"description\": \"\"\n      }\n    },\n    {\n      \"column\": \"userid\",\n      \"properties\": {\n        \"dtype\": \"number\",\n        \"std\": 134,\n        \"min\": 299,\n        \"max\": 637,\n        \"num_unique_values\": 5,\n        \"samples\": [\n          344\n        ],\n        \"semantic_type\": \"\",\n        \"description\": \"\"\n      }\n    }\n  ]\n}"
            }
          },
          "metadata": {}
        }
      ]
    },
    {
      "cell_type": "code",
      "source": [
        "# Create a movie matrix using pivot table\n",
        "movie_matrix = data_ratings_df.pivot_table(index='userid', columns='movieid', values='rating')\n",
        "\n",
        "# Handle missing values (NaN = 0)\n",
        "movie_matrix = movie_matrix.fillna(0)\n",
        "\n",
        "display(movie_matrix.head())"
      ],
      "metadata": {
        "colab": {
          "base_uri": "https://localhost:8080/",
          "height": 267
        },
        "id": "g_7TmveM2aph",
        "outputId": "035f130a-b2b8-4b8f-ba30-db23e0d03cf8"
      },
      "id": "g_7TmveM2aph",
      "execution_count": null,
      "outputs": [
        {
          "output_type": "display_data",
          "data": {
            "text/plain": [
              "movieid  1     2     3     4     5     6     7     8     9     10    ...  \\\n",
              "userid                                                               ...   \n",
              "1         5.0   0.0   0.0   0.0   0.0   0.0   0.0   0.0   0.0   0.0  ...   \n",
              "2         0.0   0.0   0.0   0.0   0.0   0.0   0.0   0.0   0.0   0.0  ...   \n",
              "3         0.0   0.0   0.0   0.0   0.0   0.0   0.0   0.0   0.0   0.0  ...   \n",
              "4         0.0   0.0   0.0   0.0   0.0   0.0   0.0   0.0   0.0   0.0  ...   \n",
              "5         0.0   0.0   0.0   0.0   0.0   2.0   0.0   0.0   0.0   0.0  ...   \n",
              "\n",
              "movieid  3943  3944  3945  3946  3947  3948  3949  3950  3951  3952  \n",
              "userid                                                               \n",
              "1         0.0   0.0   0.0   0.0   0.0   0.0   0.0   0.0   0.0   0.0  \n",
              "2         0.0   0.0   0.0   0.0   0.0   0.0   0.0   0.0   0.0   0.0  \n",
              "3         0.0   0.0   0.0   0.0   0.0   0.0   0.0   0.0   0.0   0.0  \n",
              "4         0.0   0.0   0.0   0.0   0.0   0.0   0.0   0.0   0.0   0.0  \n",
              "5         0.0   0.0   0.0   0.0   0.0   0.0   0.0   0.0   0.0   0.0  \n",
              "\n",
              "[5 rows x 3706 columns]"
            ],
            "text/html": [
              "\n",
              "  <div id=\"df-6b8c3f25-13e9-49f5-8994-1a967f17e037\" class=\"colab-df-container\">\n",
              "    <div>\n",
              "<style scoped>\n",
              "    .dataframe tbody tr th:only-of-type {\n",
              "        vertical-align: middle;\n",
              "    }\n",
              "\n",
              "    .dataframe tbody tr th {\n",
              "        vertical-align: top;\n",
              "    }\n",
              "\n",
              "    .dataframe thead th {\n",
              "        text-align: right;\n",
              "    }\n",
              "</style>\n",
              "<table border=\"1\" class=\"dataframe\">\n",
              "  <thead>\n",
              "    <tr style=\"text-align: right;\">\n",
              "      <th>movieid</th>\n",
              "      <th>1</th>\n",
              "      <th>2</th>\n",
              "      <th>3</th>\n",
              "      <th>4</th>\n",
              "      <th>5</th>\n",
              "      <th>6</th>\n",
              "      <th>7</th>\n",
              "      <th>8</th>\n",
              "      <th>9</th>\n",
              "      <th>10</th>\n",
              "      <th>...</th>\n",
              "      <th>3943</th>\n",
              "      <th>3944</th>\n",
              "      <th>3945</th>\n",
              "      <th>3946</th>\n",
              "      <th>3947</th>\n",
              "      <th>3948</th>\n",
              "      <th>3949</th>\n",
              "      <th>3950</th>\n",
              "      <th>3951</th>\n",
              "      <th>3952</th>\n",
              "    </tr>\n",
              "    <tr>\n",
              "      <th>userid</th>\n",
              "      <th></th>\n",
              "      <th></th>\n",
              "      <th></th>\n",
              "      <th></th>\n",
              "      <th></th>\n",
              "      <th></th>\n",
              "      <th></th>\n",
              "      <th></th>\n",
              "      <th></th>\n",
              "      <th></th>\n",
              "      <th></th>\n",
              "      <th></th>\n",
              "      <th></th>\n",
              "      <th></th>\n",
              "      <th></th>\n",
              "      <th></th>\n",
              "      <th></th>\n",
              "      <th></th>\n",
              "      <th></th>\n",
              "      <th></th>\n",
              "      <th></th>\n",
              "    </tr>\n",
              "  </thead>\n",
              "  <tbody>\n",
              "    <tr>\n",
              "      <th>1</th>\n",
              "      <td>5.0</td>\n",
              "      <td>0.0</td>\n",
              "      <td>0.0</td>\n",
              "      <td>0.0</td>\n",
              "      <td>0.0</td>\n",
              "      <td>0.0</td>\n",
              "      <td>0.0</td>\n",
              "      <td>0.0</td>\n",
              "      <td>0.0</td>\n",
              "      <td>0.0</td>\n",
              "      <td>...</td>\n",
              "      <td>0.0</td>\n",
              "      <td>0.0</td>\n",
              "      <td>0.0</td>\n",
              "      <td>0.0</td>\n",
              "      <td>0.0</td>\n",
              "      <td>0.0</td>\n",
              "      <td>0.0</td>\n",
              "      <td>0.0</td>\n",
              "      <td>0.0</td>\n",
              "      <td>0.0</td>\n",
              "    </tr>\n",
              "    <tr>\n",
              "      <th>2</th>\n",
              "      <td>0.0</td>\n",
              "      <td>0.0</td>\n",
              "      <td>0.0</td>\n",
              "      <td>0.0</td>\n",
              "      <td>0.0</td>\n",
              "      <td>0.0</td>\n",
              "      <td>0.0</td>\n",
              "      <td>0.0</td>\n",
              "      <td>0.0</td>\n",
              "      <td>0.0</td>\n",
              "      <td>...</td>\n",
              "      <td>0.0</td>\n",
              "      <td>0.0</td>\n",
              "      <td>0.0</td>\n",
              "      <td>0.0</td>\n",
              "      <td>0.0</td>\n",
              "      <td>0.0</td>\n",
              "      <td>0.0</td>\n",
              "      <td>0.0</td>\n",
              "      <td>0.0</td>\n",
              "      <td>0.0</td>\n",
              "    </tr>\n",
              "    <tr>\n",
              "      <th>3</th>\n",
              "      <td>0.0</td>\n",
              "      <td>0.0</td>\n",
              "      <td>0.0</td>\n",
              "      <td>0.0</td>\n",
              "      <td>0.0</td>\n",
              "      <td>0.0</td>\n",
              "      <td>0.0</td>\n",
              "      <td>0.0</td>\n",
              "      <td>0.0</td>\n",
              "      <td>0.0</td>\n",
              "      <td>...</td>\n",
              "      <td>0.0</td>\n",
              "      <td>0.0</td>\n",
              "      <td>0.0</td>\n",
              "      <td>0.0</td>\n",
              "      <td>0.0</td>\n",
              "      <td>0.0</td>\n",
              "      <td>0.0</td>\n",
              "      <td>0.0</td>\n",
              "      <td>0.0</td>\n",
              "      <td>0.0</td>\n",
              "    </tr>\n",
              "    <tr>\n",
              "      <th>4</th>\n",
              "      <td>0.0</td>\n",
              "      <td>0.0</td>\n",
              "      <td>0.0</td>\n",
              "      <td>0.0</td>\n",
              "      <td>0.0</td>\n",
              "      <td>0.0</td>\n",
              "      <td>0.0</td>\n",
              "      <td>0.0</td>\n",
              "      <td>0.0</td>\n",
              "      <td>0.0</td>\n",
              "      <td>...</td>\n",
              "      <td>0.0</td>\n",
              "      <td>0.0</td>\n",
              "      <td>0.0</td>\n",
              "      <td>0.0</td>\n",
              "      <td>0.0</td>\n",
              "      <td>0.0</td>\n",
              "      <td>0.0</td>\n",
              "      <td>0.0</td>\n",
              "      <td>0.0</td>\n",
              "      <td>0.0</td>\n",
              "    </tr>\n",
              "    <tr>\n",
              "      <th>5</th>\n",
              "      <td>0.0</td>\n",
              "      <td>0.0</td>\n",
              "      <td>0.0</td>\n",
              "      <td>0.0</td>\n",
              "      <td>0.0</td>\n",
              "      <td>2.0</td>\n",
              "      <td>0.0</td>\n",
              "      <td>0.0</td>\n",
              "      <td>0.0</td>\n",
              "      <td>0.0</td>\n",
              "      <td>...</td>\n",
              "      <td>0.0</td>\n",
              "      <td>0.0</td>\n",
              "      <td>0.0</td>\n",
              "      <td>0.0</td>\n",
              "      <td>0.0</td>\n",
              "      <td>0.0</td>\n",
              "      <td>0.0</td>\n",
              "      <td>0.0</td>\n",
              "      <td>0.0</td>\n",
              "      <td>0.0</td>\n",
              "    </tr>\n",
              "  </tbody>\n",
              "</table>\n",
              "<p>5 rows × 3706 columns</p>\n",
              "</div>\n",
              "    <div class=\"colab-df-buttons\">\n",
              "\n",
              "  <div class=\"colab-df-container\">\n",
              "    <button class=\"colab-df-convert\" onclick=\"convertToInteractive('df-6b8c3f25-13e9-49f5-8994-1a967f17e037')\"\n",
              "            title=\"Convert this dataframe to an interactive table.\"\n",
              "            style=\"display:none;\">\n",
              "\n",
              "  <svg xmlns=\"http://www.w3.org/2000/svg\" height=\"24px\" viewBox=\"0 -960 960 960\">\n",
              "    <path d=\"M120-120v-720h720v720H120Zm60-500h600v-160H180v160Zm220 220h160v-160H400v160Zm0 220h160v-160H400v160ZM180-400h160v-160H180v160Zm440 0h160v-160H620v160ZM180-180h160v-160H180v160Zm440 0h160v-160H620v160Z\"/>\n",
              "  </svg>\n",
              "    </button>\n",
              "\n",
              "  <style>\n",
              "    .colab-df-container {\n",
              "      display:flex;\n",
              "      gap: 12px;\n",
              "    }\n",
              "\n",
              "    .colab-df-convert {\n",
              "      background-color: #E8F0FE;\n",
              "      border: none;\n",
              "      border-radius: 50%;\n",
              "      cursor: pointer;\n",
              "      display: none;\n",
              "      fill: #1967D2;\n",
              "      height: 32px;\n",
              "      padding: 0 0 0 0;\n",
              "      width: 32px;\n",
              "    }\n",
              "\n",
              "    .colab-df-convert:hover {\n",
              "      background-color: #E2EBFA;\n",
              "      box-shadow: 0px 1px 2px rgba(60, 64, 67, 0.3), 0px 1px 3px 1px rgba(60, 64, 67, 0.15);\n",
              "      fill: #174EA6;\n",
              "    }\n",
              "\n",
              "    .colab-df-buttons div {\n",
              "      margin-bottom: 4px;\n",
              "    }\n",
              "\n",
              "    [theme=dark] .colab-df-convert {\n",
              "      background-color: #3B4455;\n",
              "      fill: #D2E3FC;\n",
              "    }\n",
              "\n",
              "    [theme=dark] .colab-df-convert:hover {\n",
              "      background-color: #434B5C;\n",
              "      box-shadow: 0px 1px 3px 1px rgba(0, 0, 0, 0.15);\n",
              "      filter: drop-shadow(0px 1px 2px rgba(0, 0, 0, 0.3));\n",
              "      fill: #FFFFFF;\n",
              "    }\n",
              "  </style>\n",
              "\n",
              "    <script>\n",
              "      const buttonEl =\n",
              "        document.querySelector('#df-6b8c3f25-13e9-49f5-8994-1a967f17e037 button.colab-df-convert');\n",
              "      buttonEl.style.display =\n",
              "        google.colab.kernel.accessAllowed ? 'block' : 'none';\n",
              "\n",
              "      async function convertToInteractive(key) {\n",
              "        const element = document.querySelector('#df-6b8c3f25-13e9-49f5-8994-1a967f17e037');\n",
              "        const dataTable =\n",
              "          await google.colab.kernel.invokeFunction('convertToInteractive',\n",
              "                                                    [key], {});\n",
              "        if (!dataTable) return;\n",
              "\n",
              "        const docLinkHtml = 'Like what you see? Visit the ' +\n",
              "          '<a target=\"_blank\" href=https://colab.research.google.com/notebooks/data_table.ipynb>data table notebook</a>'\n",
              "          + ' to learn more about interactive tables.';\n",
              "        element.innerHTML = '';\n",
              "        dataTable['output_type'] = 'display_data';\n",
              "        await google.colab.output.renderOutput(dataTable, element);\n",
              "        const docLink = document.createElement('div');\n",
              "        docLink.innerHTML = docLinkHtml;\n",
              "        element.appendChild(docLink);\n",
              "      }\n",
              "    </script>\n",
              "  </div>\n",
              "\n",
              "\n",
              "    <div id=\"df-6fd493dc-5cd8-4dc9-8ce5-13d021b214e5\">\n",
              "      <button class=\"colab-df-quickchart\" onclick=\"quickchart('df-6fd493dc-5cd8-4dc9-8ce5-13d021b214e5')\"\n",
              "                title=\"Suggest charts\"\n",
              "                style=\"display:none;\">\n",
              "\n",
              "<svg xmlns=\"http://www.w3.org/2000/svg\" height=\"24px\"viewBox=\"0 0 24 24\"\n",
              "     width=\"24px\">\n",
              "    <g>\n",
              "        <path d=\"M19 3H5c-1.1 0-2 .9-2 2v14c0 1.1.9 2 2 2h14c1.1 0 2-.9 2-2V5c0-1.1-.9-2-2-2zM9 17H7v-7h2v7zm4 0h-2V7h2v10zm4 0h-2v-4h2v4z\"/>\n",
              "    </g>\n",
              "</svg>\n",
              "      </button>\n",
              "\n",
              "<style>\n",
              "  .colab-df-quickchart {\n",
              "      --bg-color: #E8F0FE;\n",
              "      --fill-color: #1967D2;\n",
              "      --hover-bg-color: #E2EBFA;\n",
              "      --hover-fill-color: #174EA6;\n",
              "      --disabled-fill-color: #AAA;\n",
              "      --disabled-bg-color: #DDD;\n",
              "  }\n",
              "\n",
              "  [theme=dark] .colab-df-quickchart {\n",
              "      --bg-color: #3B4455;\n",
              "      --fill-color: #D2E3FC;\n",
              "      --hover-bg-color: #434B5C;\n",
              "      --hover-fill-color: #FFFFFF;\n",
              "      --disabled-bg-color: #3B4455;\n",
              "      --disabled-fill-color: #666;\n",
              "  }\n",
              "\n",
              "  .colab-df-quickchart {\n",
              "    background-color: var(--bg-color);\n",
              "    border: none;\n",
              "    border-radius: 50%;\n",
              "    cursor: pointer;\n",
              "    display: none;\n",
              "    fill: var(--fill-color);\n",
              "    height: 32px;\n",
              "    padding: 0;\n",
              "    width: 32px;\n",
              "  }\n",
              "\n",
              "  .colab-df-quickchart:hover {\n",
              "    background-color: var(--hover-bg-color);\n",
              "    box-shadow: 0 1px 2px rgba(60, 64, 67, 0.3), 0 1px 3px 1px rgba(60, 64, 67, 0.15);\n",
              "    fill: var(--button-hover-fill-color);\n",
              "  }\n",
              "\n",
              "  .colab-df-quickchart-complete:disabled,\n",
              "  .colab-df-quickchart-complete:disabled:hover {\n",
              "    background-color: var(--disabled-bg-color);\n",
              "    fill: var(--disabled-fill-color);\n",
              "    box-shadow: none;\n",
              "  }\n",
              "\n",
              "  .colab-df-spinner {\n",
              "    border: 2px solid var(--fill-color);\n",
              "    border-color: transparent;\n",
              "    border-bottom-color: var(--fill-color);\n",
              "    animation:\n",
              "      spin 1s steps(1) infinite;\n",
              "  }\n",
              "\n",
              "  @keyframes spin {\n",
              "    0% {\n",
              "      border-color: transparent;\n",
              "      border-bottom-color: var(--fill-color);\n",
              "      border-left-color: var(--fill-color);\n",
              "    }\n",
              "    20% {\n",
              "      border-color: transparent;\n",
              "      border-left-color: var(--fill-color);\n",
              "      border-top-color: var(--fill-color);\n",
              "    }\n",
              "    30% {\n",
              "      border-color: transparent;\n",
              "      border-left-color: var(--fill-color);\n",
              "      border-top-color: var(--fill-color);\n",
              "      border-right-color: var(--fill-color);\n",
              "    }\n",
              "    40% {\n",
              "      border-color: transparent;\n",
              "      border-right-color: var(--fill-color);\n",
              "      border-top-color: var(--fill-color);\n",
              "    }\n",
              "    60% {\n",
              "      border-color: transparent;\n",
              "      border-right-color: var(--fill-color);\n",
              "    }\n",
              "    80% {\n",
              "      border-color: transparent;\n",
              "      border-right-color: var(--fill-color);\n",
              "      border-bottom-color: var(--fill-color);\n",
              "    }\n",
              "    90% {\n",
              "      border-color: transparent;\n",
              "      border-bottom-color: var(--fill-color);\n",
              "    }\n",
              "  }\n",
              "</style>\n",
              "\n",
              "      <script>\n",
              "        async function quickchart(key) {\n",
              "          const quickchartButtonEl =\n",
              "            document.querySelector('#' + key + ' button');\n",
              "          quickchartButtonEl.disabled = true;  // To prevent multiple clicks.\n",
              "          quickchartButtonEl.classList.add('colab-df-spinner');\n",
              "          try {\n",
              "            const charts = await google.colab.kernel.invokeFunction(\n",
              "                'suggestCharts', [key], {});\n",
              "          } catch (error) {\n",
              "            console.error('Error during call to suggestCharts:', error);\n",
              "          }\n",
              "          quickchartButtonEl.classList.remove('colab-df-spinner');\n",
              "          quickchartButtonEl.classList.add('colab-df-quickchart-complete');\n",
              "        }\n",
              "        (() => {\n",
              "          let quickchartButtonEl =\n",
              "            document.querySelector('#df-6fd493dc-5cd8-4dc9-8ce5-13d021b214e5 button');\n",
              "          quickchartButtonEl.style.display =\n",
              "            google.colab.kernel.accessAllowed ? 'block' : 'none';\n",
              "        })();\n",
              "      </script>\n",
              "    </div>\n",
              "\n",
              "    </div>\n",
              "  </div>\n"
            ],
            "application/vnd.google.colaboratory.intrinsic+json": {
              "type": "dataframe"
            }
          },
          "metadata": {}
        }
      ]
    },
    {
      "cell_type": "markdown",
      "metadata": {
        "id": "surgical-level"
      },
      "source": [
        "* Define a function named `recommend_movies()` which will take a movieid as argument and return the top 5 similar movieid's\n",
        "\n",
        "    * Considering the argument (movieid) as search item collect the particular row data\n",
        "    \n",
        "    * Using movie matrix calculate correlation between movie search Item data and all the remaining data\n",
        "    \n",
        "        * Hint: [corr_with()](https://pandas.pydata.org/docs/reference/api/pandas.DataFrame.corrwith.html)\n",
        "        \n",
        "    * Sort the result by ascending order and return the top 5 items"
      ],
      "id": "surgical-level"
    },
    {
      "cell_type": "code",
      "source": [
        "def recommend_movie(movieid):\n",
        "    \"\"\"\n",
        "    Recommends the top 5 similar movies based on the movie matrix.\n",
        "\n",
        "    Args:\n",
        "        movieid (int): The ID of the movie to recommend similar movies for.\n",
        "\n",
        "    Returns:\n",
        "        pandas.Series: A Series containing the top 5 most similar movie IDs,\n",
        "                       sorted by correlation in descending order.\n",
        "    \"\"\"\n",
        "    # Get the ratings for the input movie\n",
        "    movie_ratings = movie_matrix[movieid]\n",
        "\n",
        "    # Calculate the correlation between the input movie and all other movies\n",
        "    similar_movies = movie_matrix.corrwith(movie_ratings)\n",
        "\n",
        "    # Drop the input movie itself from the results\n",
        "    similar_movies = similar_movies.drop(movieid)\n",
        "\n",
        "    # Sort the similar movies by correlation in descending order and get the top 5\n",
        "    recommended_movies = similar_movies.sort_values(ascending=False).head(5)\n",
        "\n",
        "    return recommended_movies"
      ],
      "metadata": {
        "id": "d2uFEXz92kby"
      },
      "id": "d2uFEXz92kby",
      "execution_count": null,
      "outputs": []
    },
    {
      "cell_type": "markdown",
      "metadata": {
        "id": "afraid-ivory"
      },
      "source": [
        "* write a query to get MovieId of a Title (your choice) and the result MovieId as a search item by calling the above defined function"
      ],
      "id": "afraid-ivory"
    },
    {
      "cell_type": "code",
      "metadata": {
        "id": "damaged-starter",
        "colab": {
          "base_uri": "https://localhost:8080/"
        },
        "outputId": "1ef8ec35-2ccf-4a58-83ef-eb099f6e6f9e"
      },
      "source": [
        "# Choose a movie title\n",
        "movie_title = 'Contact (1997)'\n",
        "# movie_title = 'Boy Who Could Fly, The (1986)'\n",
        "# movie_title = 'Lake Placid (1999)'\n",
        "\n",
        "# Query to get the movieid for the chosen title\n",
        "query_movieid = f\"SELECT movieid, genres FROM movielens.data_movies WHERE title = '{movie_title}' ALLOW FILTERING;\"\n",
        "row_movieid = session.execute(query_movieid).one()\n",
        "\n",
        "if row_movieid:\n",
        "    movie_id = row_movieid.movieid\n",
        "    movie_genres = row_movieid.genres\n",
        "    print(f\"The MovieId for '{movie_title}' is: {movie_id} and Geners is '{movie_genres}'\")\n",
        "\n",
        "    # Get recommendations using the recommend_movie function\n",
        "    recommendations = recommend_movie(movie_id)\n",
        "\n",
        "    print(f\"\\nTop 5 movie recommendations for '{movie_title}':\")\n",
        "    print(recommendations)\n",
        "else:\n",
        "    print(f\"Could not find the MovieId for '{movie_title}'.\")"
      ],
      "id": "damaged-starter",
      "execution_count": null,
      "outputs": [
        {
          "output_type": "stream",
          "name": "stdout",
          "text": [
            "The MovieId for 'Contact (1997)' is: 1584 and Geners is 'Drama|Sci-Fi'\n",
            "\n",
            "Top 5 movie recommendations for 'Contact (1997)':\n",
            "movieid\n",
            "1653    0.471269\n",
            "32      0.461047\n",
            "1396    0.451993\n",
            "1527    0.418655\n",
            "1909    0.412292\n",
            "dtype: float64\n"
          ]
        }
      ]
    },
    {
      "cell_type": "markdown",
      "metadata": {
        "id": "altered-testimony"
      },
      "source": [
        "* Now taking the result of top 5 items (MovieId's) write a query to retrieve the Movie title from movies table"
      ],
      "id": "altered-testimony"
    },
    {
      "cell_type": "code",
      "metadata": {
        "id": "knowing-keyboard",
        "colab": {
          "base_uri": "https://localhost:8080/"
        },
        "outputId": "f648925f-61e9-4d5b-9092-96afdc3d91b0"
      },
      "source": [
        "# Get the list of recommended movie IDs\n",
        "recommended_movie_ids = recommendations.index.tolist()\n",
        "\n",
        "# Query to get the titles for the recommended movie IDs\n",
        "# Using IN clause for multiple movieids\n",
        "query_titles = f\"SELECT movieid, title, genres FROM movielens.data_movies WHERE movieid IN ({','.join(map(str, recommended_movie_ids))});\"\n",
        "\n",
        "rows_titles = session.execute(query_titles)\n",
        "\n",
        "print(\"\\nRecommended Movie Titles:\")\n",
        "for row in rows_titles:\n",
        "    print(f\"MovieId: {row.movieid}, Title: {row.title}, Genres: {row.genres}\")"
      ],
      "id": "knowing-keyboard",
      "execution_count": null,
      "outputs": [
        {
          "output_type": "stream",
          "name": "stdout",
          "text": [
            "\n",
            "Recommended Movie Titles:\n",
            "MovieId: 32, Title: Twelve Monkeys (1995), Genres: Drama|Sci-Fi\n",
            "MovieId: 1396, Title: Sneakers (1992), Genres: Crime|Drama|Sci-Fi\n",
            "MovieId: 1527, Title: Fifth Element, The (1997), Genres: Action|Sci-Fi\n",
            "MovieId: 1653, Title: Gattaca (1997), Genres: Drama|Sci-Fi|Thriller\n",
            "MovieId: 1909, Title: X-Files: Fight the Future, The (1998), Genres: Mystery|Sci-Fi|Thriller\n"
          ]
        }
      ]
    },
    {
      "cell_type": "markdown",
      "source": [
        "**Close the session**"
      ],
      "metadata": {
        "id": "q6C9QNGklpfC"
      },
      "id": "q6C9QNGklpfC"
    },
    {
      "cell_type": "code",
      "source": [
        "session.shutdown()\n",
        "cluster.shutdown()"
      ],
      "metadata": {
        "id": "PNiAutcV349x"
      },
      "id": "PNiAutcV349x",
      "execution_count": null,
      "outputs": []
    }
  ]
}